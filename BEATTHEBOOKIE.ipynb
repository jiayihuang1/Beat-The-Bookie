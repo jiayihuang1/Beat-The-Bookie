{
  "cells": [
    {
      "cell_type": "markdown",
      "metadata": {
        "id": "view-in-github",
        "colab_type": "text"
      },
      "source": [
        "<a href=\"https://colab.research.google.com/github/jiayihuang1/Beat-The-Bookie/blob/main/BEATTHEBOOKIE.ipynb\" target=\"_parent\"><img src=\"https://colab.research.google.com/assets/colab-badge.svg\" alt=\"Open In Colab\"/></a>"
      ]
    },
    {
      "cell_type": "markdown",
      "metadata": {
        "id": "YzKLsbxe7YYO"
      },
      "source": [
        "# Beat the Bookies"
      ]
    },
    {
      "cell_type": "markdown",
      "metadata": {
        "id": "wsD7qRCa7YYP"
      },
      "source": [
        "# Introduction\n",
        "To predict EPL football matches in 2022, we have built a predictive classification model that takes in features such as: ELO ratings, last N games played, distance travelled by away teams, club expenses and net spending. Data provided and additional data collected were used to generate our features. For our classification model, we considered various algorithms, that have all been trained, validated and evaluated to choose the best performing model. In our case, Linear Discriminant Analysis was the best model, producing a training accuracy of 65%."
      ]
    },
    {
      "cell_type": "markdown",
      "metadata": {
        "id": "Lecpr0sFJ_Ug"
      },
      "source": [
        "\n",
        "# Import Libraries"
      ]
    },
    {
      "cell_type": "code",
      "execution_count": null,
      "metadata": {
        "id": "ZWXIEhQ2KUqH"
      },
      "outputs": [],
      "source": [
        "import csv\n",
        "import pandas as pd\n",
        "import numpy as np\n",
        "from pandas import read_csv\n",
        "from datetime import datetime\n",
        "import matplotlib.pyplot as plt\n",
        "import requests\n",
        "from bs4 import BeautifulSoup\n",
        "from numpy import set_printoptions\n",
        "\n",
        "from sklearn.model_selection import train_test_split\n",
        "from sklearn.preprocessing import StandardScaler\n",
        "from sklearn.preprocessing import MaxAbsScaler\n",
        "\n",
        "from sklearn.discriminant_analysis import LinearDiscriminantAnalysis as LDA\n",
        "from sklearn.discriminant_analysis import QuadraticDiscriminantAnalysis as QDA\n",
        "from sklearn.linear_model import LogisticRegression\n",
        "from sklearn.naive_bayes import GaussianNB\n",
        "from sklearn.ensemble import RandomForestClassifier\n",
        "from sklearn import linear_model\n",
        "from sklearn.linear_model import LinearRegression\n",
        "from sklearn.preprocessing import PolynomialFeatures\n",
        "from sklearn.ensemble import RandomForestRegressor\n",
        "from sklearn.model_selection import GridSearchCV\n",
        "from sklearn.svm import SVR\n",
        "from sklearn.svm import SVC\n",
        "from sklearn.discriminant_analysis import QuadraticDiscriminantAnalysis as QDA\n",
        "from sklearn.discriminant_analysis import LinearDiscriminantAnalysis as LDA\n",
        "\n",
        "from sklearn.metrics import make_scorer\n",
        "from sklearn.metrics import accuracy_score, roc_curve, precision_recall_curve\n",
        "from sklearn.metrics import mean_squared_error\n",
        "from sklearn.model_selection import cross_val_score\n",
        "from sklearn import metrics\n",
        "from sklearn.utils import resample\n",
        "from scipy.stats import expon\n",
        "import seaborn as sb\n",
        "\n",
        "from sklearn.feature_selection import SelectKBest\n",
        "from sklearn.feature_selection import f_classif\n",
        "from sklearn.feature_selection import mutual_info_classif"
      ]
    },
    {
      "cell_type": "markdown",
      "metadata": {
        "id": "twAtyvHMulJ7"
      },
      "source": [
        "# Import Data"
      ]
    },
    {
      "cell_type": "code",
      "execution_count": null,
      "metadata": {
        "id": "PV3kdHZB7YYR"
      },
      "outputs": [],
      "source": [
        "# changing directory\n",
        "import os\n",
        "\n",
        "os.chdir(\"\\\\Users\\Jia Yi\\Desktop\\Machine Learning\\Group CW\")"
      ]
    },
    {
      "cell_type": "code",
      "execution_count": null,
      "metadata": {
        "id": "ddxkgdtUJ8-e"
      },
      "outputs": [],
      "source": [
        "#Loading dataframe in Pandas\n",
        "df_epl = pd.read_csv('epl-training2.csv')\n",
        "df_dist = pd.read_csv('dist.csv')\n",
        "df_pred = pd.read_csv('epl-test.csv')"
      ]
    },
    {
      "cell_type": "markdown",
      "metadata": {
        "id": "lCND25RPum9X"
      },
      "source": [
        "# Data Pre-Processing\n",
        "Firstly, we remove empty columns from all of our data."
      ]
    },
    {
      "cell_type": "code",
      "execution_count": null,
      "metadata": {
        "colab": {
          "base_uri": "https://localhost:8080/"
        },
        "id": "A_dnicVsvLWP",
        "outputId": "0da7f18d-0ddd-441a-c4a6-76f120f43624"
      },
      "outputs": [
        {
          "name": "stdout",
          "output_type": "stream",
          "text": [
            "<class 'pandas.core.frame.DataFrame'>\n",
            "RangeIndex: 4723 entries, 0 to 4722\n",
            "Data columns (total 38 columns):\n",
            " #   Column    Non-Null Count  Dtype  \n",
            "---  ------    --------------  -----  \n",
            " 0   Date      4723 non-null   object \n",
            " 1   HomeTeam  4723 non-null   object \n",
            " 2   AwayTeam  4723 non-null   object \n",
            " 3   FTHG      4723 non-null   int64  \n",
            " 4   FTAG      4723 non-null   int64  \n",
            " 5   FTR       4723 non-null   object \n",
            " 6   HTHG      4723 non-null   int64  \n",
            " 7   HTAG      4723 non-null   int64  \n",
            " 8   HTR       4723 non-null   object \n",
            " 9   Referee   4723 non-null   object \n",
            " 10  HS        4723 non-null   int64  \n",
            " 11  AS        4723 non-null   int64  \n",
            " 12  HST       4723 non-null   int64  \n",
            " 13  AST       4723 non-null   int64  \n",
            " 14  HF        4723 non-null   int64  \n",
            " 15  AF        4723 non-null   int64  \n",
            " 16  HC        4723 non-null   int64  \n",
            " 17  AC        4723 non-null   int64  \n",
            " 18  HY        4723 non-null   int64  \n",
            " 19  AY        4723 non-null   int64  \n",
            " 20  HR        4723 non-null   int64  \n",
            " 21  AR        4723 non-null   int64  \n",
            " 22  HPA       4723 non-null   int64  \n",
            " 23  APA       4723 non-null   int64  \n",
            " 24  HPG       4723 non-null   int64  \n",
            " 25  APG       4723 non-null   int64  \n",
            " 26  HCR       4723 non-null   float64\n",
            " 27  ACR       4723 non-null   float64\n",
            " 28  HP        4723 non-null   float64\n",
            " 29  AP        4723 non-null   float64\n",
            " 30  HSZA      4723 non-null   int64  \n",
            " 31  HSZB      4723 non-null   int64  \n",
            " 32  HSZC      4723 non-null   int64  \n",
            " 33  ASZA      4723 non-null   int64  \n",
            " 34  ASZB      4723 non-null   int64  \n",
            " 35  ASZC      4723 non-null   int64  \n",
            " 36  FTHG_P    4723 non-null   int64  \n",
            " 37  FTAG_P    4723 non-null   int64  \n",
            "dtypes: float64(4), int64(28), object(6)\n",
            "memory usage: 1.4+ MB\n"
          ]
        }
      ],
      "source": [
        "df_epl = df_epl.dropna(axis=1) # drop NaN columns\n",
        "df_epl.info() # checking info of data"
      ]
    },
    {
      "cell_type": "markdown",
      "metadata": {
        "id": "hdyqZcTt7YYS"
      },
      "source": [
        "We have verified that there is nothing wrong with the data. Hence, we move on to other parts of pre-processing."
      ]
    },
    {
      "cell_type": "markdown",
      "metadata": {
        "id": "F4Sdq7wz7YYS"
      },
      "source": [
        "To prepare for feature engineering, we extract the list of clubnames and prepare functions to convert categorical values to integer values."
      ]
    },
    {
      "cell_type": "code",
      "execution_count": null,
      "metadata": {
        "id": "EADFyRsNviCs"
      },
      "outputs": [],
      "source": [
        "# Creating row of clubnames\n",
        "clubnames = []\n",
        "with open('epl-training2.csv', newline = '') as csvfile:\n",
        "  reader = csv.reader(csvfile, delimiter=',')\n",
        "  for row in reader:\n",
        "      clubnames.append(row[1])\n",
        "\n",
        "clubnames = list(dict.fromkeys(clubnames))\n",
        "clubnames.pop(0)\n",
        "\n",
        "#Convert FTR to 0,1,2\n",
        "def conv_HAD_to_012(df_in):\n",
        "    df = df_in.copy() #create a new df so as to not modify the original\n",
        "    # HomeWin = 0, Draw = 1, AwayWin = 2\n",
        "    #\"FTR\" column is column number 8 (or 9)\n",
        "    for n in range(df.shape[0]):\n",
        "        if df.iloc[n,5] == \"H\":\n",
        "            df.iloc[n,5]= \"0\"\n",
        "        elif df.iloc[n,5]== \"D\":\n",
        "            df.iloc[n,5]= \"1\"\n",
        "        else:\n",
        "            df.iloc[n,5]= \"2\"\n",
        "    return df\n",
        "\n",
        "# function to convert clubnames to integers\n",
        "def conv_clubname_to_int(df, clubnames):\n",
        "    #club names converted to a number in order of first appearance in dataset\n",
        "    #Arsenal = 0, Bolton = 2, Everton = 3... Leeds = 37 (last)\n",
        "    df2 = df.copy()\n",
        "    for n in range(df2.shape[0]):\n",
        "        for name in clubnames:\n",
        "            #Change Home Team Name\n",
        "            if df2.iloc[n,1] == name:\n",
        "                df2.iloc[n,1] = clubnames.index(name)\n",
        "            #Change Away Team Name\n",
        "            if df2.iloc[n,2] == name:\n",
        "                df2.iloc[n,2] = clubnames.index(name)\n",
        "\n",
        "    return df2"
      ]
    },
    {
      "cell_type": "markdown",
      "metadata": {
        "id": "3XHhsN1-7YYS"
      },
      "source": [
        "Here we aim to prepare dataframes containing both the training and testing data to be used to generate features."
      ]
    },
    {
      "cell_type": "code",
      "execution_count": null,
      "metadata": {
        "id": "rAl2y0327YYT",
        "outputId": "7bb8707f-2121-47f7-c8a6-a0fc7d660f06"
      },
      "outputs": [
        {
          "data": {
            "text/html": [
              "<div>\n",
              "<style scoped>\n",
              "    .dataframe tbody tr th:only-of-type {\n",
              "        vertical-align: middle;\n",
              "    }\n",
              "\n",
              "    .dataframe tbody tr th {\n",
              "        vertical-align: top;\n",
              "    }\n",
              "\n",
              "    .dataframe thead th {\n",
              "        text-align: right;\n",
              "    }\n",
              "</style>\n",
              "<table border=\"1\" class=\"dataframe\">\n",
              "  <thead>\n",
              "    <tr style=\"text-align: right;\">\n",
              "      <th></th>\n",
              "      <th></th>\n",
              "      <th>Date</th>\n",
              "      <th>HomeTeam</th>\n",
              "      <th>AwayTeam</th>\n",
              "      <th>FTR</th>\n",
              "    </tr>\n",
              "  </thead>\n",
              "  <tbody>\n",
              "    <tr>\n",
              "      <th rowspan=\"5\" valign=\"top\">Training</th>\n",
              "      <th>0</th>\n",
              "      <td>15-08-09</td>\n",
              "      <td>Aston Villa</td>\n",
              "      <td>Wigan</td>\n",
              "      <td>A</td>\n",
              "    </tr>\n",
              "    <tr>\n",
              "      <th>1</th>\n",
              "      <td>15-08-09</td>\n",
              "      <td>Blackburn</td>\n",
              "      <td>Man City</td>\n",
              "      <td>A</td>\n",
              "    </tr>\n",
              "    <tr>\n",
              "      <th>2</th>\n",
              "      <td>15-08-09</td>\n",
              "      <td>Bolton</td>\n",
              "      <td>Sunderland</td>\n",
              "      <td>A</td>\n",
              "    </tr>\n",
              "    <tr>\n",
              "      <th>3</th>\n",
              "      <td>15-08-09</td>\n",
              "      <td>Chelsea</td>\n",
              "      <td>Hull</td>\n",
              "      <td>H</td>\n",
              "    </tr>\n",
              "    <tr>\n",
              "      <th>4</th>\n",
              "      <td>15-08-09</td>\n",
              "      <td>Everton</td>\n",
              "      <td>Arsenal</td>\n",
              "      <td>A</td>\n",
              "    </tr>\n",
              "    <tr>\n",
              "      <th>...</th>\n",
              "      <th>...</th>\n",
              "      <td>...</td>\n",
              "      <td>...</td>\n",
              "      <td>...</td>\n",
              "      <td>...</td>\n",
              "    </tr>\n",
              "    <tr>\n",
              "      <th rowspan=\"5\" valign=\"top\">Testing</th>\n",
              "      <th>5</th>\n",
              "      <td>15-01-22</td>\n",
              "      <td>Liverpool</td>\n",
              "      <td>Brentford</td>\n",
              "      <td>NaN</td>\n",
              "    </tr>\n",
              "    <tr>\n",
              "      <th>6</th>\n",
              "      <td>15-01-22</td>\n",
              "      <td>Tottenham</td>\n",
              "      <td>Arsenal</td>\n",
              "      <td>NaN</td>\n",
              "    </tr>\n",
              "    <tr>\n",
              "      <th>7</th>\n",
              "      <td>15-01-22</td>\n",
              "      <td>Man City</td>\n",
              "      <td>Chelsea</td>\n",
              "      <td>NaN</td>\n",
              "    </tr>\n",
              "    <tr>\n",
              "      <th>8</th>\n",
              "      <td>15-01-22</td>\n",
              "      <td>Newcastle</td>\n",
              "      <td>Watford</td>\n",
              "      <td>NaN</td>\n",
              "    </tr>\n",
              "    <tr>\n",
              "      <th>9</th>\n",
              "      <td>15-01-22</td>\n",
              "      <td>Burnley</td>\n",
              "      <td>Leicester</td>\n",
              "      <td>NaN</td>\n",
              "    </tr>\n",
              "  </tbody>\n",
              "</table>\n",
              "<p>4733 rows × 4 columns</p>\n",
              "</div>"
            ],
            "text/plain": [
              "                Date     HomeTeam    AwayTeam  FTR\n",
              "Training 0  15-08-09  Aston Villa       Wigan    A\n",
              "         1  15-08-09    Blackburn    Man City    A\n",
              "         2  15-08-09       Bolton  Sunderland    A\n",
              "         3  15-08-09      Chelsea        Hull    H\n",
              "         4  15-08-09      Everton     Arsenal    A\n",
              "...              ...          ...         ...  ...\n",
              "Testing  5  15-01-22    Liverpool   Brentford  NaN\n",
              "         6  15-01-22    Tottenham     Arsenal  NaN\n",
              "         7  15-01-22     Man City     Chelsea  NaN\n",
              "         8  15-01-22    Newcastle     Watford  NaN\n",
              "         9  15-01-22      Burnley   Leicester  NaN\n",
              "\n",
              "[4733 rows x 4 columns]"
            ]
          },
          "execution_count": 310,
          "metadata": {},
          "output_type": "execute_result"
        }
      ],
      "source": [
        "df_pred2 = df_epl[['Date','HomeTeam','AwayTeam','FTR']].copy()\n",
        "frame = [df_pred2,df_pred]\n",
        "df_pred3 = pd.concat(frame,keys=[\"Training\",\"Testing\"])\n",
        "df_pred3"
      ]
    },
    {
      "cell_type": "markdown",
      "metadata": {
        "id": "c6jGdeAOJBaw"
      },
      "source": [
        "# Feature Engineering\n",
        "In this section, we generate all features that we believe have a strong correlation with match outcomes.\n",
        "Features:\n",
        "- ELO Rating - Represents relative team strength based on performance of past matches\n",
        "- Last N Points - Represents most recent performance of teams\n",
        "- Spending - Represents expenses and net spending at the start of each season\n",
        "- Fatigue - Represents physical exhaustion of teams based on how close together their matches are\n",
        "- Distance travelled by away team"
      ]
    },
    {
      "cell_type": "markdown",
      "metadata": {
        "id": "sej_OnDOjNlT"
      },
      "source": [
        "## ELO Rating\n",
        "Steps:\n",
        "1. Prepare features for regression models  \n",
        "2. Building shot and non-shot based regression models\n",
        "3. Use models to predict expected match values\n",
        "4. Calculate ELO rating based on expected match values\n",
        "5. Update ELO rating for each team"
      ]
    },
    {
      "cell_type": "markdown",
      "metadata": {
        "id": "6O4OUyFK7YYT"
      },
      "source": [
        "Preparing dataset with features that are relavent and tranforming them into an appropriate format to feed into our regression model."
      ]
    },
    {
      "cell_type": "code",
      "execution_count": null,
      "metadata": {
        "id": "iAkH6LaNJLT-"
      },
      "outputs": [],
      "source": [
        "# separating dataset for shot and non_shot based\n",
        "Hshots = df_epl[['HSZA','HSZB','HSZC','HST','FTHG_P']]\n",
        "Ashots = df_epl[['ASZA','ASZB','ASZC','AST','FTAG_P']]\n",
        "Hnonshot = df_epl[['HP','HC','HCR','FTHG_P']]\n",
        "Anonshot = df_epl[['AP','AC','ACR','FTAG_P']]\n",
        "\n",
        "# changing home and away columns to the same name so that they can be combined\n",
        "Hshots = Hshots.rename(columns={'HSZA':'SZA','HSZB':'SZB','HSZC':'SZC','HST':'SOT',\n",
        "                                'FTHG_P':'FTG_P'})\n",
        "Ashots = Ashots.rename(columns={'ASZA':'SZA','ASZB':'SZB','ASZC':'SZC','AST':'SOT',\n",
        "                                'FTAG_P':'FTG_P'})\n",
        "Hnonshot = Hnonshot.rename(columns={'HP':'P','HC':'C','HCR':'CR','FTHG_P':'FTG_P'})\n",
        "Anonshot = Anonshot.rename(columns={'AP':'P','AC':'C','ACR':'CR','FTAG_P':'FTG_P'})\n",
        "\n",
        "# combining both home and away data for regression model\n",
        "frame1 = [Hshots, Ashots]\n",
        "shots = pd.concat(frame1,keys=[\"Home\",\"Away\"])\n",
        "frame2 = [Hnonshot, Anonshot]\n",
        "nonshot = pd.concat(frame2,keys=[\"Home\",\"Away\"])"
      ]
    },
    {
      "cell_type": "code",
      "execution_count": null,
      "metadata": {
        "id": "LL-0fcJjNTRv"
      },
      "outputs": [],
      "source": [
        "# separating input and output variables for all datasets\n",
        "x_shots,y_shots = shots.drop('FTG_P',axis=1),shots['FTG_P'].copy()\n",
        "x_nonshot,y_nonshot = nonshot.drop('FTG_P',axis=1),nonshot['FTG_P'].copy()"
      ]
    },
    {
      "cell_type": "markdown",
      "metadata": {
        "id": "_6YMJPBLj9F3"
      },
      "source": [
        "### Model Training, Validation and Evaluation for regression models"
      ]
    },
    {
      "cell_type": "markdown",
      "metadata": {
        "id": "_kUGAMAdkLsJ"
      },
      "source": [
        "#### Scoring method\n",
        "We decided to use mean squared error as our evaluation metric.\n"
      ]
    },
    {
      "cell_type": "code",
      "execution_count": null,
      "metadata": {
        "id": "abkW3rEVbOsU"
      },
      "outputs": [],
      "source": [
        "scorer = make_scorer(mean_squared_error, greater_is_better=False)"
      ]
    },
    {
      "cell_type": "markdown",
      "metadata": {
        "id": "0kh826xgkRUU"
      },
      "source": [
        "#### Shot based expected match value model\n",
        "Now we begin to build our model by performing these steps:\n",
        "1. Train several models using different algorithms\n",
        "2. Validate models using K-fold cross validation\n",
        "3. Tune hyperparameters of relevant algorithms\n",
        "4. Evaluate and select the best performing model"
      ]
    },
    {
      "cell_type": "markdown",
      "metadata": {
        "id": "tpm_Ovqn7YYU"
      },
      "source": [
        "Here we split training data into training and validation sets for performance evaluation. We also scale our input features before feeding into our models."
      ]
    },
    {
      "cell_type": "code",
      "execution_count": null,
      "metadata": {
        "id": "pIw8Vl65kkXF"
      },
      "outputs": [],
      "source": [
        "# splitting training and testing data\n",
        "x_train, x_test, y_train, y_test = train_test_split(x_shots, y_shots, test_size = 0.2, random_state=42)\n",
        "\n",
        "# standardise\n",
        "scaler = StandardScaler()\n",
        "x_train_scale = scaler.fit_transform(x_train)\n",
        "x_test_scale = scaler.transform(x_test)\n",
        "x_shots_scale = scaler.transform(x_shots)"
      ]
    },
    {
      "cell_type": "markdown",
      "metadata": {
        "id": "eyXr7VK-kYBt"
      },
      "source": [
        "###### Multivariate Linear Regression"
      ]
    },
    {
      "cell_type": "code",
      "execution_count": null,
      "metadata": {
        "colab": {
          "base_uri": "https://localhost:8080/"
        },
        "id": "2P07GfG9bQmT",
        "outputId": "fa89085a-778a-4b6c-ed22-64988836c368"
      },
      "outputs": [
        {
          "name": "stdout",
          "output_type": "stream",
          "text": [
            "MSE of linear regressor on training data =  1.0701079427759976\n",
            "MSE of linear regressor on testing data =  1.1125681615645435\n",
            "difference in MSE of linear regressor =  0.04246021878854589\n"
          ]
        }
      ],
      "source": [
        "# fit\n",
        "lr_shots = LinearRegression()\n",
        "lr_shots.fit(x_train_scale,y_train)\n",
        "\n",
        "# predict\n",
        "ytrain_lr_shots = lr_shots.predict(x_train_scale)\n",
        "ytest_lr_shots = lr_shots.predict(x_test_scale)\n",
        "\n",
        "# evaluate\n",
        "mse_lr_shots_train = mean_squared_error(ytrain_lr_shots,y_train)\n",
        "mse_lr_shots_test = mean_squared_error(ytest_lr_shots,y_test)\n",
        "genloss_lr_shots = mse_lr_shots_test - mse_lr_shots_train\n",
        "\n",
        "print(\"MSE of linear regressor on training data = \",mse_lr_shots_train)\n",
        "print(\"MSE of linear regressor on testing data = \",mse_lr_shots_test)\n",
        "print(\"difference in MSE of linear regressor = \",genloss_lr_shots)"
      ]
    },
    {
      "cell_type": "code",
      "execution_count": null,
      "metadata": {
        "id": "Se4K-NgX7YYU",
        "outputId": "1afa64ce-4680-487f-adf7-85932b23da2f"
      },
      "outputs": [
        {
          "name": "stdout",
          "output_type": "stream",
          "text": [
            "Nested Cross Validation mean test score: -1.0724026446924162\n"
          ]
        }
      ],
      "source": [
        "# perform cross validation\n",
        "shots_lr_cv = cross_val_score(lr_shots, X=x_train_scale, y=y_train, cv=5, scoring=scorer)\n",
        "shots_lr_err = shots_lr_cv.mean()\n",
        "print('Nested Cross Validation mean test score:',shots_lr_err)"
      ]
    },
    {
      "cell_type": "markdown",
      "metadata": {
        "id": "1lIWynNu7YYU"
      },
      "source": [
        "Difference between test score calculated with cross validation and score calculated with our validation set is small. Therefore, we choose to use score calculated with validation set so it can be compared to our training error."
      ]
    },
    {
      "cell_type": "code",
      "execution_count": null,
      "metadata": {
        "colab": {
          "base_uri": "https://localhost:8080/"
        },
        "id": "vTTS8lfPN7mR",
        "outputId": "42631950-00ea-4f72-f244-599d3c79eecd"
      },
      "outputs": [
        {
          "data": {
            "text/plain": [
              "SZA    0.174233\n",
              "SZB    0.145753\n",
              "SZC   -0.188423\n",
              "SOT    0.543063\n",
              "dtype: float64"
            ]
          },
          "execution_count": 17,
          "metadata": {},
          "output_type": "execute_result"
        }
      ],
      "source": [
        "# checking parameters for shot based expected match value\n",
        "param_shot = pd.Series(lr_shots.coef_, index=x_shots.columns)\n",
        "np.random.seed(1)\n",
        "err_shot = np.std([lr_shots.fit(*resample(x_shots,y_shots)).coef_ for i in range(1000)],0)\n",
        "param_shot"
      ]
    },
    {
      "cell_type": "markdown",
      "metadata": {
        "id": "9VD5RNGs7YYU"
      },
      "source": [
        "These values show the coefficients for our input variables."
      ]
    },
    {
      "cell_type": "markdown",
      "metadata": {
        "id": "shXByHuekvSA"
      },
      "source": [
        "##### Random Forest"
      ]
    },
    {
      "cell_type": "code",
      "execution_count": null,
      "metadata": {
        "colab": {
          "base_uri": "https://localhost:8080/"
        },
        "id": "2gVDZJHVcTcr",
        "outputId": "585387f8-2a1b-471d-b2c4-ae53770d40f6"
      },
      "outputs": [
        {
          "name": "stdout",
          "output_type": "stream",
          "text": [
            "Fitting 5 folds for each of 288 candidates, totalling 1440 fits\n"
          ]
        },
        {
          "name": "stderr",
          "output_type": "stream",
          "text": [
            "[Parallel(n_jobs=-1)]: Using backend LokyBackend with 12 concurrent workers.\n",
            "[Parallel(n_jobs=-1)]: Done  17 tasks      | elapsed:    9.6s\n",
            "[Parallel(n_jobs=-1)]: Done 138 tasks      | elapsed:   57.2s\n",
            "[Parallel(n_jobs=-1)]: Done 341 tasks      | elapsed:  2.3min\n",
            "[Parallel(n_jobs=-1)]: Done 624 tasks      | elapsed:  4.1min\n",
            "[Parallel(n_jobs=-1)]: Done 989 tasks      | elapsed:  6.3min\n",
            "[Parallel(n_jobs=-1)]: Done 1440 out of 1440 | elapsed:  9.2min finished\n"
          ]
        },
        {
          "name": "stdout",
          "output_type": "stream",
          "text": [
            "The best score for RF is: -1.0870323165571385\n",
            "The best parameters for RF are: RandomForestRegressor(max_depth=100, max_features=2, min_samples_leaf=5,\n",
            "                      min_samples_split=12, n_estimators=200)\n",
            "MSE of random forest regressor on training data =  0.8585116343187885\n",
            "MSE of random forest regressor on testing data =  1.1246989638437914\n",
            "difference in MSE of random forest regressor =  0.2661873295250029\n"
          ]
        }
      ],
      "source": [
        "# Create the parameter grid\n",
        "RF_paramgrid = {\n",
        "    'bootstrap': [True],\n",
        "    'max_depth': [80, 90, 100, 110],\n",
        "    'max_features': [2, 3],\n",
        "    'min_samples_leaf': [3, 4, 5],\n",
        "    'min_samples_split': [8, 10, 12],\n",
        "    'n_estimators': [100, 200, 300, 1000]\n",
        "}\n",
        "# Create a base model\n",
        "rf = RandomForestRegressor()\n",
        "# Instantiate the grid search model\n",
        "grid_rf = GridSearchCV(estimator = rf, param_grid = RF_paramgrid,\n",
        "                          cv = 5, n_jobs = -1, verbose = 2, scoring=scorer)\n",
        "# Fit the grid search model\n",
        "grid_rf.fit(x_train_scale, y_train)\n",
        "\n",
        "# check values of hyperparameters and best test score from cross validation\n",
        "print('The best score for RF is:',grid_rf.best_score_)\n",
        "print('The best parameters for RF are:',grid_rf.best_estimator_)\n",
        "\n",
        "# build the final model with the optimum hyperparameters\n",
        "rfr_model = (grid_rf.best_estimator_)\n",
        "\n",
        "# fit the final model\n",
        "RF_fit = rfr_model.fit(x_train_scale, y_train)\n",
        "\n",
        "# predict\n",
        "ytrain_rf_shots = RF_fit.predict(x_train_scale)\n",
        "ytest_rf_shots = RF_fit.predict(x_test_scale)\n",
        "\n",
        "# evaluate\n",
        "mse_rf_shots_train = mean_squared_error(ytrain_rf_shots,y_train)\n",
        "mse_rf_shots_test = mean_squared_error(ytest_rf_shots,y_test)\n",
        "genloss_rf_shots = mse_rf_shots_test - mse_rf_shots_train\n",
        "\n",
        "print(\"MSE of random forest regressor on training data = \",mse_rf_shots_train)\n",
        "print(\"MSE of random forest regressor on testing data = \",mse_rf_shots_test)\n",
        "print(\"difference in MSE of random forest regressor = \",genloss_rf_shots)\n",
        "\n"
      ]
    },
    {
      "cell_type": "markdown",
      "metadata": {
        "id": "93TkaiKNk9to"
      },
      "source": [
        "##### Support Vector Machines"
      ]
    },
    {
      "cell_type": "code",
      "execution_count": null,
      "metadata": {
        "id": "Q38gq_Jucqk6",
        "outputId": "9f011838-2047-4b70-96d5-468193cd7bc7"
      },
      "outputs": [
        {
          "name": "stdout",
          "output_type": "stream",
          "text": [
            "Fitting 5 folds for each of 50 candidates, totalling 250 fits\n",
            "[CV] C=0.1, gamma=1, kernel=rbf ......................................\n"
          ]
        },
        {
          "name": "stderr",
          "output_type": "stream",
          "text": [
            "[Parallel(n_jobs=1)]: Using backend SequentialBackend with 1 concurrent workers.\n"
          ]
        },
        {
          "name": "stdout",
          "output_type": "stream",
          "text": [
            "[CV] ......... C=0.1, gamma=1, kernel=rbf, score=-1.077, total=   1.2s\n",
            "[CV] C=0.1, gamma=1, kernel=rbf ......................................\n"
          ]
        },
        {
          "name": "stderr",
          "output_type": "stream",
          "text": [
            "[Parallel(n_jobs=1)]: Done   1 out of   1 | elapsed:    1.1s remaining:    0.0s\n"
          ]
        },
        {
          "name": "stdout",
          "output_type": "stream",
          "text": [
            "[CV] ......... C=0.1, gamma=1, kernel=rbf, score=-1.098, total=   1.2s\n",
            "[CV] C=0.1, gamma=1, kernel=rbf ......................................\n"
          ]
        },
        {
          "name": "stderr",
          "output_type": "stream",
          "text": [
            "[Parallel(n_jobs=1)]: Done   2 out of   2 | elapsed:    2.3s remaining:    0.0s\n"
          ]
        },
        {
          "name": "stdout",
          "output_type": "stream",
          "text": [
            "[CV] ......... C=0.1, gamma=1, kernel=rbf, score=-1.076, total=   1.1s\n",
            "[CV] C=0.1, gamma=1, kernel=rbf ......................................\n",
            "[CV] ......... C=0.1, gamma=1, kernel=rbf, score=-1.221, total=   1.1s\n",
            "[CV] C=0.1, gamma=1, kernel=rbf ......................................\n",
            "[CV] ......... C=0.1, gamma=1, kernel=rbf, score=-1.193, total=   1.1s\n",
            "[CV] C=0.1, gamma=1, kernel=linear ...................................\n",
            "[CV] ...... C=0.1, gamma=1, kernel=linear, score=-1.060, total=   0.8s\n",
            "[CV] C=0.1, gamma=1, kernel=linear ...................................\n",
            "[CV] ...... C=0.1, gamma=1, kernel=linear, score=-1.057, total=   0.8s\n",
            "[CV] C=0.1, gamma=1, kernel=linear ...................................\n",
            "[CV] ...... C=0.1, gamma=1, kernel=linear, score=-1.047, total=   0.8s\n",
            "[CV] C=0.1, gamma=1, kernel=linear ...................................\n",
            "[CV] ...... C=0.1, gamma=1, kernel=linear, score=-1.170, total=   0.8s\n",
            "[CV] C=0.1, gamma=1, kernel=linear ...................................\n",
            "[CV] ...... C=0.1, gamma=1, kernel=linear, score=-1.090, total=   0.8s\n",
            "[CV] C=0.1, gamma=0.1, kernel=rbf ....................................\n",
            "[CV] ....... C=0.1, gamma=0.1, kernel=rbf, score=-1.040, total=   1.2s\n",
            "[CV] C=0.1, gamma=0.1, kernel=rbf ....................................\n",
            "[CV] ....... C=0.1, gamma=0.1, kernel=rbf, score=-1.053, total=   1.1s\n",
            "[CV] C=0.1, gamma=0.1, kernel=rbf ....................................\n",
            "[CV] ....... C=0.1, gamma=0.1, kernel=rbf, score=-1.023, total=   1.1s\n",
            "[CV] C=0.1, gamma=0.1, kernel=rbf ....................................\n",
            "[CV] ....... C=0.1, gamma=0.1, kernel=rbf, score=-1.137, total=   1.1s\n",
            "[CV] C=0.1, gamma=0.1, kernel=rbf ....................................\n",
            "[CV] ....... C=0.1, gamma=0.1, kernel=rbf, score=-1.111, total=   1.2s\n",
            "[CV] C=0.1, gamma=0.1, kernel=linear .................................\n",
            "[CV] .... C=0.1, gamma=0.1, kernel=linear, score=-1.060, total=   0.9s\n",
            "[CV] C=0.1, gamma=0.1, kernel=linear .................................\n",
            "[CV] .... C=0.1, gamma=0.1, kernel=linear, score=-1.057, total=   1.0s\n",
            "[CV] C=0.1, gamma=0.1, kernel=linear .................................\n",
            "[CV] .... C=0.1, gamma=0.1, kernel=linear, score=-1.047, total=   0.8s\n",
            "[CV] C=0.1, gamma=0.1, kernel=linear .................................\n",
            "[CV] .... C=0.1, gamma=0.1, kernel=linear, score=-1.170, total=   0.8s\n",
            "[CV] C=0.1, gamma=0.1, kernel=linear .................................\n",
            "[CV] .... C=0.1, gamma=0.1, kernel=linear, score=-1.090, total=   1.1s\n",
            "[CV] C=0.1, gamma=0.01, kernel=rbf ...................................\n",
            "[CV] ...... C=0.1, gamma=0.01, kernel=rbf, score=-1.047, total=   1.8s\n",
            "[CV] C=0.1, gamma=0.01, kernel=rbf ...................................\n",
            "[CV] ...... C=0.1, gamma=0.01, kernel=rbf, score=-1.054, total=   2.3s\n",
            "[CV] C=0.1, gamma=0.01, kernel=rbf ...................................\n",
            "[CV] ...... C=0.1, gamma=0.01, kernel=rbf, score=-1.042, total=   2.2s\n",
            "[CV] C=0.1, gamma=0.01, kernel=rbf ...................................\n",
            "[CV] ...... C=0.1, gamma=0.01, kernel=rbf, score=-1.158, total=   1.6s\n",
            "[CV] C=0.1, gamma=0.01, kernel=rbf ...................................\n",
            "[CV] ...... C=0.1, gamma=0.01, kernel=rbf, score=-1.108, total=   1.3s\n",
            "[CV] C=0.1, gamma=0.01, kernel=linear ................................\n",
            "[CV] ... C=0.1, gamma=0.01, kernel=linear, score=-1.060, total=   0.9s\n",
            "[CV] C=0.1, gamma=0.01, kernel=linear ................................\n",
            "[CV] ... C=0.1, gamma=0.01, kernel=linear, score=-1.057, total=   0.9s\n",
            "[CV] C=0.1, gamma=0.01, kernel=linear ................................\n",
            "[CV] ... C=0.1, gamma=0.01, kernel=linear, score=-1.047, total=   0.7s\n",
            "[CV] C=0.1, gamma=0.01, kernel=linear ................................\n",
            "[CV] ... C=0.1, gamma=0.01, kernel=linear, score=-1.170, total=   0.7s\n",
            "[CV] C=0.1, gamma=0.01, kernel=linear ................................\n",
            "[CV] ... C=0.1, gamma=0.01, kernel=linear, score=-1.090, total=   0.9s\n",
            "[CV] C=0.1, gamma=0.001, kernel=rbf ..................................\n",
            "[CV] ..... C=0.1, gamma=0.001, kernel=rbf, score=-1.151, total=   1.2s\n",
            "[CV] C=0.1, gamma=0.001, kernel=rbf ..................................\n",
            "[CV] ..... C=0.1, gamma=0.001, kernel=rbf, score=-1.183, total=   1.2s\n",
            "[CV] C=0.1, gamma=0.001, kernel=rbf ..................................\n",
            "[CV] ..... C=0.1, gamma=0.001, kernel=rbf, score=-1.182, total=   1.2s\n",
            "[CV] C=0.1, gamma=0.001, kernel=rbf ..................................\n",
            "[CV] ..... C=0.1, gamma=0.001, kernel=rbf, score=-1.330, total=   1.1s\n",
            "[CV] C=0.1, gamma=0.001, kernel=rbf ..................................\n",
            "[CV] ..... C=0.1, gamma=0.001, kernel=rbf, score=-1.244, total=   1.1s\n",
            "[CV] C=0.1, gamma=0.001, kernel=linear ...............................\n",
            "[CV] .. C=0.1, gamma=0.001, kernel=linear, score=-1.060, total=   0.9s\n",
            "[CV] C=0.1, gamma=0.001, kernel=linear ...............................\n",
            "[CV] .. C=0.1, gamma=0.001, kernel=linear, score=-1.057, total=   0.8s\n",
            "[CV] C=0.1, gamma=0.001, kernel=linear ...............................\n",
            "[CV] .. C=0.1, gamma=0.001, kernel=linear, score=-1.047, total=   0.8s\n",
            "[CV] C=0.1, gamma=0.001, kernel=linear ...............................\n",
            "[CV] .. C=0.1, gamma=0.001, kernel=linear, score=-1.170, total=   0.8s\n",
            "[CV] C=0.1, gamma=0.001, kernel=linear ...............................\n",
            "[CV] .. C=0.1, gamma=0.001, kernel=linear, score=-1.090, total=   0.9s\n",
            "[CV] C=0.1, gamma=0.0001, kernel=rbf .................................\n",
            "[CV] .... C=0.1, gamma=0.0001, kernel=rbf, score=-1.369, total=   1.0s\n",
            "[CV] C=0.1, gamma=0.0001, kernel=rbf .................................\n",
            "[CV] .... C=0.1, gamma=0.0001, kernel=rbf, score=-1.424, total=   1.0s\n",
            "[CV] C=0.1, gamma=0.0001, kernel=rbf .................................\n",
            "[CV] .... C=0.1, gamma=0.0001, kernel=rbf, score=-1.424, total=   1.0s\n",
            "[CV] C=0.1, gamma=0.0001, kernel=rbf .................................\n",
            "[CV] .... C=0.1, gamma=0.0001, kernel=rbf, score=-1.597, total=   1.1s\n",
            "[CV] C=0.1, gamma=0.0001, kernel=rbf .................................\n",
            "[CV] .... C=0.1, gamma=0.0001, kernel=rbf, score=-1.516, total=   1.0s\n",
            "[CV] C=0.1, gamma=0.0001, kernel=linear ..............................\n",
            "[CV] . C=0.1, gamma=0.0001, kernel=linear, score=-1.060, total=   0.8s\n",
            "[CV] C=0.1, gamma=0.0001, kernel=linear ..............................\n",
            "[CV] . C=0.1, gamma=0.0001, kernel=linear, score=-1.057, total=   0.9s\n",
            "[CV] C=0.1, gamma=0.0001, kernel=linear ..............................\n",
            "[CV] . C=0.1, gamma=0.0001, kernel=linear, score=-1.047, total=   0.8s\n",
            "[CV] C=0.1, gamma=0.0001, kernel=linear ..............................\n",
            "[CV] . C=0.1, gamma=0.0001, kernel=linear, score=-1.170, total=   0.8s\n",
            "[CV] C=0.1, gamma=0.0001, kernel=linear ..............................\n",
            "[CV] . C=0.1, gamma=0.0001, kernel=linear, score=-1.090, total=   0.7s\n",
            "[CV] C=1, gamma=1, kernel=rbf ........................................\n",
            "[CV] ........... C=1, gamma=1, kernel=rbf, score=-1.100, total=   1.3s\n",
            "[CV] C=1, gamma=1, kernel=rbf ........................................\n",
            "[CV] ........... C=1, gamma=1, kernel=rbf, score=-1.112, total=   1.3s\n",
            "[CV] C=1, gamma=1, kernel=rbf ........................................\n",
            "[CV] ........... C=1, gamma=1, kernel=rbf, score=-1.072, total=   1.2s\n",
            "[CV] C=1, gamma=1, kernel=rbf ........................................\n",
            "[CV] ........... C=1, gamma=1, kernel=rbf, score=-1.203, total=   1.4s\n",
            "[CV] C=1, gamma=1, kernel=rbf ........................................\n",
            "[CV] ........... C=1, gamma=1, kernel=rbf, score=-1.164, total=   1.2s\n",
            "[CV] C=1, gamma=1, kernel=linear .....................................\n",
            "[CV] ........ C=1, gamma=1, kernel=linear, score=-1.060, total=   1.4s\n",
            "[CV] C=1, gamma=1, kernel=linear .....................................\n",
            "[CV] ........ C=1, gamma=1, kernel=linear, score=-1.057, total=   1.2s\n",
            "[CV] C=1, gamma=1, kernel=linear .....................................\n",
            "[CV] ........ C=1, gamma=1, kernel=linear, score=-1.047, total=   1.4s\n",
            "[CV] C=1, gamma=1, kernel=linear .....................................\n",
            "[CV] ........ C=1, gamma=1, kernel=linear, score=-1.170, total=   1.3s\n",
            "[CV] C=1, gamma=1, kernel=linear .....................................\n",
            "[CV] ........ C=1, gamma=1, kernel=linear, score=-1.089, total=   1.4s\n",
            "[CV] C=1, gamma=0.1, kernel=rbf ......................................\n",
            "[CV] ......... C=1, gamma=0.1, kernel=rbf, score=-1.043, total=   1.3s\n",
            "[CV] C=1, gamma=0.1, kernel=rbf ......................................\n",
            "[CV] ......... C=1, gamma=0.1, kernel=rbf, score=-1.048, total=   1.2s\n",
            "[CV] C=1, gamma=0.1, kernel=rbf ......................................\n",
            "[CV] ......... C=1, gamma=0.1, kernel=rbf, score=-1.020, total=   1.2s\n",
            "[CV] C=1, gamma=0.1, kernel=rbf ......................................\n",
            "[CV] ......... C=1, gamma=0.1, kernel=rbf, score=-1.135, total=   1.3s\n",
            "[CV] C=1, gamma=0.1, kernel=rbf ......................................\n",
            "[CV] ......... C=1, gamma=0.1, kernel=rbf, score=-1.078, total=   1.2s\n",
            "[CV] C=1, gamma=0.1, kernel=linear ...................................\n",
            "[CV] ...... C=1, gamma=0.1, kernel=linear, score=-1.060, total=   1.3s\n",
            "[CV] C=1, gamma=0.1, kernel=linear ...................................\n",
            "[CV] ...... C=1, gamma=0.1, kernel=linear, score=-1.057, total=   1.3s\n",
            "[CV] C=1, gamma=0.1, kernel=linear ...................................\n",
            "[CV] ...... C=1, gamma=0.1, kernel=linear, score=-1.047, total=   1.6s\n",
            "[CV] C=1, gamma=0.1, kernel=linear ...................................\n",
            "[CV] ...... C=1, gamma=0.1, kernel=linear, score=-1.170, total=   1.3s\n",
            "[CV] C=1, gamma=0.1, kernel=linear ...................................\n",
            "[CV] ...... C=1, gamma=0.1, kernel=linear, score=-1.089, total=   1.5s\n",
            "[CV] C=1, gamma=0.01, kernel=rbf .....................................\n",
            "[CV] ........ C=1, gamma=0.01, kernel=rbf, score=-1.035, total=   1.5s\n",
            "[CV] C=1, gamma=0.01, kernel=rbf .....................................\n",
            "[CV] ........ C=1, gamma=0.01, kernel=rbf, score=-1.040, total=   1.2s\n",
            "[CV] C=1, gamma=0.01, kernel=rbf .....................................\n",
            "[CV] ........ C=1, gamma=0.01, kernel=rbf, score=-1.019, total=   1.2s\n",
            "[CV] C=1, gamma=0.01, kernel=rbf .....................................\n",
            "[CV] ........ C=1, gamma=0.01, kernel=rbf, score=-1.138, total=   1.2s\n",
            "[CV] C=1, gamma=0.01, kernel=rbf .....................................\n",
            "[CV] ........ C=1, gamma=0.01, kernel=rbf, score=-1.100, total=   1.3s\n",
            "[CV] C=1, gamma=0.01, kernel=linear ..................................\n",
            "[CV] ..... C=1, gamma=0.01, kernel=linear, score=-1.060, total=   1.7s\n",
            "[CV] C=1, gamma=0.01, kernel=linear ..................................\n",
            "[CV] ..... C=1, gamma=0.01, kernel=linear, score=-1.057, total=   1.4s\n",
            "[CV] C=1, gamma=0.01, kernel=linear ..................................\n",
            "[CV] ..... C=1, gamma=0.01, kernel=linear, score=-1.047, total=   1.6s\n",
            "[CV] C=1, gamma=0.01, kernel=linear ..................................\n",
            "[CV] ..... C=1, gamma=0.01, kernel=linear, score=-1.170, total=   1.3s\n",
            "[CV] C=1, gamma=0.01, kernel=linear ..................................\n",
            "[CV] ..... C=1, gamma=0.01, kernel=linear, score=-1.089, total=   1.4s\n",
            "[CV] C=1, gamma=0.001, kernel=rbf ....................................\n",
            "[CV] ....... C=1, gamma=0.001, kernel=rbf, score=-1.055, total=   1.1s\n",
            "[CV] C=1, gamma=0.001, kernel=rbf ....................................\n",
            "[CV] ....... C=1, gamma=0.001, kernel=rbf, score=-1.058, total=   1.1s\n",
            "[CV] C=1, gamma=0.001, kernel=rbf ....................................\n",
            "[CV] ....... C=1, gamma=0.001, kernel=rbf, score=-1.048, total=   1.1s\n",
            "[CV] C=1, gamma=0.001, kernel=rbf ....................................\n",
            "[CV] ....... C=1, gamma=0.001, kernel=rbf, score=-1.169, total=   1.2s\n",
            "[CV] C=1, gamma=0.001, kernel=rbf ....................................\n",
            "[CV] ....... C=1, gamma=0.001, kernel=rbf, score=-1.098, total=   1.2s\n",
            "[CV] C=1, gamma=0.001, kernel=linear .................................\n",
            "[CV] .... C=1, gamma=0.001, kernel=linear, score=-1.060, total=   1.4s\n",
            "[CV] C=1, gamma=0.001, kernel=linear .................................\n",
            "[CV] .... C=1, gamma=0.001, kernel=linear, score=-1.057, total=   1.3s\n",
            "[CV] C=1, gamma=0.001, kernel=linear .................................\n",
            "[CV] .... C=1, gamma=0.001, kernel=linear, score=-1.047, total=   1.4s\n",
            "[CV] C=1, gamma=0.001, kernel=linear .................................\n",
            "[CV] .... C=1, gamma=0.001, kernel=linear, score=-1.170, total=   1.3s\n",
            "[CV] C=1, gamma=0.001, kernel=linear .................................\n",
            "[CV] .... C=1, gamma=0.001, kernel=linear, score=-1.089, total=   1.4s\n",
            "[CV] C=1, gamma=0.0001, kernel=rbf ...................................\n",
            "[CV] ...... C=1, gamma=0.0001, kernel=rbf, score=-1.151, total=   1.1s\n",
            "[CV] C=1, gamma=0.0001, kernel=rbf ...................................\n",
            "[CV] ...... C=1, gamma=0.0001, kernel=rbf, score=-1.183, total=   1.1s\n",
            "[CV] C=1, gamma=0.0001, kernel=rbf ...................................\n",
            "[CV] ...... C=1, gamma=0.0001, kernel=rbf, score=-1.180, total=   1.2s\n",
            "[CV] C=1, gamma=0.0001, kernel=rbf ...................................\n",
            "[CV] ...... C=1, gamma=0.0001, kernel=rbf, score=-1.330, total=   1.2s\n",
            "[CV] C=1, gamma=0.0001, kernel=rbf ...................................\n",
            "[CV] ...... C=1, gamma=0.0001, kernel=rbf, score=-1.243, total=   1.2s\n",
            "[CV] C=1, gamma=0.0001, kernel=linear ................................\n",
            "[CV] ... C=1, gamma=0.0001, kernel=linear, score=-1.060, total=   1.6s\n",
            "[CV] C=1, gamma=0.0001, kernel=linear ................................\n",
            "[CV] ... C=1, gamma=0.0001, kernel=linear, score=-1.057, total=   1.2s\n",
            "[CV] C=1, gamma=0.0001, kernel=linear ................................\n",
            "[CV] ... C=1, gamma=0.0001, kernel=linear, score=-1.047, total=   1.6s\n",
            "[CV] C=1, gamma=0.0001, kernel=linear ................................\n",
            "[CV] ... C=1, gamma=0.0001, kernel=linear, score=-1.170, total=   1.7s\n",
            "[CV] C=1, gamma=0.0001, kernel=linear ................................\n",
            "[CV] ... C=1, gamma=0.0001, kernel=linear, score=-1.089, total=   1.8s\n",
            "[CV] C=10, gamma=1, kernel=rbf .......................................\n",
            "[CV] .......... C=10, gamma=1, kernel=rbf, score=-1.204, total=   3.4s\n",
            "[CV] C=10, gamma=1, kernel=rbf .......................................\n",
            "[CV] .......... C=10, gamma=1, kernel=rbf, score=-1.197, total=   3.0s\n",
            "[CV] C=10, gamma=1, kernel=rbf .......................................\n",
            "[CV] .......... C=10, gamma=1, kernel=rbf, score=-1.212, total=   2.8s\n",
            "[CV] C=10, gamma=1, kernel=rbf .......................................\n",
            "[CV] .......... C=10, gamma=1, kernel=rbf, score=-1.347, total=   2.9s\n",
            "[CV] C=10, gamma=1, kernel=rbf .......................................\n",
            "[CV] .......... C=10, gamma=1, kernel=rbf, score=-1.261, total=   3.1s\n",
            "[CV] C=10, gamma=1, kernel=linear ....................................\n",
            "[CV] ....... C=10, gamma=1, kernel=linear, score=-1.060, total=   6.9s\n",
            "[CV] C=10, gamma=1, kernel=linear ....................................\n",
            "[CV] ....... C=10, gamma=1, kernel=linear, score=-1.057, total=   5.2s\n",
            "[CV] C=10, gamma=1, kernel=linear ....................................\n",
            "[CV] ....... C=10, gamma=1, kernel=linear, score=-1.047, total=   5.8s\n",
            "[CV] C=10, gamma=1, kernel=linear ....................................\n",
            "[CV] ....... C=10, gamma=1, kernel=linear, score=-1.170, total=   5.1s\n",
            "[CV] C=10, gamma=1, kernel=linear ....................................\n",
            "[CV] ....... C=10, gamma=1, kernel=linear, score=-1.089, total=   5.1s\n",
            "[CV] C=10, gamma=0.1, kernel=rbf .....................................\n",
            "[CV] ........ C=10, gamma=0.1, kernel=rbf, score=-1.061, total=   1.5s\n",
            "[CV] C=10, gamma=0.1, kernel=rbf .....................................\n",
            "[CV] ........ C=10, gamma=0.1, kernel=rbf, score=-1.057, total=   1.5s\n",
            "[CV] C=10, gamma=0.1, kernel=rbf .....................................\n",
            "[CV] ........ C=10, gamma=0.1, kernel=rbf, score=-1.045, total=   1.5s\n",
            "[CV] C=10, gamma=0.1, kernel=rbf .....................................\n",
            "[CV] ........ C=10, gamma=0.1, kernel=rbf, score=-1.183, total=   1.6s\n",
            "[CV] C=10, gamma=0.1, kernel=rbf .....................................\n",
            "[CV] ........ C=10, gamma=0.1, kernel=rbf, score=-1.090, total=   1.6s\n",
            "[CV] C=10, gamma=0.1, kernel=linear ..................................\n",
            "[CV] ..... C=10, gamma=0.1, kernel=linear, score=-1.060, total=   5.7s\n",
            "[CV] C=10, gamma=0.1, kernel=linear ..................................\n",
            "[CV] ..... C=10, gamma=0.1, kernel=linear, score=-1.057, total=   5.6s\n",
            "[CV] C=10, gamma=0.1, kernel=linear ..................................\n",
            "[CV] ..... C=10, gamma=0.1, kernel=linear, score=-1.047, total=   5.4s\n",
            "[CV] C=10, gamma=0.1, kernel=linear ..................................\n",
            "[CV] ..... C=10, gamma=0.1, kernel=linear, score=-1.170, total=   5.2s\n",
            "[CV] C=10, gamma=0.1, kernel=linear ..................................\n",
            "[CV] ..... C=10, gamma=0.1, kernel=linear, score=-1.089, total=   5.3s\n",
            "[CV] C=10, gamma=0.01, kernel=rbf ....................................\n",
            "[CV] ....... C=10, gamma=0.01, kernel=rbf, score=-1.030, total=   1.2s\n",
            "[CV] C=10, gamma=0.01, kernel=rbf ....................................\n",
            "[CV] ....... C=10, gamma=0.01, kernel=rbf, score=-1.035, total=   1.2s\n",
            "[CV] C=10, gamma=0.01, kernel=rbf ....................................\n",
            "[CV] ....... C=10, gamma=0.01, kernel=rbf, score=-1.009, total=   1.2s\n",
            "[CV] C=10, gamma=0.01, kernel=rbf ....................................\n",
            "[CV] ....... C=10, gamma=0.01, kernel=rbf, score=-1.130, total=   1.2s\n",
            "[CV] C=10, gamma=0.01, kernel=rbf ....................................\n",
            "[CV] ....... C=10, gamma=0.01, kernel=rbf, score=-1.085, total=   1.2s\n",
            "[CV] C=10, gamma=0.01, kernel=linear .................................\n",
            "[CV] .... C=10, gamma=0.01, kernel=linear, score=-1.060, total=   5.4s\n",
            "[CV] C=10, gamma=0.01, kernel=linear .................................\n",
            "[CV] .... C=10, gamma=0.01, kernel=linear, score=-1.057, total=   5.1s\n",
            "[CV] C=10, gamma=0.01, kernel=linear .................................\n",
            "[CV] .... C=10, gamma=0.01, kernel=linear, score=-1.047, total=   5.6s\n",
            "[CV] C=10, gamma=0.01, kernel=linear .................................\n",
            "[CV] .... C=10, gamma=0.01, kernel=linear, score=-1.170, total=   4.8s\n",
            "[CV] C=10, gamma=0.01, kernel=linear .................................\n",
            "[CV] .... C=10, gamma=0.01, kernel=linear, score=-1.089, total=   5.4s\n",
            "[CV] C=10, gamma=0.001, kernel=rbf ...................................\n",
            "[CV] ...... C=10, gamma=0.001, kernel=rbf, score=-1.046, total=   1.1s\n",
            "[CV] C=10, gamma=0.001, kernel=rbf ...................................\n",
            "[CV] ...... C=10, gamma=0.001, kernel=rbf, score=-1.047, total=   1.1s\n",
            "[CV] C=10, gamma=0.001, kernel=rbf ...................................\n",
            "[CV] ...... C=10, gamma=0.001, kernel=rbf, score=-1.033, total=   1.2s\n",
            "[CV] C=10, gamma=0.001, kernel=rbf ...................................\n",
            "[CV] ...... C=10, gamma=0.001, kernel=rbf, score=-1.152, total=   1.2s\n",
            "[CV] C=10, gamma=0.001, kernel=rbf ...................................\n",
            "[CV] ...... C=10, gamma=0.001, kernel=rbf, score=-1.095, total=   1.2s\n",
            "[CV] C=10, gamma=0.001, kernel=linear ................................\n",
            "[CV] ... C=10, gamma=0.001, kernel=linear, score=-1.060, total=   5.4s\n",
            "[CV] C=10, gamma=0.001, kernel=linear ................................\n",
            "[CV] ... C=10, gamma=0.001, kernel=linear, score=-1.057, total=   5.4s\n",
            "[CV] C=10, gamma=0.001, kernel=linear ................................\n",
            "[CV] ... C=10, gamma=0.001, kernel=linear, score=-1.047, total=   5.4s\n",
            "[CV] C=10, gamma=0.001, kernel=linear ................................\n",
            "[CV] ... C=10, gamma=0.001, kernel=linear, score=-1.170, total=   4.6s\n",
            "[CV] C=10, gamma=0.001, kernel=linear ................................\n",
            "[CV] ... C=10, gamma=0.001, kernel=linear, score=-1.089, total=   5.1s\n",
            "[CV] C=10, gamma=0.0001, kernel=rbf ..................................\n",
            "[CV] ..... C=10, gamma=0.0001, kernel=rbf, score=-1.058, total=   1.1s\n",
            "[CV] C=10, gamma=0.0001, kernel=rbf ..................................\n",
            "[CV] ..... C=10, gamma=0.0001, kernel=rbf, score=-1.060, total=   1.1s\n",
            "[CV] C=10, gamma=0.0001, kernel=rbf ..................................\n",
            "[CV] ..... C=10, gamma=0.0001, kernel=rbf, score=-1.052, total=   1.1s\n",
            "[CV] C=10, gamma=0.0001, kernel=rbf ..................................\n",
            "[CV] ..... C=10, gamma=0.0001, kernel=rbf, score=-1.173, total=   1.2s\n",
            "[CV] C=10, gamma=0.0001, kernel=rbf ..................................\n",
            "[CV] ..... C=10, gamma=0.0001, kernel=rbf, score=-1.095, total=   1.2s\n",
            "[CV] C=10, gamma=0.0001, kernel=linear ...............................\n",
            "[CV] .. C=10, gamma=0.0001, kernel=linear, score=-1.060, total=   5.3s\n",
            "[CV] C=10, gamma=0.0001, kernel=linear ...............................\n",
            "[CV] .. C=10, gamma=0.0001, kernel=linear, score=-1.057, total=   5.0s\n",
            "[CV] C=10, gamma=0.0001, kernel=linear ...............................\n",
            "[CV] .. C=10, gamma=0.0001, kernel=linear, score=-1.047, total=   5.4s\n",
            "[CV] C=10, gamma=0.0001, kernel=linear ...............................\n",
            "[CV] .. C=10, gamma=0.0001, kernel=linear, score=-1.170, total=   5.8s\n",
            "[CV] C=10, gamma=0.0001, kernel=linear ...............................\n",
            "[CV] .. C=10, gamma=0.0001, kernel=linear, score=-1.089, total=   5.1s\n",
            "[CV] C=100, gamma=1, kernel=rbf ......................................\n",
            "[CV] ......... C=100, gamma=1, kernel=rbf, score=-1.446, total=  16.6s\n",
            "[CV] C=100, gamma=1, kernel=rbf ......................................\n",
            "[CV] ......... C=100, gamma=1, kernel=rbf, score=-1.510, total=  17.2s\n",
            "[CV] C=100, gamma=1, kernel=rbf ......................................\n",
            "[CV] ......... C=100, gamma=1, kernel=rbf, score=-1.490, total=  16.4s\n",
            "[CV] C=100, gamma=1, kernel=rbf ......................................\n",
            "[CV] ......... C=100, gamma=1, kernel=rbf, score=-1.693, total=  24.0s\n",
            "[CV] C=100, gamma=1, kernel=rbf ......................................\n",
            "[CV] ......... C=100, gamma=1, kernel=rbf, score=-1.459, total=  18.2s\n",
            "[CV] C=100, gamma=1, kernel=linear ...................................\n",
            "[CV] ...... C=100, gamma=1, kernel=linear, score=-1.060, total=  32.2s\n",
            "[CV] C=100, gamma=1, kernel=linear ...................................\n",
            "[CV] ...... C=100, gamma=1, kernel=linear, score=-1.057, total=  29.5s\n",
            "[CV] C=100, gamma=1, kernel=linear ...................................\n",
            "[CV] ...... C=100, gamma=1, kernel=linear, score=-1.047, total=  37.3s\n",
            "[CV] C=100, gamma=1, kernel=linear ...................................\n",
            "[CV] ...... C=100, gamma=1, kernel=linear, score=-1.170, total=  33.2s\n",
            "[CV] C=100, gamma=1, kernel=linear ...................................\n",
            "[CV] ...... C=100, gamma=1, kernel=linear, score=-1.089, total=  34.1s\n",
            "[CV] C=100, gamma=0.1, kernel=rbf ....................................\n",
            "[CV] ....... C=100, gamma=0.1, kernel=rbf, score=-1.106, total=   3.8s\n",
            "[CV] C=100, gamma=0.1, kernel=rbf ....................................\n",
            "[CV] ....... C=100, gamma=0.1, kernel=rbf, score=-1.084, total=   3.6s\n",
            "[CV] C=100, gamma=0.1, kernel=rbf ....................................\n",
            "[CV] ....... C=100, gamma=0.1, kernel=rbf, score=-1.083, total=   3.8s\n",
            "[CV] C=100, gamma=0.1, kernel=rbf ....................................\n",
            "[CV] ....... C=100, gamma=0.1, kernel=rbf, score=-1.235, total=   3.8s\n",
            "[CV] C=100, gamma=0.1, kernel=rbf ....................................\n",
            "[CV] ....... C=100, gamma=0.1, kernel=rbf, score=-1.159, total=   3.6s\n",
            "[CV] C=100, gamma=0.1, kernel=linear .................................\n",
            "[CV] .... C=100, gamma=0.1, kernel=linear, score=-1.060, total=  33.9s\n",
            "[CV] C=100, gamma=0.1, kernel=linear .................................\n",
            "[CV] .... C=100, gamma=0.1, kernel=linear, score=-1.057, total=  31.5s\n",
            "[CV] C=100, gamma=0.1, kernel=linear .................................\n",
            "[CV] .... C=100, gamma=0.1, kernel=linear, score=-1.047, total=  36.2s\n",
            "[CV] C=100, gamma=0.1, kernel=linear .................................\n",
            "[CV] .... C=100, gamma=0.1, kernel=linear, score=-1.170, total=  35.4s\n",
            "[CV] C=100, gamma=0.1, kernel=linear .................................\n",
            "[CV] .... C=100, gamma=0.1, kernel=linear, score=-1.089, total=  32.8s\n",
            "[CV] C=100, gamma=0.01, kernel=rbf ...................................\n",
            "[CV] ...... C=100, gamma=0.01, kernel=rbf, score=-1.031, total=   1.6s\n",
            "[CV] C=100, gamma=0.01, kernel=rbf ...................................\n",
            "[CV] ...... C=100, gamma=0.01, kernel=rbf, score=-1.040, total=   1.8s\n",
            "[CV] C=100, gamma=0.01, kernel=rbf ...................................\n",
            "[CV] ...... C=100, gamma=0.01, kernel=rbf, score=-1.013, total=   2.1s\n",
            "[CV] C=100, gamma=0.01, kernel=rbf ...................................\n",
            "[CV] ...... C=100, gamma=0.01, kernel=rbf, score=-1.138, total=   2.0s\n",
            "[CV] C=100, gamma=0.01, kernel=rbf ...................................\n",
            "[CV] ...... C=100, gamma=0.01, kernel=rbf, score=-1.077, total=   1.7s\n",
            "[CV] C=100, gamma=0.01, kernel=linear ................................\n",
            "[CV] ... C=100, gamma=0.01, kernel=linear, score=-1.060, total=  31.6s\n",
            "[CV] C=100, gamma=0.01, kernel=linear ................................\n",
            "[CV] ... C=100, gamma=0.01, kernel=linear, score=-1.057, total=  31.3s\n",
            "[CV] C=100, gamma=0.01, kernel=linear ................................\n",
            "[CV] ... C=100, gamma=0.01, kernel=linear, score=-1.047, total=  35.7s\n",
            "[CV] C=100, gamma=0.01, kernel=linear ................................\n",
            "[CV] ... C=100, gamma=0.01, kernel=linear, score=-1.170, total=  35.7s\n",
            "[CV] C=100, gamma=0.01, kernel=linear ................................\n",
            "[CV] ... C=100, gamma=0.01, kernel=linear, score=-1.089, total=  32.1s\n",
            "[CV] C=100, gamma=0.001, kernel=rbf ..................................\n",
            "[CV] ..... C=100, gamma=0.001, kernel=rbf, score=-1.034, total=   1.7s\n",
            "[CV] C=100, gamma=0.001, kernel=rbf ..................................\n",
            "[CV] ..... C=100, gamma=0.001, kernel=rbf, score=-1.036, total=   1.2s\n",
            "[CV] C=100, gamma=0.001, kernel=rbf ..................................\n",
            "[CV] ..... C=100, gamma=0.001, kernel=rbf, score=-1.016, total=   1.4s\n",
            "[CV] C=100, gamma=0.001, kernel=rbf ..................................\n",
            "[CV] ..... C=100, gamma=0.001, kernel=rbf, score=-1.139, total=   1.2s\n",
            "[CV] C=100, gamma=0.001, kernel=rbf ..................................\n",
            "[CV] ..... C=100, gamma=0.001, kernel=rbf, score=-1.093, total=   1.2s\n",
            "[CV] C=100, gamma=0.001, kernel=linear ...............................\n",
            "[CV] .. C=100, gamma=0.001, kernel=linear, score=-1.060, total=  31.2s\n",
            "[CV] C=100, gamma=0.001, kernel=linear ...............................\n",
            "[CV] .. C=100, gamma=0.001, kernel=linear, score=-1.057, total=  28.5s\n",
            "[CV] C=100, gamma=0.001, kernel=linear ...............................\n",
            "[CV] .. C=100, gamma=0.001, kernel=linear, score=-1.047, total=  32.0s\n",
            "[CV] C=100, gamma=0.001, kernel=linear ...............................\n",
            "[CV] .. C=100, gamma=0.001, kernel=linear, score=-1.170, total=  31.0s\n",
            "[CV] C=100, gamma=0.001, kernel=linear ...............................\n",
            "[CV] .. C=100, gamma=0.001, kernel=linear, score=-1.089, total=  31.3s\n",
            "[CV] C=100, gamma=0.0001, kernel=rbf .................................\n",
            "[CV] .... C=100, gamma=0.0001, kernel=rbf, score=-1.056, total=   1.2s\n",
            "[CV] C=100, gamma=0.0001, kernel=rbf .................................\n",
            "[CV] .... C=100, gamma=0.0001, kernel=rbf, score=-1.054, total=   1.1s\n",
            "[CV] C=100, gamma=0.0001, kernel=rbf .................................\n",
            "[CV] .... C=100, gamma=0.0001, kernel=rbf, score=-1.044, total=   1.2s\n",
            "[CV] C=100, gamma=0.0001, kernel=rbf .................................\n",
            "[CV] .... C=100, gamma=0.0001, kernel=rbf, score=-1.166, total=   1.2s\n",
            "[CV] C=100, gamma=0.0001, kernel=rbf .................................\n",
            "[CV] .... C=100, gamma=0.0001, kernel=rbf, score=-1.089, total=   1.1s\n",
            "[CV] C=100, gamma=0.0001, kernel=linear ..............................\n",
            "[CV] . C=100, gamma=0.0001, kernel=linear, score=-1.060, total=  30.5s\n",
            "[CV] C=100, gamma=0.0001, kernel=linear ..............................\n",
            "[CV] . C=100, gamma=0.0001, kernel=linear, score=-1.057, total=  29.0s\n",
            "[CV] C=100, gamma=0.0001, kernel=linear ..............................\n",
            "[CV] . C=100, gamma=0.0001, kernel=linear, score=-1.047, total=  31.9s\n",
            "[CV] C=100, gamma=0.0001, kernel=linear ..............................\n",
            "[CV] . C=100, gamma=0.0001, kernel=linear, score=-1.170, total=  31.5s\n",
            "[CV] C=100, gamma=0.0001, kernel=linear ..............................\n",
            "[CV] . C=100, gamma=0.0001, kernel=linear, score=-1.089, total=  31.3s\n",
            "[CV] C=1000, gamma=1, kernel=rbf .....................................\n",
            "[CV] ........ C=1000, gamma=1, kernel=rbf, score=-2.314, total= 3.4min\n",
            "[CV] C=1000, gamma=1, kernel=rbf .....................................\n",
            "[CV] ........ C=1000, gamma=1, kernel=rbf, score=-2.617, total= 3.3min\n",
            "[CV] C=1000, gamma=1, kernel=rbf .....................................\n",
            "[CV] ........ C=1000, gamma=1, kernel=rbf, score=-2.399, total= 3.1min\n",
            "[CV] C=1000, gamma=1, kernel=rbf .....................................\n",
            "[CV] ........ C=1000, gamma=1, kernel=rbf, score=-2.805, total= 3.3min\n",
            "[CV] C=1000, gamma=1, kernel=rbf .....................................\n",
            "[CV] ........ C=1000, gamma=1, kernel=rbf, score=-2.200, total= 2.8min\n",
            "[CV] C=1000, gamma=1, kernel=linear ..................................\n",
            "[CV] ..... C=1000, gamma=1, kernel=linear, score=-1.060, total= 4.3min\n",
            "[CV] C=1000, gamma=1, kernel=linear ..................................\n",
            "[CV] ..... C=1000, gamma=1, kernel=linear, score=-1.057, total= 4.1min\n",
            "[CV] C=1000, gamma=1, kernel=linear ..................................\n",
            "[CV] ..... C=1000, gamma=1, kernel=linear, score=-1.047, total= 4.3min\n",
            "[CV] C=1000, gamma=1, kernel=linear ..................................\n",
            "[CV] ..... C=1000, gamma=1, kernel=linear, score=-1.170, total= 4.2min\n",
            "[CV] C=1000, gamma=1, kernel=linear ..................................\n",
            "[CV] ..... C=1000, gamma=1, kernel=linear, score=-1.090, total= 4.6min\n",
            "[CV] C=1000, gamma=0.1, kernel=rbf ...................................\n",
            "[CV] ...... C=1000, gamma=0.1, kernel=rbf, score=-1.199, total=  25.9s\n",
            "[CV] C=1000, gamma=0.1, kernel=rbf ...................................\n",
            "[CV] ...... C=1000, gamma=0.1, kernel=rbf, score=-1.147, total=  22.2s\n",
            "[CV] C=1000, gamma=0.1, kernel=rbf ...................................\n",
            "[CV] ...... C=1000, gamma=0.1, kernel=rbf, score=-1.255, total=  22.8s\n",
            "[CV] C=1000, gamma=0.1, kernel=rbf ...................................\n",
            "[CV] ...... C=1000, gamma=0.1, kernel=rbf, score=-1.327, total=  25.9s\n",
            "[CV] C=1000, gamma=0.1, kernel=rbf ...................................\n",
            "[CV] ...... C=1000, gamma=0.1, kernel=rbf, score=-1.256, total=  26.8s\n",
            "[CV] C=1000, gamma=0.1, kernel=linear ................................\n",
            "[CV] ... C=1000, gamma=0.1, kernel=linear, score=-1.060, total= 4.5min\n",
            "[CV] C=1000, gamma=0.1, kernel=linear ................................\n",
            "[CV] ... C=1000, gamma=0.1, kernel=linear, score=-1.057, total= 4.7min\n",
            "[CV] C=1000, gamma=0.1, kernel=linear ................................\n",
            "[CV] ... C=1000, gamma=0.1, kernel=linear, score=-1.047, total= 4.7min\n",
            "[CV] C=1000, gamma=0.1, kernel=linear ................................\n",
            "[CV] ... C=1000, gamma=0.1, kernel=linear, score=-1.170, total= 4.5min\n",
            "[CV] C=1000, gamma=0.1, kernel=linear ................................\n",
            "[CV] ... C=1000, gamma=0.1, kernel=linear, score=-1.090, total= 4.3min\n",
            "[CV] C=1000, gamma=0.01, kernel=rbf ..................................\n",
            "[CV] ..... C=1000, gamma=0.01, kernel=rbf, score=-1.036, total=   4.4s\n",
            "[CV] C=1000, gamma=0.01, kernel=rbf ..................................\n",
            "[CV] ..... C=1000, gamma=0.01, kernel=rbf, score=-1.047, total=   4.4s\n",
            "[CV] C=1000, gamma=0.01, kernel=rbf ..................................\n",
            "[CV] ..... C=1000, gamma=0.01, kernel=rbf, score=-1.023, total=   4.4s\n",
            "[CV] C=1000, gamma=0.01, kernel=rbf ..................................\n",
            "[CV] ..... C=1000, gamma=0.01, kernel=rbf, score=-1.170, total=   4.1s\n",
            "[CV] C=1000, gamma=0.01, kernel=rbf ..................................\n",
            "[CV] ..... C=1000, gamma=0.01, kernel=rbf, score=-1.095, total=   4.4s\n",
            "[CV] C=1000, gamma=0.01, kernel=linear ...............................\n",
            "[CV] .. C=1000, gamma=0.01, kernel=linear, score=-1.060, total= 4.4min\n",
            "[CV] C=1000, gamma=0.01, kernel=linear ...............................\n",
            "[CV] .. C=1000, gamma=0.01, kernel=linear, score=-1.057, total= 4.4min\n",
            "[CV] C=1000, gamma=0.01, kernel=linear ...............................\n",
            "[CV] .. C=1000, gamma=0.01, kernel=linear, score=-1.047, total= 4.7min\n",
            "[CV] C=1000, gamma=0.01, kernel=linear ...............................\n",
            "[CV] .. C=1000, gamma=0.01, kernel=linear, score=-1.170, total= 4.3min\n",
            "[CV] C=1000, gamma=0.01, kernel=linear ...............................\n",
            "[CV] .. C=1000, gamma=0.01, kernel=linear, score=-1.090, total= 4.5min\n",
            "[CV] C=1000, gamma=0.001, kernel=rbf .................................\n",
            "[CV] .... C=1000, gamma=0.001, kernel=rbf, score=-1.030, total=   1.8s\n",
            "[CV] C=1000, gamma=0.001, kernel=rbf .................................\n",
            "[CV] .... C=1000, gamma=0.001, kernel=rbf, score=-1.036, total=   1.8s\n",
            "[CV] C=1000, gamma=0.001, kernel=rbf .................................\n",
            "[CV] .... C=1000, gamma=0.001, kernel=rbf, score=-1.009, total=   1.9s\n",
            "[CV] C=1000, gamma=0.001, kernel=rbf .................................\n",
            "[CV] .... C=1000, gamma=0.001, kernel=rbf, score=-1.133, total=   1.9s\n",
            "[CV] C=1000, gamma=0.001, kernel=rbf .................................\n",
            "[CV] .... C=1000, gamma=0.001, kernel=rbf, score=-1.087, total=   1.8s\n",
            "[CV] C=1000, gamma=0.001, kernel=linear ..............................\n",
            "[CV] . C=1000, gamma=0.001, kernel=linear, score=-1.060, total= 4.4min\n",
            "[CV] C=1000, gamma=0.001, kernel=linear ..............................\n",
            "[CV] . C=1000, gamma=0.001, kernel=linear, score=-1.057, total= 4.5min\n",
            "[CV] C=1000, gamma=0.001, kernel=linear ..............................\n",
            "[CV] . C=1000, gamma=0.001, kernel=linear, score=-1.047, total= 4.5min\n",
            "[CV] C=1000, gamma=0.001, kernel=linear ..............................\n",
            "[CV] . C=1000, gamma=0.001, kernel=linear, score=-1.170, total= 4.3min\n",
            "[CV] C=1000, gamma=0.001, kernel=linear ..............................\n",
            "[CV] . C=1000, gamma=0.001, kernel=linear, score=-1.090, total= 4.6min\n",
            "[CV] C=1000, gamma=0.0001, kernel=rbf ................................\n",
            "[CV] ... C=1000, gamma=0.0001, kernel=rbf, score=-1.046, total=   1.2s\n",
            "[CV] C=1000, gamma=0.0001, kernel=rbf ................................\n",
            "[CV] ... C=1000, gamma=0.0001, kernel=rbf, score=-1.046, total=   1.5s\n",
            "[CV] C=1000, gamma=0.0001, kernel=rbf ................................\n",
            "[CV] ... C=1000, gamma=0.0001, kernel=rbf, score=-1.031, total=   1.2s\n",
            "[CV] C=1000, gamma=0.0001, kernel=rbf ................................\n",
            "[CV] ... C=1000, gamma=0.0001, kernel=rbf, score=-1.153, total=   1.3s\n",
            "[CV] C=1000, gamma=0.0001, kernel=rbf ................................\n",
            "[CV] ... C=1000, gamma=0.0001, kernel=rbf, score=-1.093, total=   1.3s\n",
            "[CV] C=1000, gamma=0.0001, kernel=linear .............................\n",
            "[CV]  C=1000, gamma=0.0001, kernel=linear, score=-1.060, total= 4.6min\n",
            "[CV] C=1000, gamma=0.0001, kernel=linear .............................\n",
            "[CV]  C=1000, gamma=0.0001, kernel=linear, score=-1.057, total= 4.5min\n",
            "[CV] C=1000, gamma=0.0001, kernel=linear .............................\n",
            "[CV]  C=1000, gamma=0.0001, kernel=linear, score=-1.047, total= 4.7min\n",
            "[CV] C=1000, gamma=0.0001, kernel=linear .............................\n",
            "[CV]  C=1000, gamma=0.0001, kernel=linear, score=-1.170, total= 4.3min\n",
            "[CV] C=1000, gamma=0.0001, kernel=linear .............................\n",
            "[CV]  C=1000, gamma=0.0001, kernel=linear, score=-1.090, total= 4.4min\n"
          ]
        },
        {
          "name": "stderr",
          "output_type": "stream",
          "text": [
            "[Parallel(n_jobs=1)]: Done 250 out of 250 | elapsed: 150.7min finished\n"
          ]
        },
        {
          "name": "stdout",
          "output_type": "stream",
          "text": [
            "The best score for SVM is: -1.0578897651069958\n",
            "The best parameters for SVMM are: SVR(C=10, gamma=0.01)\n",
            "MSE of SVM on training data =  1.0489138523405188\n",
            "MSE of SVM on testing data =  1.085242944179051\n",
            "difference in MSE of SVM =  0.03632909183853217\n"
          ]
        }
      ],
      "source": [
        "# defining parameter grid\n",
        "SVR_paramgrid = {'C': [0.1, 1, 10, 100, 1000],\n",
        "              'gamma': [1, 0.1, 0.01, 0.001, 0.0001],\n",
        "              'kernel': ['rbf','linear']}\n",
        "\n",
        "grid_svm = GridSearchCV(SVR(), SVR_paramgrid, refit = True, cv=5, verbose = 3, scoring=scorer)\n",
        "\n",
        "# fit the grid search model\n",
        "grid_svm.fit(x_train_scale, y_train)\n",
        "\n",
        "# check the best hyperparameters and the best test score from cross validation\n",
        "print('The best score for SVM is:',grid_svm.best_score_)\n",
        "print('The best parameters for SVMM are:',grid_svm.best_estimator_)\n",
        "\n",
        "# Building final SVM model with the best hyperparameters\n",
        "svm_model = grid_svm.best_estimator_\n",
        "\n",
        "# predict\n",
        "SVM_fit = svm_model.fit(x_train_scale,y_train)\n",
        "ytrain_svm_shots = SVM_fit.predict(x_train_scale)\n",
        "ytest_svm_shots = SVM_fit.predict(x_test_scale)\n",
        "\n",
        "# evaluate\n",
        "mse_svm_shots_train = mean_squared_error(ytrain_svm_shots,y_train)\n",
        "mse_svm_shots_test = mean_squared_error(ytest_svm_shots,y_test)\n",
        "genloss_svm_shots = mse_svm_shots_test - mse_svm_shots_train\n",
        "\n",
        "print(\"MSE of SVM on training data = \",mse_svm_shots_train)\n",
        "print(\"MSE of SVM on testing data = \",mse_svm_shots_test)\n",
        "print(\"difference in MSE of SVM = \",genloss_svm_shots)"
      ]
    },
    {
      "cell_type": "markdown",
      "metadata": {
        "id": "mSG_38oSlA_V"
      },
      "source": [
        "##### Model Evaluation and Selection"
      ]
    },
    {
      "cell_type": "code",
      "execution_count": null,
      "metadata": {
        "id": "Bxa-tTfWlKkE",
        "outputId": "3e9adf1f-ebcd-4f26-8942-321dc3033358"
      },
      "outputs": [
        {
          "data": {
            "image/png": "[encoded data removed]",
            "text/plain": [
              "<Figure size 864x576 with 1 Axes>"
            ]
          },
          "metadata": {
            "needs_background": "light"
          },
          "output_type": "display_data"
        },
        {
          "data": {
            "text/plain": [
              "(<Figure size 864x576 with 1 Axes>,\n",
              " <AxesSubplot:xlabel='Regression Models for shot based expected match value', ylabel='Mean Squared Error'>)"
            ]
          },
          "execution_count": 313,
          "metadata": {},
          "output_type": "execute_result"
        }
      ],
      "source": [
        "# function to produce a bar plot visualising performance and the generalisation loss to aid our decision making\n",
        "def barplot(training, testing, diff,shot):\n",
        "    #width of bar\n",
        "    barwidth =  0.25\n",
        "    fig = plt.subplots(figsize = (12,8))\n",
        "\n",
        "    # position of bar on x axis\n",
        "    br1 = np.arange(len(training))\n",
        "    br2 = [x + barwidth for x in br1]\n",
        "    br3 = [x + barwidth for x in br2]\n",
        "\n",
        "    # make the plot\n",
        "    plt.bar(br1, training, color ='r', width = barwidth, edgecolor='grey',label='training')\n",
        "    plt.bar(br2, testing, color ='g', width = barwidth, edgecolor='grey', label ='testing')\n",
        "    plt.bar(br3, diff, color ='b', width = barwidth, edgecolor ='grey',label ='loss')\n",
        "\n",
        "    # labelling\n",
        "    plt.xticks([r + barwidth for r in range(len(training))],['LR','RF','SVM'])\n",
        "    plt.legend()\n",
        "    plt.xlabel(shot)\n",
        "    plt.ylabel('Mean Squared Error')\n",
        "    plt.show()\n",
        "\n",
        "    return fig\n",
        "\n",
        "# listing the mean squared erros as input into bar plot\n",
        "shots_training_eva = [mse_lr_shots_train, mse_rf_shots_train, mse_svm_shots_train]\n",
        "shots_testing_eva = [mse_lr_shots_test, mse_rf_shots_test, mse_svm_shots_test]\n",
        "shots_diff_eva = [genloss_lr_shots, genloss_rf_shots, genloss_svm_shots]\n",
        "\n",
        "# plotting\n",
        "shots_plot = barplot(shots_training_eva,shots_testing_eva,shots_diff_eva,'Regression Models for shot based expected match value')\n",
        "shots_plot\n"
      ]
    },
    {
      "cell_type": "markdown",
      "metadata": {
        "id": "pACD2VHe7YYU"
      },
      "source": [
        "SVM has the seecond smallest mean squared error but it has a much lower generalisation loss compared to RF. Hence, it was chosen."
      ]
    },
    {
      "cell_type": "markdown",
      "metadata": {
        "id": "hZAToGH5lbPr"
      },
      "source": [
        "#### Non-shot based expected match value model\n",
        "The same steps were repeated to build our non-shot based expected match value model."
      ]
    },
    {
      "cell_type": "markdown",
      "metadata": {
        "id": "B5GjGxPZ7YYX"
      },
      "source": [
        "Again, we split training data into training and validation sets for performance evaluation. We also scale our input features before feeding into our models."
      ]
    },
    {
      "cell_type": "code",
      "execution_count": null,
      "metadata": {
        "id": "8m1dQyupmOBW"
      },
      "outputs": [],
      "source": [
        "# splitting training and testing data\n",
        "x_train2, x_test2, y_train2, y_test2 = train_test_split(x_nonshot, y_nonshot, test_size = 0.2, random_state=42)\n",
        "\n",
        "# standardise\n",
        "scaler = StandardScaler()\n",
        "x_train_scale2 = scaler.fit_transform(x_train2)\n",
        "x_test_scale2 = scaler.transform(x_test2)\n",
        "x_nonshot_scale = scaler.transform(x_nonshot)\n"
      ]
    },
    {
      "cell_type": "markdown",
      "metadata": {
        "id": "bKqjAikCmRkF"
      },
      "source": [
        "##### Multivariate Linear Regression"
      ]
    },
    {
      "cell_type": "code",
      "execution_count": null,
      "metadata": {
        "id": "bRazCZzmOnWd",
        "outputId": "39cb0ef1-c642-48e9-e367-43153d582c41"
      },
      "outputs": [
        {
          "name": "stdout",
          "output_type": "stream",
          "text": [
            "MSE of linear regressor on training data =  1.3835395867250249\n",
            "MSE of linear regressor on testing data =  1.4287510232811902\n",
            "difference in MSE of linear regressor =  0.04521143655616533\n"
          ]
        }
      ],
      "source": [
        "# fit\n",
        "lr_nonshot = LinearRegression()\n",
        "lr_nonshot.fit(x_train_scale2,y_train2)\n",
        "\n",
        "# predict\n",
        "ytrain_lr_nonshot = lr_nonshot.predict(x_train_scale2)\n",
        "ytest_lr_nonshot = lr_nonshot.predict(x_test_scale2)\n",
        "\n",
        "# evaluate\n",
        "mse_lr_nonshot_train = mean_squared_error(ytrain_lr_nonshot,y_train2)\n",
        "mse_lr_nonshot_test = mean_squared_error(ytest_lr_nonshot,y_test2)\n",
        "genloss_lr_nonshot = mse_lr_nonshot_test - mse_lr_nonshot_train\n",
        "\n",
        "print(\"MSE of linear regressor on training data = \",mse_lr_nonshot_train)\n",
        "print(\"MSE of linear regressor on testing data = \",mse_lr_nonshot_test)\n",
        "print(\"difference in MSE of linear regressor = \",genloss_lr_nonshot)\n"
      ]
    },
    {
      "cell_type": "code",
      "execution_count": null,
      "metadata": {
        "id": "oxL8jkYM7YYX",
        "outputId": "ece6e1f2-07fd-4ddd-9956-777b561bdc2c"
      },
      "outputs": [
        {
          "name": "stdout",
          "output_type": "stream",
          "text": [
            "Nested Cross Validation mean test score: -1.3874651723009088\n"
          ]
        }
      ],
      "source": [
        "# cross validation\n",
        "nonshot_lr_cv = cross_val_score(lr_nonshot, X=x_train_scale2, y=y_train2, cv=5, scoring=scorer)\n",
        "nonshot_lr_err = nonshot_lr_cv.mean()\n",
        "print('Nested Cross Validation mean test score:',nonshot_lr_err)"
      ]
    },
    {
      "cell_type": "markdown",
      "metadata": {
        "id": "S4OTCqj47YYX"
      },
      "source": [
        "For the same reasons as above, we choose to use mean squared error from our validation set."
      ]
    },
    {
      "cell_type": "code",
      "execution_count": null,
      "metadata": {
        "id": "kVUfTnftPHsY",
        "outputId": "c273a365-e8a5-4218-ae87-822cf65e0369"
      },
      "outputs": [
        {
          "data": {
            "text/plain": [
              "P     0.245753\n",
              "C     0.244139\n",
              "CR   -0.349918\n",
              "dtype: float64"
            ]
          },
          "execution_count": 22,
          "metadata": {},
          "output_type": "execute_result"
        }
      ],
      "source": [
        "# checking parameters for non_shot based expected match value\n",
        "param_nonshot = pd.Series(lr_nonshot.coef_, index=x_nonshot.columns)\n",
        "np.random.seed(1)\n",
        "err_nonshot = np.std([lr_nonshot.fit(*resample(x_nonshot,y_nonshot)).coef_ for i in range(1000)],0)\n",
        "param_nonshot"
      ]
    },
    {
      "cell_type": "markdown",
      "metadata": {
        "id": "z_cWGswA7YYX"
      },
      "source": [
        "These values show the coefficients for our input variables."
      ]
    },
    {
      "cell_type": "markdown",
      "metadata": {
        "id": "2ktIauGfnWbO"
      },
      "source": [
        "##### Random Forest"
      ]
    },
    {
      "cell_type": "code",
      "execution_count": null,
      "metadata": {
        "id": "0-bQKrBAVilo",
        "outputId": "6c92a481-842c-49e9-b15c-4335a96cda59"
      },
      "outputs": [
        {
          "name": "stdout",
          "output_type": "stream",
          "text": [
            "Fitting 5 folds for each of 288 candidates, totalling 1440 fits\n"
          ]
        },
        {
          "name": "stderr",
          "output_type": "stream",
          "text": [
            "[Parallel(n_jobs=-1)]: Using backend LokyBackend with 12 concurrent workers.\n",
            "[Parallel(n_jobs=-1)]: Done  17 tasks      | elapsed:   10.8s\n",
            "[Parallel(n_jobs=-1)]: Done 138 tasks      | elapsed:  1.2min\n",
            "[Parallel(n_jobs=-1)]: Done 341 tasks      | elapsed:  3.1min\n",
            "[Parallel(n_jobs=-1)]: Done 624 tasks      | elapsed:  5.4min\n",
            "[Parallel(n_jobs=-1)]: Done 989 tasks      | elapsed:  8.5min\n",
            "[Parallel(n_jobs=-1)]: Done 1440 out of 1440 | elapsed: 12.4min finished\n"
          ]
        },
        {
          "name": "stdout",
          "output_type": "stream",
          "text": [
            "-1.4214740533336951\n",
            "RandomForestRegressor(max_depth=90, max_features=2, min_samples_leaf=5,\n",
            "                      min_samples_split=12, n_estimators=200)\n",
            "MSE of random forest regressor on training data =  0.9724646232981622\n",
            "MSE of random forest regressor on testing data =  1.4492603636460581\n",
            "difference in MSE of random forest regressor =  0.47679574034789596\n"
          ]
        }
      ],
      "source": [
        "# Create a base model\n",
        "rf2 = RandomForestRegressor()\n",
        "\n",
        "# Instantiate the grid search model\n",
        "grid_rf2 = GridSearchCV(estimator = rf2, param_grid = RF_paramgrid,\n",
        "                          cv = 5, n_jobs = -1, verbose = 2, scoring=scorer)\n",
        "# Fit the grid search model\n",
        "grid_rf2.fit(x_train_scale2, y_train2)\n",
        "\n",
        "# checking values of hyperparameters and best test score\n",
        "print (grid_rf2.best_score_)\n",
        "print (grid_rf2.best_estimator_)\n",
        "\n",
        "# build the final model with the optimum hyperparameters\n",
        "rf2_model = grid_rf2.best_estimator_\n",
        "\n",
        "# fit the final model\n",
        "RF2_fit = rf2_model.fit(x_train_scale2, y_train2)\n",
        "\n",
        "# predict\n",
        "ytrain_rf_nonshot = RF2_fit.predict(x_train_scale2)\n",
        "ytest_rf_nonshot = RF2_fit.predict(x_test_scale2)\n",
        "\n",
        "# evaluate\n",
        "mse_rf_nonshot_train = mean_squared_error(ytrain_rf_nonshot,y_train2)\n",
        "mse_rf_nonshot_test = mean_squared_error(ytest_rf_nonshot,y_test2)\n",
        "genloss_rf_nonshot = mse_rf_nonshot_test - mse_rf_nonshot_train\n",
        "\n",
        "print(\"MSE of random forest regressor on training data = \",mse_rf_nonshot_train)\n",
        "print(\"MSE of random forest regressor on testing data = \",mse_rf_nonshot_test)\n",
        "print(\"difference in MSE of random forest regressor = \",genloss_rf_nonshot)"
      ]
    },
    {
      "cell_type": "markdown",
      "metadata": {
        "id": "IQg2EP-_oC3T"
      },
      "source": [
        "##### Support Vector Machines"
      ]
    },
    {
      "cell_type": "code",
      "execution_count": null,
      "metadata": {
        "id": "ATqYYavsV32V",
        "outputId": "ff79a3ab-2ded-4cc7-8fe9-f69cd9d4f266"
      },
      "outputs": [
        {
          "name": "stdout",
          "output_type": "stream",
          "text": [
            "Fitting 5 folds for each of 50 candidates, totalling 250 fits\n",
            "[CV] C=0.1, gamma=1, kernel=rbf ......................................\n"
          ]
        },
        {
          "name": "stderr",
          "output_type": "stream",
          "text": [
            "[Parallel(n_jobs=1)]: Using backend SequentialBackend with 1 concurrent workers.\n"
          ]
        },
        {
          "name": "stdout",
          "output_type": "stream",
          "text": [
            "[CV] ......... C=0.1, gamma=1, kernel=rbf, score=-1.415, total=   1.7s\n",
            "[CV] C=0.1, gamma=1, kernel=rbf ......................................\n"
          ]
        },
        {
          "name": "stderr",
          "output_type": "stream",
          "text": [
            "[Parallel(n_jobs=1)]: Done   1 out of   1 | elapsed:    1.6s remaining:    0.0s\n"
          ]
        },
        {
          "name": "stdout",
          "output_type": "stream",
          "text": [
            "[CV] ......... C=0.1, gamma=1, kernel=rbf, score=-1.466, total=   1.6s\n",
            "[CV] C=0.1, gamma=1, kernel=rbf ......................................\n"
          ]
        },
        {
          "name": "stderr",
          "output_type": "stream",
          "text": [
            "[Parallel(n_jobs=1)]: Done   2 out of   2 | elapsed:    3.1s remaining:    0.0s\n"
          ]
        },
        {
          "name": "stdout",
          "output_type": "stream",
          "text": [
            "[CV] ......... C=0.1, gamma=1, kernel=rbf, score=-1.463, total=   1.7s\n",
            "[CV] C=0.1, gamma=1, kernel=rbf ......................................\n",
            "[CV] ......... C=0.1, gamma=1, kernel=rbf, score=-1.644, total=   1.6s\n",
            "[CV] C=0.1, gamma=1, kernel=rbf ......................................\n",
            "[CV] ......... C=0.1, gamma=1, kernel=rbf, score=-1.565, total=   1.6s\n",
            "[CV] C=0.1, gamma=1, kernel=linear ...................................\n",
            "[CV] ...... C=0.1, gamma=1, kernel=linear, score=-1.364, total=   2.9s\n",
            "[CV] C=0.1, gamma=1, kernel=linear ...................................\n",
            "[CV] ...... C=0.1, gamma=1, kernel=linear, score=-1.412, total=   2.8s\n",
            "[CV] C=0.1, gamma=1, kernel=linear ...................................\n",
            "[CV] ...... C=0.1, gamma=1, kernel=linear, score=-1.421, total=   2.4s\n",
            "[CV] C=0.1, gamma=1, kernel=linear ...................................\n",
            "[CV] ...... C=0.1, gamma=1, kernel=linear, score=-1.600, total=   3.1s\n",
            "[CV] C=0.1, gamma=1, kernel=linear ...................................\n",
            "[CV] ...... C=0.1, gamma=1, kernel=linear, score=-1.516, total=   3.1s\n",
            "[CV] C=0.1, gamma=0.1, kernel=rbf ....................................\n",
            "[CV] ....... C=0.1, gamma=0.1, kernel=rbf, score=-1.353, total=   1.3s\n",
            "[CV] C=0.1, gamma=0.1, kernel=rbf ....................................\n",
            "[CV] ....... C=0.1, gamma=0.1, kernel=rbf, score=-1.386, total=   1.3s\n",
            "[CV] C=0.1, gamma=0.1, kernel=rbf ....................................\n",
            "[CV] ....... C=0.1, gamma=0.1, kernel=rbf, score=-1.376, total=   1.3s\n",
            "[CV] C=0.1, gamma=0.1, kernel=rbf ....................................\n",
            "[CV] ....... C=0.1, gamma=0.1, kernel=rbf, score=-1.576, total=   1.3s\n",
            "[CV] C=0.1, gamma=0.1, kernel=rbf ....................................\n",
            "[CV] ....... C=0.1, gamma=0.1, kernel=rbf, score=-1.473, total=   1.3s\n",
            "[CV] C=0.1, gamma=0.1, kernel=linear .................................\n",
            "[CV] .... C=0.1, gamma=0.1, kernel=linear, score=-1.364, total=   2.8s\n",
            "[CV] C=0.1, gamma=0.1, kernel=linear .................................\n",
            "[CV] .... C=0.1, gamma=0.1, kernel=linear, score=-1.412, total=   2.8s\n",
            "[CV] C=0.1, gamma=0.1, kernel=linear .................................\n",
            "[CV] .... C=0.1, gamma=0.1, kernel=linear, score=-1.421, total=   2.5s\n",
            "[CV] C=0.1, gamma=0.1, kernel=linear .................................\n",
            "[CV] .... C=0.1, gamma=0.1, kernel=linear, score=-1.600, total=   3.1s\n",
            "[CV] C=0.1, gamma=0.1, kernel=linear .................................\n",
            "[CV] .... C=0.1, gamma=0.1, kernel=linear, score=-1.516, total=   3.1s\n",
            "[CV] C=0.1, gamma=0.01, kernel=rbf ...................................\n",
            "[CV] ...... C=0.1, gamma=0.01, kernel=rbf, score=-1.328, total=   1.0s\n",
            "[CV] C=0.1, gamma=0.01, kernel=rbf ...................................\n",
            "[CV] ...... C=0.1, gamma=0.01, kernel=rbf, score=-1.370, total=   1.1s\n",
            "[CV] C=0.1, gamma=0.01, kernel=rbf ...................................\n",
            "[CV] ...... C=0.1, gamma=0.01, kernel=rbf, score=-1.371, total=   1.1s\n",
            "[CV] C=0.1, gamma=0.01, kernel=rbf ...................................\n",
            "[CV] ...... C=0.1, gamma=0.01, kernel=rbf, score=-1.540, total=   1.1s\n",
            "[CV] C=0.1, gamma=0.01, kernel=rbf ...................................\n",
            "[CV] ...... C=0.1, gamma=0.01, kernel=rbf, score=-1.444, total=   1.0s\n",
            "[CV] C=0.1, gamma=0.01, kernel=linear ................................\n",
            "[CV] ... C=0.1, gamma=0.01, kernel=linear, score=-1.364, total=   2.7s\n",
            "[CV] C=0.1, gamma=0.01, kernel=linear ................................\n",
            "[CV] ... C=0.1, gamma=0.01, kernel=linear, score=-1.412, total=   2.8s\n",
            "[CV] C=0.1, gamma=0.01, kernel=linear ................................\n",
            "[CV] ... C=0.1, gamma=0.01, kernel=linear, score=-1.421, total=   2.5s\n",
            "[CV] C=0.1, gamma=0.01, kernel=linear ................................\n",
            "[CV] ... C=0.1, gamma=0.01, kernel=linear, score=-1.600, total=   3.1s\n",
            "[CV] C=0.1, gamma=0.01, kernel=linear ................................\n",
            "[CV] ... C=0.1, gamma=0.01, kernel=linear, score=-1.516, total=   3.3s\n",
            "[CV] C=0.1, gamma=0.001, kernel=rbf ..................................\n",
            "[CV] ..... C=0.1, gamma=0.001, kernel=rbf, score=-1.323, total=   1.0s\n",
            "[CV] C=0.1, gamma=0.001, kernel=rbf ..................................\n",
            "[CV] ..... C=0.1, gamma=0.001, kernel=rbf, score=-1.371, total=   1.0s\n",
            "[CV] C=0.1, gamma=0.001, kernel=rbf ..................................\n",
            "[CV] ..... C=0.1, gamma=0.001, kernel=rbf, score=-1.374, total=   1.0s\n",
            "[CV] C=0.1, gamma=0.001, kernel=rbf ..................................\n",
            "[CV] ..... C=0.1, gamma=0.001, kernel=rbf, score=-1.535, total=   1.0s\n",
            "[CV] C=0.1, gamma=0.001, kernel=rbf ..................................\n",
            "[CV] ..... C=0.1, gamma=0.001, kernel=rbf, score=-1.454, total=   1.0s\n",
            "[CV] C=0.1, gamma=0.001, kernel=linear ...............................\n",
            "[CV] .. C=0.1, gamma=0.001, kernel=linear, score=-1.364, total=   2.7s\n",
            "[CV] C=0.1, gamma=0.001, kernel=linear ...............................\n",
            "[CV] .. C=0.1, gamma=0.001, kernel=linear, score=-1.412, total=   3.0s\n",
            "[CV] C=0.1, gamma=0.001, kernel=linear ...............................\n",
            "[CV] .. C=0.1, gamma=0.001, kernel=linear, score=-1.421, total=   2.6s\n",
            "[CV] C=0.1, gamma=0.001, kernel=linear ...............................\n",
            "[CV] .. C=0.1, gamma=0.001, kernel=linear, score=-1.600, total=   3.2s\n",
            "[CV] C=0.1, gamma=0.001, kernel=linear ...............................\n",
            "[CV] .. C=0.1, gamma=0.001, kernel=linear, score=-1.516, total=   3.1s\n",
            "[CV] C=0.1, gamma=0.0001, kernel=rbf .................................\n",
            "[CV] .... C=0.1, gamma=0.0001, kernel=rbf, score=-1.385, total=   1.0s\n",
            "[CV] C=0.1, gamma=0.0001, kernel=rbf .................................\n",
            "[CV] .... C=0.1, gamma=0.0001, kernel=rbf, score=-1.440, total=   1.0s\n",
            "[CV] C=0.1, gamma=0.0001, kernel=rbf .................................\n",
            "[CV] .... C=0.1, gamma=0.0001, kernel=rbf, score=-1.437, total=   1.0s\n",
            "[CV] C=0.1, gamma=0.0001, kernel=rbf .................................\n",
            "[CV] .... C=0.1, gamma=0.0001, kernel=rbf, score=-1.616, total=   1.0s\n",
            "[CV] C=0.1, gamma=0.0001, kernel=rbf .................................\n",
            "[CV] .... C=0.1, gamma=0.0001, kernel=rbf, score=-1.537, total=   1.0s\n",
            "[CV] C=0.1, gamma=0.0001, kernel=linear ..............................\n",
            "[CV] . C=0.1, gamma=0.0001, kernel=linear, score=-1.364, total=   2.9s\n",
            "[CV] C=0.1, gamma=0.0001, kernel=linear ..............................\n",
            "[CV] . C=0.1, gamma=0.0001, kernel=linear, score=-1.412, total=   2.9s\n",
            "[CV] C=0.1, gamma=0.0001, kernel=linear ..............................\n",
            "[CV] . C=0.1, gamma=0.0001, kernel=linear, score=-1.421, total=   2.5s\n",
            "[CV] C=0.1, gamma=0.0001, kernel=linear ..............................\n",
            "[CV] . C=0.1, gamma=0.0001, kernel=linear, score=-1.600, total=   3.2s\n",
            "[CV] C=0.1, gamma=0.0001, kernel=linear ..............................\n",
            "[CV] . C=0.1, gamma=0.0001, kernel=linear, score=-1.516, total=   3.2s\n",
            "[CV] C=1, gamma=1, kernel=rbf ........................................\n",
            "[CV] ........... C=1, gamma=1, kernel=rbf, score=-1.581, total=   2.1s\n",
            "[CV] C=1, gamma=1, kernel=rbf ........................................\n",
            "[CV] ........... C=1, gamma=1, kernel=rbf, score=-1.563, total=   2.0s\n",
            "[CV] C=1, gamma=1, kernel=rbf ........................................\n",
            "[CV] ........... C=1, gamma=1, kernel=rbf, score=-1.539, total=   2.1s\n",
            "[CV] C=1, gamma=1, kernel=rbf ........................................\n",
            "[CV] ........... C=1, gamma=1, kernel=rbf, score=-1.759, total=   2.1s\n",
            "[CV] C=1, gamma=1, kernel=rbf ........................................\n",
            "[CV] ........... C=1, gamma=1, kernel=rbf, score=-1.691, total=   2.0s\n",
            "[CV] C=1, gamma=1, kernel=linear .....................................\n",
            "[CV] ........ C=1, gamma=1, kernel=linear, score=-1.364, total=  15.7s\n",
            "[CV] C=1, gamma=1, kernel=linear .....................................\n",
            "[CV] ........ C=1, gamma=1, kernel=linear, score=-1.413, total=  15.3s\n",
            "[CV] C=1, gamma=1, kernel=linear .....................................\n",
            "[CV] ........ C=1, gamma=1, kernel=linear, score=-1.421, total=  14.3s\n",
            "[CV] C=1, gamma=1, kernel=linear .....................................\n",
            "[CV] ........ C=1, gamma=1, kernel=linear, score=-1.600, total=  18.4s\n",
            "[CV] C=1, gamma=1, kernel=linear .....................................\n",
            "[CV] ........ C=1, gamma=1, kernel=linear, score=-1.516, total=  16.8s\n",
            "[CV] C=1, gamma=0.1, kernel=rbf ......................................\n",
            "[CV] ......... C=1, gamma=0.1, kernel=rbf, score=-1.400, total=   1.5s\n",
            "[CV] C=1, gamma=0.1, kernel=rbf ......................................\n",
            "[CV] ......... C=1, gamma=0.1, kernel=rbf, score=-1.414, total=   1.6s\n",
            "[CV] C=1, gamma=0.1, kernel=rbf ......................................\n",
            "[CV] ......... C=1, gamma=0.1, kernel=rbf, score=-1.433, total=   1.6s\n",
            "[CV] C=1, gamma=0.1, kernel=rbf ......................................\n",
            "[CV] ......... C=1, gamma=0.1, kernel=rbf, score=-1.602, total=   1.5s\n",
            "[CV] C=1, gamma=0.1, kernel=rbf ......................................\n",
            "[CV] ......... C=1, gamma=0.1, kernel=rbf, score=-1.505, total=   1.5s\n",
            "[CV] C=1, gamma=0.1, kernel=linear ...................................\n",
            "[CV] ...... C=1, gamma=0.1, kernel=linear, score=-1.364, total=  16.4s\n",
            "[CV] C=1, gamma=0.1, kernel=linear ...................................\n",
            "[CV] ...... C=1, gamma=0.1, kernel=linear, score=-1.413, total=  15.0s\n",
            "[CV] C=1, gamma=0.1, kernel=linear ...................................\n",
            "[CV] ...... C=1, gamma=0.1, kernel=linear, score=-1.421, total=  14.8s\n",
            "[CV] C=1, gamma=0.1, kernel=linear ...................................\n",
            "[CV] ...... C=1, gamma=0.1, kernel=linear, score=-1.600, total=  18.2s\n",
            "[CV] C=1, gamma=0.1, kernel=linear ...................................\n",
            "[CV] ...... C=1, gamma=0.1, kernel=linear, score=-1.516, total=  17.1s\n",
            "[CV] C=1, gamma=0.01, kernel=rbf .....................................\n",
            "[CV] ........ C=1, gamma=0.01, kernel=rbf, score=-1.321, total=   1.1s\n",
            "[CV] C=1, gamma=0.01, kernel=rbf .....................................\n",
            "[CV] ........ C=1, gamma=0.01, kernel=rbf, score=-1.358, total=   1.0s\n",
            "[CV] C=1, gamma=0.01, kernel=rbf .....................................\n",
            "[CV] ........ C=1, gamma=0.01, kernel=rbf, score=-1.390, total=   1.1s\n",
            "[CV] C=1, gamma=0.01, kernel=rbf .....................................\n",
            "[CV] ........ C=1, gamma=0.01, kernel=rbf, score=-1.529, total=   1.1s\n",
            "[CV] C=1, gamma=0.01, kernel=rbf .....................................\n",
            "[CV] ........ C=1, gamma=0.01, kernel=rbf, score=-1.434, total=   1.1s\n",
            "[CV] C=1, gamma=0.01, kernel=linear ..................................\n",
            "[CV] ..... C=1, gamma=0.01, kernel=linear, score=-1.364, total=  16.0s\n",
            "[CV] C=1, gamma=0.01, kernel=linear ..................................\n",
            "[CV] ..... C=1, gamma=0.01, kernel=linear, score=-1.413, total=  14.8s\n",
            "[CV] C=1, gamma=0.01, kernel=linear ..................................\n",
            "[CV] ..... C=1, gamma=0.01, kernel=linear, score=-1.421, total=  14.2s\n",
            "[CV] C=1, gamma=0.01, kernel=linear ..................................\n",
            "[CV] ..... C=1, gamma=0.01, kernel=linear, score=-1.600, total=  18.9s\n",
            "[CV] C=1, gamma=0.01, kernel=linear ..................................\n",
            "[CV] ..... C=1, gamma=0.01, kernel=linear, score=-1.516, total=  16.7s\n",
            "[CV] C=1, gamma=0.001, kernel=rbf ....................................\n",
            "[CV] ....... C=1, gamma=0.001, kernel=rbf, score=-1.312, total=   1.2s\n",
            "[CV] C=1, gamma=0.001, kernel=rbf ....................................\n",
            "[CV] ....... C=1, gamma=0.001, kernel=rbf, score=-1.360, total=   1.3s\n",
            "[CV] C=1, gamma=0.001, kernel=rbf ....................................\n",
            "[CV] ....... C=1, gamma=0.001, kernel=rbf, score=-1.364, total=   1.1s\n",
            "[CV] C=1, gamma=0.001, kernel=rbf ....................................\n",
            "[CV] ....... C=1, gamma=0.001, kernel=rbf, score=-1.519, total=   1.1s\n",
            "[CV] C=1, gamma=0.001, kernel=rbf ....................................\n",
            "[CV] ....... C=1, gamma=0.001, kernel=rbf, score=-1.435, total=   1.1s\n",
            "[CV] C=1, gamma=0.001, kernel=linear .................................\n",
            "[CV] .... C=1, gamma=0.001, kernel=linear, score=-1.364, total=  22.4s\n",
            "[CV] C=1, gamma=0.001, kernel=linear .................................\n",
            "[CV] .... C=1, gamma=0.001, kernel=linear, score=-1.413, total=  22.1s\n",
            "[CV] C=1, gamma=0.001, kernel=linear .................................\n",
            "[CV] .... C=1, gamma=0.001, kernel=linear, score=-1.421, total=  14.3s\n",
            "[CV] C=1, gamma=0.001, kernel=linear .................................\n",
            "[CV] .... C=1, gamma=0.001, kernel=linear, score=-1.600, total=  17.9s\n",
            "[CV] C=1, gamma=0.001, kernel=linear .................................\n",
            "[CV] .... C=1, gamma=0.001, kernel=linear, score=-1.516, total=  16.7s\n",
            "[CV] C=1, gamma=0.0001, kernel=rbf ...................................\n",
            "[CV] ...... C=1, gamma=0.0001, kernel=rbf, score=-1.338, total=   1.1s\n",
            "[CV] C=1, gamma=0.0001, kernel=rbf ...................................\n",
            "[CV] ...... C=1, gamma=0.0001, kernel=rbf, score=-1.388, total=   1.1s\n",
            "[CV] C=1, gamma=0.0001, kernel=rbf ...................................\n",
            "[CV] ...... C=1, gamma=0.0001, kernel=rbf, score=-1.393, total=   1.1s\n",
            "[CV] C=1, gamma=0.0001, kernel=rbf ...................................\n",
            "[CV] ...... C=1, gamma=0.0001, kernel=rbf, score=-1.566, total=   1.1s\n",
            "[CV] C=1, gamma=0.0001, kernel=rbf ...................................\n",
            "[CV] ...... C=1, gamma=0.0001, kernel=rbf, score=-1.483, total=   1.1s\n",
            "[CV] C=1, gamma=0.0001, kernel=linear ................................\n",
            "[CV] ... C=1, gamma=0.0001, kernel=linear, score=-1.364, total=  15.9s\n",
            "[CV] C=1, gamma=0.0001, kernel=linear ................................\n",
            "[CV] ... C=1, gamma=0.0001, kernel=linear, score=-1.413, total=  15.1s\n",
            "[CV] C=1, gamma=0.0001, kernel=linear ................................\n",
            "[CV] ... C=1, gamma=0.0001, kernel=linear, score=-1.421, total=  14.3s\n",
            "[CV] C=1, gamma=0.0001, kernel=linear ................................\n",
            "[CV] ... C=1, gamma=0.0001, kernel=linear, score=-1.600, total=  18.2s\n",
            "[CV] C=1, gamma=0.0001, kernel=linear ................................\n",
            "[CV] ... C=1, gamma=0.0001, kernel=linear, score=-1.516, total=  17.1s\n",
            "[CV] C=10, gamma=1, kernel=rbf .......................................\n",
            "[CV] .......... C=10, gamma=1, kernel=rbf, score=-2.079, total=   4.1s\n",
            "[CV] C=10, gamma=1, kernel=rbf .......................................\n",
            "[CV] .......... C=10, gamma=1, kernel=rbf, score=-2.176, total=   3.8s\n",
            "[CV] C=10, gamma=1, kernel=rbf .......................................\n",
            "[CV] .......... C=10, gamma=1, kernel=rbf, score=-2.030, total=   3.9s\n",
            "[CV] C=10, gamma=1, kernel=rbf .......................................\n",
            "[CV] .......... C=10, gamma=1, kernel=rbf, score=-2.226, total=   3.9s\n",
            "[CV] C=10, gamma=1, kernel=rbf .......................................\n",
            "[CV] .......... C=10, gamma=1, kernel=rbf, score=-2.166, total=   3.9s\n",
            "[CV] C=10, gamma=1, kernel=linear ....................................\n",
            "[CV] ....... C=10, gamma=1, kernel=linear, score=-1.329, total= 1.8min\n",
            "[CV] C=10, gamma=1, kernel=linear ....................................\n",
            "[CV] ....... C=10, gamma=1, kernel=linear, score=-1.363, total= 1.9min\n",
            "[CV] C=10, gamma=1, kernel=linear ....................................\n",
            "[CV] ....... C=10, gamma=1, kernel=linear, score=-1.400, total= 1.5min\n",
            "[CV] C=10, gamma=1, kernel=linear ....................................\n",
            "[CV] ....... C=10, gamma=1, kernel=linear, score=-1.513, total= 2.3min\n",
            "[CV] C=10, gamma=1, kernel=linear ....................................\n",
            "[CV] ....... C=10, gamma=1, kernel=linear, score=-1.451, total= 2.1min\n",
            "[CV] C=10, gamma=0.1, kernel=rbf .....................................\n",
            "[CV] ........ C=10, gamma=0.1, kernel=rbf, score=-1.620, total=   3.7s\n",
            "[CV] C=10, gamma=0.1, kernel=rbf .....................................\n",
            "[CV] ........ C=10, gamma=0.1, kernel=rbf, score=-1.603, total=   3.7s\n",
            "[CV] C=10, gamma=0.1, kernel=rbf .....................................\n",
            "[CV] ........ C=10, gamma=0.1, kernel=rbf, score=-1.654, total=   3.7s\n",
            "[CV] C=10, gamma=0.1, kernel=rbf .....................................\n",
            "[CV] ........ C=10, gamma=0.1, kernel=rbf, score=-1.811, total=   3.8s\n",
            "[CV] C=10, gamma=0.1, kernel=rbf .....................................\n",
            "[CV] ........ C=10, gamma=0.1, kernel=rbf, score=-1.699, total=   3.7s\n",
            "[CV] C=10, gamma=0.1, kernel=linear ..................................\n",
            "[CV] ..... C=10, gamma=0.1, kernel=linear, score=-1.329, total= 1.9min\n",
            "[CV] C=10, gamma=0.1, kernel=linear ..................................\n",
            "[CV] ..... C=10, gamma=0.1, kernel=linear, score=-1.363, total= 2.1min\n",
            "[CV] C=10, gamma=0.1, kernel=linear ..................................\n",
            "[CV] ..... C=10, gamma=0.1, kernel=linear, score=-1.400, total= 1.6min\n",
            "[CV] C=10, gamma=0.1, kernel=linear ..................................\n",
            "[CV] ..... C=10, gamma=0.1, kernel=linear, score=-1.513, total= 2.4min\n",
            "[CV] C=10, gamma=0.1, kernel=linear ..................................\n",
            "[CV] ..... C=10, gamma=0.1, kernel=linear, score=-1.451, total= 2.0min\n",
            "[CV] C=10, gamma=0.01, kernel=rbf ....................................\n",
            "[CV] ....... C=10, gamma=0.01, kernel=rbf, score=-1.336, total=   1.5s\n",
            "[CV] C=10, gamma=0.01, kernel=rbf ....................................\n",
            "[CV] ....... C=10, gamma=0.01, kernel=rbf, score=-1.366, total=   1.6s\n",
            "[CV] C=10, gamma=0.01, kernel=rbf ....................................\n",
            "[CV] ....... C=10, gamma=0.01, kernel=rbf, score=-1.412, total=   1.6s\n",
            "[CV] C=10, gamma=0.01, kernel=rbf ....................................\n",
            "[CV] ....... C=10, gamma=0.01, kernel=rbf, score=-1.540, total=   1.5s\n",
            "[CV] C=10, gamma=0.01, kernel=rbf ....................................\n",
            "[CV] ....... C=10, gamma=0.01, kernel=rbf, score=-1.454, total=   1.5s\n",
            "[CV] C=10, gamma=0.01, kernel=linear .................................\n",
            "[CV] .... C=10, gamma=0.01, kernel=linear, score=-1.329, total= 1.9min\n",
            "[CV] C=10, gamma=0.01, kernel=linear .................................\n",
            "[CV] .... C=10, gamma=0.01, kernel=linear, score=-1.363, total= 2.0min\n",
            "[CV] C=10, gamma=0.01, kernel=linear .................................\n",
            "[CV] .... C=10, gamma=0.01, kernel=linear, score=-1.400, total= 1.6min\n",
            "[CV] C=10, gamma=0.01, kernel=linear .................................\n",
            "[CV] .... C=10, gamma=0.01, kernel=linear, score=-1.513, total= 2.4min\n",
            "[CV] C=10, gamma=0.01, kernel=linear .................................\n",
            "[CV] .... C=10, gamma=0.01, kernel=linear, score=-1.451, total= 2.1min\n",
            "[CV] C=10, gamma=0.001, kernel=rbf ...................................\n",
            "[CV] ...... C=10, gamma=0.001, kernel=rbf, score=-1.313, total=   1.3s\n",
            "[CV] C=10, gamma=0.001, kernel=rbf ...................................\n",
            "[CV] ...... C=10, gamma=0.001, kernel=rbf, score=-1.362, total=   1.3s\n",
            "[CV] C=10, gamma=0.001, kernel=rbf ...................................\n",
            "[CV] ...... C=10, gamma=0.001, kernel=rbf, score=-1.371, total=   1.2s\n",
            "[CV] C=10, gamma=0.001, kernel=rbf ...................................\n",
            "[CV] ...... C=10, gamma=0.001, kernel=rbf, score=-1.524, total=   1.2s\n",
            "[CV] C=10, gamma=0.001, kernel=rbf ...................................\n",
            "[CV] ...... C=10, gamma=0.001, kernel=rbf, score=-1.433, total=   1.2s\n",
            "[CV] C=10, gamma=0.001, kernel=linear ................................\n",
            "[CV] ... C=10, gamma=0.001, kernel=linear, score=-1.329, total= 1.9min\n",
            "[CV] C=10, gamma=0.001, kernel=linear ................................\n",
            "[CV] ... C=10, gamma=0.001, kernel=linear, score=-1.363, total= 2.0min\n",
            "[CV] C=10, gamma=0.001, kernel=linear ................................\n",
            "[CV] ... C=10, gamma=0.001, kernel=linear, score=-1.400, total= 1.6min\n",
            "[CV] C=10, gamma=0.001, kernel=linear ................................\n",
            "[CV] ... C=10, gamma=0.001, kernel=linear, score=-1.513, total= 2.3min\n",
            "[CV] C=10, gamma=0.001, kernel=linear ................................\n",
            "[CV] ... C=10, gamma=0.001, kernel=linear, score=-1.451, total= 2.1min\n",
            "[CV] C=10, gamma=0.0001, kernel=rbf ..................................\n",
            "[CV] ..... C=10, gamma=0.0001, kernel=rbf, score=-1.315, total=   1.1s\n",
            "[CV] C=10, gamma=0.0001, kernel=rbf ..................................\n",
            "[CV] ..... C=10, gamma=0.0001, kernel=rbf, score=-1.361, total=   1.1s\n",
            "[CV] C=10, gamma=0.0001, kernel=rbf ..................................\n",
            "[CV] ..... C=10, gamma=0.0001, kernel=rbf, score=-1.382, total=   1.2s\n",
            "[CV] C=10, gamma=0.0001, kernel=rbf ..................................\n",
            "[CV] ..... C=10, gamma=0.0001, kernel=rbf, score=-1.524, total=   1.1s\n",
            "[CV] C=10, gamma=0.0001, kernel=rbf ..................................\n",
            "[CV] ..... C=10, gamma=0.0001, kernel=rbf, score=-1.444, total=   1.1s\n",
            "[CV] C=10, gamma=0.0001, kernel=linear ...............................\n",
            "[CV] .. C=10, gamma=0.0001, kernel=linear, score=-1.329, total= 1.9min\n",
            "[CV] C=10, gamma=0.0001, kernel=linear ...............................\n",
            "[CV] .. C=10, gamma=0.0001, kernel=linear, score=-1.363, total= 2.0min\n",
            "[CV] C=10, gamma=0.0001, kernel=linear ...............................\n",
            "[CV] .. C=10, gamma=0.0001, kernel=linear, score=-1.400, total= 1.6min\n",
            "[CV] C=10, gamma=0.0001, kernel=linear ...............................\n",
            "[CV] .. C=10, gamma=0.0001, kernel=linear, score=-1.513, total= 2.3min\n",
            "[CV] C=10, gamma=0.0001, kernel=linear ...............................\n",
            "[CV] .. C=10, gamma=0.0001, kernel=linear, score=-1.451, total= 2.1min\n",
            "[CV] C=100, gamma=1, kernel=rbf ......................................\n",
            "[CV] ......... C=100, gamma=1, kernel=rbf, score=-3.132, total=  11.2s\n",
            "[CV] C=100, gamma=1, kernel=rbf ......................................\n",
            "[CV] ......... C=100, gamma=1, kernel=rbf, score=-3.321, total=  12.2s\n",
            "[CV] C=100, gamma=1, kernel=rbf ......................................\n",
            "[CV] ......... C=100, gamma=1, kernel=rbf, score=-3.384, total=  11.4s\n",
            "[CV] C=100, gamma=1, kernel=rbf ......................................\n",
            "[CV] ......... C=100, gamma=1, kernel=rbf, score=-3.408, total=  11.2s\n",
            "[CV] C=100, gamma=1, kernel=rbf ......................................\n",
            "[CV] ......... C=100, gamma=1, kernel=rbf, score=-3.404, total=  10.6s\n",
            "[CV] C=100, gamma=1, kernel=linear ...................................\n",
            "[CV] ...... C=100, gamma=1, kernel=linear, score=-2.075, total= 1.8min\n",
            "[CV] C=100, gamma=1, kernel=linear ...................................\n",
            "[CV] ...... C=100, gamma=1, kernel=linear, score=-1.412, total= 2.0min\n",
            "[CV] C=100, gamma=1, kernel=linear ...................................\n",
            "[CV] ...... C=100, gamma=1, kernel=linear, score=-1.751, total= 2.0min\n",
            "[CV] C=100, gamma=1, kernel=linear ...................................\n",
            "[CV] ...... C=100, gamma=1, kernel=linear, score=-1.624, total= 1.6min\n",
            "[CV] C=100, gamma=1, kernel=linear ...................................\n",
            "[CV] ...... C=100, gamma=1, kernel=linear, score=-1.621, total= 1.7min\n",
            "[CV] C=100, gamma=0.1, kernel=rbf ....................................\n",
            "[CV] ....... C=100, gamma=0.1, kernel=rbf, score=-2.111, total=  27.4s\n",
            "[CV] C=100, gamma=0.1, kernel=rbf ....................................\n",
            "[CV] ....... C=100, gamma=0.1, kernel=rbf, score=-2.060, total=  26.9s\n",
            "[CV] C=100, gamma=0.1, kernel=rbf ....................................\n",
            "[CV] ....... C=100, gamma=0.1, kernel=rbf, score=-2.051, total=  28.6s\n",
            "[CV] C=100, gamma=0.1, kernel=rbf ....................................\n",
            "[CV] ....... C=100, gamma=0.1, kernel=rbf, score=-2.129, total=  27.2s\n",
            "[CV] C=100, gamma=0.1, kernel=rbf ....................................\n",
            "[CV] ....... C=100, gamma=0.1, kernel=rbf, score=-2.209, total=  26.6s\n",
            "[CV] C=100, gamma=0.1, kernel=linear .................................\n",
            "[CV] .... C=100, gamma=0.1, kernel=linear, score=-2.075, total= 1.8min\n",
            "[CV] C=100, gamma=0.1, kernel=linear .................................\n",
            "[CV] .... C=100, gamma=0.1, kernel=linear, score=-1.412, total= 2.0min\n",
            "[CV] C=100, gamma=0.1, kernel=linear .................................\n",
            "[CV] .... C=100, gamma=0.1, kernel=linear, score=-1.751, total= 2.0min\n",
            "[CV] C=100, gamma=0.1, kernel=linear .................................\n",
            "[CV] .... C=100, gamma=0.1, kernel=linear, score=-1.624, total= 1.6min\n",
            "[CV] C=100, gamma=0.1, kernel=linear .................................\n",
            "[CV] .... C=100, gamma=0.1, kernel=linear, score=-1.621, total= 1.7min\n",
            "[CV] C=100, gamma=0.01, kernel=rbf ...................................\n",
            "[CV] ...... C=100, gamma=0.01, kernel=rbf, score=-1.370, total=   3.9s\n",
            "[CV] C=100, gamma=0.01, kernel=rbf ...................................\n",
            "[CV] ...... C=100, gamma=0.01, kernel=rbf, score=-1.372, total=   4.5s\n",
            "[CV] C=100, gamma=0.01, kernel=rbf ...................................\n",
            "[CV] ...... C=100, gamma=0.01, kernel=rbf, score=-1.450, total=   4.6s\n",
            "[CV] C=100, gamma=0.01, kernel=rbf ...................................\n",
            "[CV] ...... C=100, gamma=0.01, kernel=rbf, score=-1.587, total=   4.4s\n",
            "[CV] C=100, gamma=0.01, kernel=rbf ...................................\n",
            "[CV] ...... C=100, gamma=0.01, kernel=rbf, score=-1.504, total=   4.4s\n",
            "[CV] C=100, gamma=0.01, kernel=linear ................................\n",
            "[CV] ... C=100, gamma=0.01, kernel=linear, score=-2.075, total= 1.8min\n",
            "[CV] C=100, gamma=0.01, kernel=linear ................................\n",
            "[CV] ... C=100, gamma=0.01, kernel=linear, score=-1.412, total= 2.0min\n",
            "[CV] C=100, gamma=0.01, kernel=linear ................................\n",
            "[CV] ... C=100, gamma=0.01, kernel=linear, score=-1.751, total= 2.0min\n",
            "[CV] C=100, gamma=0.01, kernel=linear ................................\n",
            "[CV] ... C=100, gamma=0.01, kernel=linear, score=-1.624, total= 1.6min\n",
            "[CV] C=100, gamma=0.01, kernel=linear ................................\n",
            "[CV] ... C=100, gamma=0.01, kernel=linear, score=-1.621, total= 1.8min\n",
            "[CV] C=100, gamma=0.001, kernel=rbf ..................................\n",
            "[CV] ..... C=100, gamma=0.001, kernel=rbf, score=-1.312, total=   2.0s\n",
            "[CV] C=100, gamma=0.001, kernel=rbf ..................................\n",
            "[CV] ..... C=100, gamma=0.001, kernel=rbf, score=-1.362, total=   2.0s\n",
            "[CV] C=100, gamma=0.001, kernel=rbf ..................................\n",
            "[CV] ..... C=100, gamma=0.001, kernel=rbf, score=-1.383, total=   2.2s\n",
            "[CV] C=100, gamma=0.001, kernel=rbf ..................................\n",
            "[CV] ..... C=100, gamma=0.001, kernel=rbf, score=-1.527, total=   2.0s\n",
            "[CV] C=100, gamma=0.001, kernel=rbf ..................................\n",
            "[CV] ..... C=100, gamma=0.001, kernel=rbf, score=-1.432, total=   2.1s\n",
            "[CV] C=100, gamma=0.001, kernel=linear ...............................\n",
            "[CV] .. C=100, gamma=0.001, kernel=linear, score=-2.075, total= 1.8min\n",
            "[CV] C=100, gamma=0.001, kernel=linear ...............................\n",
            "[CV] .. C=100, gamma=0.001, kernel=linear, score=-1.412, total= 2.1min\n",
            "[CV] C=100, gamma=0.001, kernel=linear ...............................\n",
            "[CV] .. C=100, gamma=0.001, kernel=linear, score=-1.751, total= 2.0min\n",
            "[CV] C=100, gamma=0.001, kernel=linear ...............................\n",
            "[CV] .. C=100, gamma=0.001, kernel=linear, score=-1.624, total= 1.6min\n",
            "[CV] C=100, gamma=0.001, kernel=linear ...............................\n",
            "[CV] .. C=100, gamma=0.001, kernel=linear, score=-1.621, total= 1.8min\n",
            "[CV] C=100, gamma=0.0001, kernel=rbf .................................\n",
            "[CV] .... C=100, gamma=0.0001, kernel=rbf, score=-1.311, total=   1.3s\n",
            "[CV] C=100, gamma=0.0001, kernel=rbf .................................\n",
            "[CV] .... C=100, gamma=0.0001, kernel=rbf, score=-1.356, total=   1.3s\n",
            "[CV] C=100, gamma=0.0001, kernel=rbf .................................\n",
            "[CV] .... C=100, gamma=0.0001, kernel=rbf, score=-1.388, total=   1.4s\n",
            "[CV] C=100, gamma=0.0001, kernel=rbf .................................\n",
            "[CV] .... C=100, gamma=0.0001, kernel=rbf, score=-1.520, total=   1.4s\n",
            "[CV] C=100, gamma=0.0001, kernel=rbf .................................\n",
            "[CV] .... C=100, gamma=0.0001, kernel=rbf, score=-1.431, total=   1.4s\n",
            "[CV] C=100, gamma=0.0001, kernel=linear ..............................\n",
            "[CV] . C=100, gamma=0.0001, kernel=linear, score=-2.075, total= 1.8min\n",
            "[CV] C=100, gamma=0.0001, kernel=linear ..............................\n",
            "[CV] . C=100, gamma=0.0001, kernel=linear, score=-1.412, total= 2.1min\n",
            "[CV] C=100, gamma=0.0001, kernel=linear ..............................\n",
            "[CV] . C=100, gamma=0.0001, kernel=linear, score=-1.751, total= 2.0min\n",
            "[CV] C=100, gamma=0.0001, kernel=linear ..............................\n",
            "[CV] . C=100, gamma=0.0001, kernel=linear, score=-1.624, total= 1.6min\n",
            "[CV] C=100, gamma=0.0001, kernel=linear ..............................\n",
            "[CV] . C=100, gamma=0.0001, kernel=linear, score=-1.621, total= 1.8min\n",
            "[CV] C=1000, gamma=1, kernel=rbf .....................................\n",
            "[CV] ........ C=1000, gamma=1, kernel=rbf, score=-6.581, total=  45.3s\n",
            "[CV] C=1000, gamma=1, kernel=rbf .....................................\n",
            "[CV] ........ C=1000, gamma=1, kernel=rbf, score=-7.805, total=  46.9s\n",
            "[CV] C=1000, gamma=1, kernel=rbf .....................................\n",
            "[CV] ........ C=1000, gamma=1, kernel=rbf, score=-7.632, total=  43.1s\n",
            "[CV] C=1000, gamma=1, kernel=rbf .....................................\n",
            "[CV] ........ C=1000, gamma=1, kernel=rbf, score=-7.718, total=  37.2s\n",
            "[CV] C=1000, gamma=1, kernel=rbf .....................................\n",
            "[CV] ........ C=1000, gamma=1, kernel=rbf, score=-7.076, total=  37.8s\n",
            "[CV] C=1000, gamma=1, kernel=linear ..................................\n",
            "[CV] ..... C=1000, gamma=1, kernel=linear, score=-2.097, total= 3.7min\n",
            "[CV] C=1000, gamma=1, kernel=linear ..................................\n",
            "[CV] ..... C=1000, gamma=1, kernel=linear, score=-5.883, total= 3.0min\n",
            "[CV] C=1000, gamma=1, kernel=linear ..................................\n",
            "[CV] ..... C=1000, gamma=1, kernel=linear, score=-8.279, total= 2.4min\n",
            "[CV] C=1000, gamma=1, kernel=linear ..................................\n",
            "[CV] ..... C=1000, gamma=1, kernel=linear, score=-2.110, total= 2.7min\n",
            "[CV] C=1000, gamma=1, kernel=linear ..................................\n",
            "[CV] ..... C=1000, gamma=1, kernel=linear, score=-5.372, total= 2.3min\n",
            "[CV] C=1000, gamma=0.1, kernel=rbf ...................................\n",
            "[CV] ...... C=1000, gamma=0.1, kernel=rbf, score=-3.686, total= 5.3min\n",
            "[CV] C=1000, gamma=0.1, kernel=rbf ...................................\n",
            "[CV] ...... C=1000, gamma=0.1, kernel=rbf, score=-3.421, total= 5.3min\n",
            "[CV] C=1000, gamma=0.1, kernel=rbf ...................................\n",
            "[CV] ...... C=1000, gamma=0.1, kernel=rbf, score=-3.544, total= 5.4min\n",
            "[CV] C=1000, gamma=0.1, kernel=rbf ...................................\n",
            "[CV] ...... C=1000, gamma=0.1, kernel=rbf, score=-3.500, total= 5.4min\n",
            "[CV] C=1000, gamma=0.1, kernel=rbf ...................................\n",
            "[CV] ...... C=1000, gamma=0.1, kernel=rbf, score=-3.762, total= 5.6min\n",
            "[CV] C=1000, gamma=0.1, kernel=linear ................................\n",
            "[CV] ... C=1000, gamma=0.1, kernel=linear, score=-2.097, total= 3.7min\n",
            "[CV] C=1000, gamma=0.1, kernel=linear ................................\n",
            "[CV] ... C=1000, gamma=0.1, kernel=linear, score=-5.883, total= 2.8min\n",
            "[CV] C=1000, gamma=0.1, kernel=linear ................................\n",
            "[CV] ... C=1000, gamma=0.1, kernel=linear, score=-8.279, total= 2.3min\n",
            "[CV] C=1000, gamma=0.1, kernel=linear ................................\n",
            "[CV] ... C=1000, gamma=0.1, kernel=linear, score=-2.110, total= 2.6min\n",
            "[CV] C=1000, gamma=0.1, kernel=linear ................................\n",
            "[CV] ... C=1000, gamma=0.1, kernel=linear, score=-5.372, total= 2.2min\n",
            "[CV] C=1000, gamma=0.01, kernel=rbf ..................................\n",
            "[CV] ..... C=1000, gamma=0.01, kernel=rbf, score=-1.421, total=  29.3s\n",
            "[CV] C=1000, gamma=0.01, kernel=rbf ..................................\n",
            "[CV] ..... C=1000, gamma=0.01, kernel=rbf, score=-1.411, total=  27.6s\n",
            "[CV] C=1000, gamma=0.01, kernel=rbf ..................................\n",
            "[CV] ..... C=1000, gamma=0.01, kernel=rbf, score=-1.687, total=  30.4s\n",
            "[CV] C=1000, gamma=0.01, kernel=rbf ..................................\n",
            "[CV] ..... C=1000, gamma=0.01, kernel=rbf, score=-1.656, total=  29.9s\n",
            "[CV] C=1000, gamma=0.01, kernel=rbf ..................................\n",
            "[CV] ..... C=1000, gamma=0.01, kernel=rbf, score=-1.631, total=  29.9s\n",
            "[CV] C=1000, gamma=0.01, kernel=linear ...............................\n",
            "[CV] .. C=1000, gamma=0.01, kernel=linear, score=-2.097, total= 3.7min\n",
            "[CV] C=1000, gamma=0.01, kernel=linear ...............................\n",
            "[CV] .. C=1000, gamma=0.01, kernel=linear, score=-5.883, total= 2.8min\n",
            "[CV] C=1000, gamma=0.01, kernel=linear ...............................\n",
            "[CV] .. C=1000, gamma=0.01, kernel=linear, score=-8.279, total= 2.4min\n",
            "[CV] C=1000, gamma=0.01, kernel=linear ...............................\n",
            "[CV] .. C=1000, gamma=0.01, kernel=linear, score=-2.110, total= 2.5min\n",
            "[CV] C=1000, gamma=0.01, kernel=linear ...............................\n",
            "[CV] .. C=1000, gamma=0.01, kernel=linear, score=-5.372, total= 2.1min\n",
            "[CV] C=1000, gamma=0.001, kernel=rbf .................................\n",
            "[CV] .... C=1000, gamma=0.001, kernel=rbf, score=-1.314, total=   7.4s\n",
            "[CV] C=1000, gamma=0.001, kernel=rbf .................................\n",
            "[CV] .... C=1000, gamma=0.001, kernel=rbf, score=-1.364, total=   6.9s\n",
            "[CV] C=1000, gamma=0.001, kernel=rbf .................................\n",
            "[CV] .... C=1000, gamma=0.001, kernel=rbf, score=-1.396, total=   6.5s\n",
            "[CV] C=1000, gamma=0.001, kernel=rbf .................................\n",
            "[CV] .... C=1000, gamma=0.001, kernel=rbf, score=-1.530, total=   6.0s\n",
            "[CV] C=1000, gamma=0.001, kernel=rbf .................................\n",
            "[CV] .... C=1000, gamma=0.001, kernel=rbf, score=-1.436, total=   5.9s\n",
            "[CV] C=1000, gamma=0.001, kernel=linear ..............................\n",
            "[CV] . C=1000, gamma=0.001, kernel=linear, score=-2.097, total= 3.7min\n",
            "[CV] C=1000, gamma=0.001, kernel=linear ..............................\n",
            "[CV] . C=1000, gamma=0.001, kernel=linear, score=-5.883, total= 2.9min\n",
            "[CV] C=1000, gamma=0.001, kernel=linear ..............................\n",
            "[CV] . C=1000, gamma=0.001, kernel=linear, score=-8.279, total= 2.4min\n",
            "[CV] C=1000, gamma=0.001, kernel=linear ..............................\n",
            "[CV] . C=1000, gamma=0.001, kernel=linear, score=-2.110, total= 2.5min\n",
            "[CV] C=1000, gamma=0.001, kernel=linear ..............................\n",
            "[CV] . C=1000, gamma=0.001, kernel=linear, score=-5.372, total= 2.1min\n",
            "[CV] C=1000, gamma=0.0001, kernel=rbf ................................\n",
            "[CV] ... C=1000, gamma=0.0001, kernel=rbf, score=-1.311, total=   2.2s\n",
            "[CV] C=1000, gamma=0.0001, kernel=rbf ................................\n",
            "[CV] ... C=1000, gamma=0.0001, kernel=rbf, score=-1.359, total=   2.0s\n",
            "[CV] C=1000, gamma=0.0001, kernel=rbf ................................\n",
            "[CV] ... C=1000, gamma=0.0001, kernel=rbf, score=-1.431, total=   2.1s\n",
            "[CV] C=1000, gamma=0.0001, kernel=rbf ................................\n",
            "[CV] ... C=1000, gamma=0.0001, kernel=rbf, score=-1.525, total=   2.2s\n",
            "[CV] C=1000, gamma=0.0001, kernel=rbf ................................\n",
            "[CV] ... C=1000, gamma=0.0001, kernel=rbf, score=-1.432, total=   2.3s\n",
            "[CV] C=1000, gamma=0.0001, kernel=linear .............................\n",
            "[CV]  C=1000, gamma=0.0001, kernel=linear, score=-2.097, total= 3.8min\n",
            "[CV] C=1000, gamma=0.0001, kernel=linear .............................\n",
            "[CV]  C=1000, gamma=0.0001, kernel=linear, score=-5.883, total= 2.9min\n",
            "[CV] C=1000, gamma=0.0001, kernel=linear .............................\n",
            "[CV]  C=1000, gamma=0.0001, kernel=linear, score=-8.279, total= 2.3min\n",
            "[CV] C=1000, gamma=0.0001, kernel=linear .............................\n",
            "[CV]  C=1000, gamma=0.0001, kernel=linear, score=-2.110, total= 2.6min\n",
            "[CV] C=1000, gamma=0.0001, kernel=linear .............................\n",
            "[CV]  C=1000, gamma=0.0001, kernel=linear, score=-5.372, total= 2.1min\n"
          ]
        },
        {
          "name": "stderr",
          "output_type": "stream",
          "text": [
            "[Parallel(n_jobs=1)]: Done 250 out of 250 | elapsed: 212.0min finished\n"
          ]
        },
        {
          "name": "stdout",
          "output_type": "stream",
          "text": [
            "The best score for SVM is: -1.3981393444149872\n",
            "The best parameters for SVMM are: SVR(C=1, gamma=0.001)\n",
            "MSE of SVM on training data =  1.4725724119100394\n",
            "MSE of SVM on testing data =  1.4802988070256082\n",
            "difference in MSE of SVM =  0.007726395115568829\n"
          ]
        }
      ],
      "source": [
        "grid_svm2 = GridSearchCV(SVR(), SVR_paramgrid, refit = True, cv=5, verbose = 3, scoring=scorer)\n",
        "\n",
        "# fitting the model for grid search\n",
        "grid_svm2.fit(x_train2, y_train2)\n",
        "\n",
        "# check best hyperparameter and test scores\n",
        "print('The best score for SVM is:',grid_svm2.best_score_)\n",
        "print('The best parameters for SVMM are:',grid_svm2.best_estimator_)\n",
        "\n",
        "# Building final SVM model with the best hyperparameters\n",
        "svm2_model = grid_svm2.best_estimator_\n",
        "\n",
        "# fit the final model\n",
        "SVM2_fit = svm2_model.fit(x_train_scale2,y_train2)\n",
        "\n",
        "#predict\n",
        "ytrain_svm_nonshot = SVM2_fit.predict(x_train_scale2)\n",
        "ytest_svm_nonshot = SVM2_fit.predict(x_test_scale2)\n",
        "\n",
        "# evaluate\n",
        "mse_svm_nonshot_train = mean_squared_error(ytrain_svm_nonshot,y_train2)\n",
        "mse_svm_nonshot_test = mean_squared_error(ytest_svm_nonshot,y_test2)\n",
        "genloss_svm_nonshot = mse_svm_nonshot_test - mse_svm_nonshot_train\n",
        "\n",
        "print(\"MSE of SVM on training data = \",mse_svm_nonshot_train)\n",
        "print(\"MSE of SVM on testing data = \",mse_svm_nonshot_test)\n",
        "print(\"difference in MSE of SVM = \",genloss_svm_nonshot)"
      ]
    },
    {
      "cell_type": "markdown",
      "metadata": {
        "id": "aPIgtGJopIH9"
      },
      "source": [
        "##### Model Evaluation and Selection"
      ]
    },
    {
      "cell_type": "code",
      "execution_count": null,
      "metadata": {
        "id": "86lvjscO7YYX",
        "outputId": "58e003f2-8838-4905-e39d-231c9199dd2e"
      },
      "outputs": [
        {
          "data": {
            "image/png": "[encoded data removed]",
            "text/plain": [
              "<Figure size 864x576 with 1 Axes>"
            ]
          },
          "metadata": {
            "needs_background": "light"
          },
          "output_type": "display_data"
        },
        {
          "data": {
            "text/plain": [
              "(<Figure size 864x576 with 1 Axes>,\n",
              " <AxesSubplot:xlabel='Regression Models for non-shot based expected match value', ylabel='Mean Squared Error'>)"
            ]
          },
          "execution_count": 314,
          "metadata": {},
          "output_type": "execute_result"
        }
      ],
      "source": [
        "# adding all errors into a list to display in bar plot\n",
        "nonshot_training_eva =[mse_lr_nonshot_train, mse_rf_nonshot_train, mse_svm_nonshot_train]\n",
        "nonshot_testing_eva =[mse_lr_nonshot_test, mse_rf_nonshot_test, mse_svm_nonshot_test]\n",
        "nonshot_diff_eva = [genloss_lr_nonshot, genloss_rf_nonshot, genloss_svm_nonshot]\n",
        "\n",
        "# plotting\n",
        "nonshot_plot = barplot(nonshot_training_eva,nonshot_testing_eva,nonshot_diff_eva,'Regression Models for non-shot based expected match value')\n",
        "nonshot_plot"
      ]
    },
    {
      "cell_type": "markdown",
      "metadata": {
        "id": "S4qVBgIr7YYY"
      },
      "source": [
        "LR has the seecond smallest mean squared error but it has a much lower generalisation loss compared to RF. Hence, it was chosen."
      ]
    },
    {
      "cell_type": "markdown",
      "metadata": {
        "id": "ZSxRcz48pRLw"
      },
      "source": [
        "#### Predicting with selected models"
      ]
    },
    {
      "cell_type": "code",
      "execution_count": null,
      "metadata": {
        "id": "GdREzbOwpXQo"
      },
      "outputs": [],
      "source": [
        "shots_match = SVM_fit.predict(x_shots_scale) # best model for shots is SVM\n",
        "nonshot_match = lr_nonshot.predict(x_nonshot_scale) # best model for non-shots is LR\n",
        "\n",
        "# inserting features into dataset\n",
        "shots['exp_match'] = shots_match\n",
        "nonshot['exp_match'] = nonshot_match"
      ]
    },
    {
      "cell_type": "markdown",
      "metadata": {
        "id": "6s8sk_jF7YYY"
      },
      "source": [
        "Now that we have the expected match value for both shots and non-shot, we generate the overall expected match value by using their weighted average."
      ]
    },
    {
      "cell_type": "code",
      "execution_count": null,
      "metadata": {
        "id": "DE-IN7aWPPal"
      },
      "outputs": [],
      "source": [
        "# calculating weighted average\n",
        "w1 = 0.8 # weightage of shot based expected match value\n",
        "w2 = 1-w1 # weightage of non-shot based expected match value\n",
        "avg_expmatch = w1*(shots_match) + w2*(nonshot_match)\n",
        "\n",
        "# separating into home and away teams\n",
        "home_expmatch = avg_expmatch[:4723]\n",
        "away_expmatch = avg_expmatch[4723:]"
      ]
    },
    {
      "cell_type": "markdown",
      "metadata": {
        "id": "N-sKgrqE7YYY"
      },
      "source": [
        "Then, we adjust the overall expected match value by adding the probability of penalty scoring multiplied by the total number of penalty attempts, obtaining our final expected match value."
      ]
    },
    {
      "cell_type": "code",
      "execution_count": null,
      "metadata": {
        "id": "4p4Qy3tP7YYY"
      },
      "outputs": [],
      "source": [
        "# adjusting expected match value based on penalty attempts\n",
        "# probability of a penalty scoring is 0.76\n",
        "Hpen_att = df_epl['HPA']\n",
        "Apen_att = df_epl['APA']\n",
        "home_expmatch2 = home_expmatch + 0.76*(Hpen_att)\n",
        "away_expmatch2 = away_expmatch + 0.76*(Apen_att)\n",
        "\n",
        "# inserting expected values into dataset\n",
        "df_epl['H_EXP_adj'] = home_expmatch2.tolist()\n",
        "df_epl['A_EXP_adj'] = away_expmatch2.tolist()\n",
        "df_epl['H_EXP'] = home_expmatch.tolist()\n",
        "df_epl['A_EXP'] = away_expmatch.tolist()"
      ]
    },
    {
      "cell_type": "markdown",
      "metadata": {
        "id": "G-pHzA4HqQEk"
      },
      "source": [
        "### Calculation of ELO\n",
        "Now that we have all of the expected match values of both teams for each match, we take the difference between the values to decide how much we change the ELO rating after each match."
      ]
    },
    {
      "cell_type": "markdown",
      "metadata": {
        "id": "KJCkqk-YrIsE"
      },
      "source": [
        "#### Defining functions\n",
        "Here, we are preparing functions that will be used to update the ELO rating in certain circumstances:\n",
        "1. Initial ELO rating of all teams is set to 1500\n",
        "2. Update ELO rating after each match\n",
        "3. Update ELO rating between each season\n",
        "4. Update average ELO rating once home/away rating has been changed"
      ]
    },
    {
      "cell_type": "code",
      "execution_count": null,
      "metadata": {
        "id": "QxmjRUQxUg6N"
      },
      "outputs": [],
      "source": [
        "# function to give initial elo\n",
        "def initialize_elo(clubnames): ### clubnames to be in data preprocessing\n",
        "    EloHome_list = []\n",
        "    EloAway_list = []\n",
        "    EloAvg_list = []\n",
        "    for club in clubnames:\n",
        "        EloHome_list.append(1500)\n",
        "        EloAway_list.append(1500)\n",
        "        EloAvg_list.append(1500)\n",
        "\n",
        "    return EloHome_list, EloAway_list, EloAvg_list\n",
        "\n",
        "# function to calculate and update elo after each match with difference between both team's expected match value\n",
        "def update_elo_match(df, n, elohomelist, eloawaylist, eloavglist):\n",
        "\n",
        "    w3 = 20 # sensitivity of ELO changes\n",
        "\n",
        "    # storing teams ELO values before each match in seperate variables\n",
        "    elohome1 = elohomelist[df.iloc[n,1]]\n",
        "    eloaway1 = eloawaylist[df.iloc[n,1]]\n",
        "    elohome2 = elohomelist[df.iloc[n,2]]\n",
        "    eloaway2 = eloawaylist[df.iloc[n,2]]\n",
        "\n",
        "    # storing expected match values based on performance during the match in seperate variables\n",
        "    xg1 = df.iloc[n,38]\n",
        "    xg2 = df.iloc[n,39]\n",
        "\n",
        "    if xg1 > xg2: #if home team's expected match value is higher\n",
        "        diff = xg1 - xg2 # take difference between expected match value\n",
        "\n",
        "        if elohome1 > eloaway2: # if home team was expected to win\n",
        "            w4 = (elohome1 - eloaway2)/(elohome1 + eloaway2) # weight to adjust change in ELO based on which team was expected to win\n",
        "            new_elohome1 = elohome1 + (w3 * diff) - w4 # home team ELO is increased by a lesser amount because they were expected to win\n",
        "            new_eloaway2 = eloaway2 - (w3 * diff) + w4 # away team ELO is reduced by a lesser amount beacause they were expected to lose\n",
        "        elif elohome1 < eloaway2: # if home team was expected to lose\n",
        "            w4 = (eloaway2 - elohome1)/(elohome1 + eloaway2)\n",
        "            new_elohome1 = elohome1 + (w3 * diff) + w4\n",
        "            new_eloaway2 = eloaway2 - (w3 * diff) - w4\n",
        "        else:\n",
        "            new_elohome1 = elohome1 + (w3 * diff)\n",
        "            new_eloaway2 = eloaway2 - (w3 * diff)\n",
        "\n",
        "    elif xg1 < xg2: # if home team's expected match value is lower\n",
        "        diff2 = xg2 - xg1 # difference\n",
        "\n",
        "        if eloaway2 > elohome1: # if away team was expected to win\n",
        "            w4 = (eloaway2 - elohome1)/(eloaway2 + elohome1)\n",
        "            new_elohome1 = elohome1 - (w3 * diff2) + w4 # decrease home team's home elo by a lesser amount\n",
        "            new_eloaway2 = eloaway2 + (w3 * diff2) - w4 # increase away team's away elo by a lesser amount\n",
        "        elif eloaway2 < elohome1: # if away team was expected to lose\n",
        "            w4 = (elohome1 - eloaway2)/(eloaway2 + elohome1)\n",
        "            new_elohome1 = elohome1 - (w3 * diff2) - w4\n",
        "            new_eloaway2 = eloaway2 + (w3 * diff2) + w4\n",
        "        else:\n",
        "            new_elohome1 = elohome1 - (w3 * diff2)\n",
        "            new_eloaway2 = eloaway2 + (w3 * diff2)\n",
        "\n",
        "    new_eloavg1 = (new_elohome1 + eloaway1) / 2 # update average elo of home team\n",
        "    new_eloavg2 = (new_eloaway2 + elohome2) / 2 # update average elo of away team\n",
        "\n",
        "    # update new elo ratings into elo_list\n",
        "    elohomelist[df.iloc[n,1]] = new_elohome1 # home team's elo home is updated\n",
        "    eloavglist[df.iloc[n,1]] = new_eloavg1 # home team's avg elo is updated\n",
        "    eloawaylist[df.iloc[n,2]] = new_eloaway2 # away team's elo away is updated\n",
        "    eloavglist[df.iloc[n,2]] = new_eloavg2 # away team's avg elo is updated\n",
        "\n",
        "    return elohomelist, eloawaylist, eloavglist\n",
        "\n",
        "# function to update elo after each season\n",
        "def update_elo_season(elohomelist, eloawaylist):\n",
        "    w5 = 2/3 # weight of previous season ELO rating carried over\n",
        "    for n in range(len(elohomelist)):\n",
        "        elohomelist[n] = (w5*elohomelist[n])+((1-w5)*1500)\n",
        "        eloawaylist[n] = (w5*eloawaylist[n])+((1-w5)*1500)\n",
        "\n",
        "    return elohomelist, eloawaylist\n",
        "\n",
        "# function to update avg elo after home or away elo has been changed\n",
        "def update_avg_elo(elohomelist, eloawaylist, eloavglist):\n",
        "    for n in range(len(EloHome_list)):\n",
        "        eloavglist[n] = (elohomelist[n] + eloawaylist[n]) / 2\n",
        "\n",
        "    return eloavglist\n",
        "\n",
        "# function to check days since last match to judge if it is a new season\n",
        "def cal_days (df,n): # n is the row number\n",
        "    if n == 0:\n",
        "        daysdiff = 0 # first match no days difference\n",
        "    else:\n",
        "        date1 = datetime.strptime(df['Date'][n],'%d-%m-%y') # date for current match\n",
        "        date2 = datetime.strptime(df['Date'][n-1],'%d-%m-%y') # date for previous match\n",
        "        daysdiff = (date1.date() - date2.date()).days # days difference between previous and current match\n",
        "    return daysdiff"
      ]
    },
    {
      "cell_type": "markdown",
      "metadata": {
        "id": "3v38Fw8wq5vb"
      },
      "source": [
        "#### Updating ELO\n",
        "1. ELO will be updated each match based on difference between expected match values and initial ELO ratings\n",
        "2. ELO will be regulated between each season to ensure it stays within reasonable range\n",
        "3. ELO will be inserted into final dataset to be used for classification model"
      ]
    },
    {
      "cell_type": "markdown",
      "metadata": {
        "id": "IMwSE4JG7YYY"
      },
      "source": [
        "Preparing dataset to store initial and final ELO ratings for each team."
      ]
    },
    {
      "cell_type": "code",
      "execution_count": null,
      "metadata": {
        "id": "phMT7V1GVZ8V"
      },
      "outputs": [],
      "source": [
        "# converting clubnames to integers\n",
        "df_epl2 = conv_clubname_to_int(df_epl,clubnames)\n",
        "\n",
        "# initialize elo for all home away and avg elo for all teams\n",
        "EloHome_list, EloAway_list, EloAvg_list = initialize_elo(clubnames)\n",
        "EloAvg_list = update_avg_elo(EloHome_list, EloAway_list, EloAvg_list)\n",
        "\n",
        "# new columns to store ELO ratings for each match\n",
        "df_epl[\"Home Team Elo After\"] = \"\"\n",
        "df_epl[\"Away Team Elo After\"] = \"\"\n",
        "df_epl[\"Home Team Initial Elo\"] = \"\"\n",
        "df_epl[\"Away Team Initial Elo\"] = \"\""
      ]
    },
    {
      "cell_type": "markdown",
      "metadata": {
        "id": "w9FslcFb7YYY"
      },
      "source": [
        "Before each match, we check if it is a new season and update ELO rating accordingly."
      ]
    },
    {
      "cell_type": "code",
      "execution_count": null,
      "metadata": {
        "id": "bZNEOW967YYY"
      },
      "outputs": [],
      "source": [
        "for n in range(df_epl.shape[0]):\n",
        "    # check if it is a new season\n",
        "    daysdiff = cal_days(df_epl,n)\n",
        "    if daysdiff > 30: # matches within a season will usually take place within 30 days\n",
        "        EloHome_list, EloAway_list = update_elo_season(EloHome_list,EloAway_list) # call function to update ELO between seasons\n",
        "        EloAvg_list = update_avg_elo(EloHome_list, EloAway_list, EloAvg_list)\n",
        "    else:\n",
        "        pass\n",
        "\n",
        "    # update initial elo ratings into table row by row which is the weighted average of average and home/away ELO\n",
        "    w6 = 0.8 # weightage for home/away elo\n",
        "    w7 = 1-w6 # weightage for avg elo\n",
        "    initial_elohome = (w6 * EloHome_list[df_epl2.iloc[n,1]]) + (w7 * EloAvg_list[df_epl2.iloc[n,1]])\n",
        "    initial_eloaway = (w6 * EloAway_list[df_epl2.iloc[n,2]]) + (w7 * EloAvg_list[df_epl2.iloc[n,2]])\n",
        "    df_epl.iloc[n,44] = initial_elohome\n",
        "    df_epl.iloc[n,45] = initial_eloaway\n",
        "\n",
        "    # update elo after each match\n",
        "    EloHome_list, EloAway_list, EloAvg_list = update_elo_match(df_epl2, n, EloHome_list, EloAway_list, EloAvg_list)\n",
        "\n",
        "    # update new elo ratings into table row by row\n",
        "    new_elohome = (w6 * EloHome_list[df_epl2.iloc[n,1]]) + (w7 * EloAvg_list[df_epl2.iloc[n,1]])\n",
        "    new_eloaway = (w6 * EloAway_list[df_epl2.iloc[n,2]]) + (w7 * EloAvg_list[df_epl2.iloc[n,2]])\n",
        "    df_epl.iloc[n,42] = new_elohome\n",
        "    df_epl.iloc[n,43] = new_eloaway"
      ]
    },
    {
      "cell_type": "markdown",
      "metadata": {
        "id": "uH8EnbzdtDQ0"
      },
      "source": [
        "## Last N Points"
      ]
    },
    {
      "cell_type": "code",
      "execution_count": null,
      "metadata": {
        "colab": {
          "base_uri": "https://localhost:8080/",
          "height": 424
        },
        "id": "tuCPZLrsJdqE",
        "outputId": "7df87048-b829-4479-8e90-8f0a8ac666ed"
      },
      "outputs": [
        {
          "data": {
            "text/html": [
              "<div>\n",
              "<style scoped>\n",
              "    .dataframe tbody tr th:only-of-type {\n",
              "        vertical-align: middle;\n",
              "    }\n",
              "\n",
              "    .dataframe tbody tr th {\n",
              "        vertical-align: top;\n",
              "    }\n",
              "\n",
              "    .dataframe thead th {\n",
              "        text-align: right;\n",
              "    }\n",
              "</style>\n",
              "<table border=\"1\" class=\"dataframe\">\n",
              "  <thead>\n",
              "    <tr style=\"text-align: right;\">\n",
              "      <th></th>\n",
              "      <th>HomeTeamLastNPoints</th>\n",
              "      <th>AwayTeamLastNPoints</th>\n",
              "    </tr>\n",
              "  </thead>\n",
              "  <tbody>\n",
              "    <tr>\n",
              "      <th>0</th>\n",
              "      <td>0</td>\n",
              "      <td>0</td>\n",
              "    </tr>\n",
              "    <tr>\n",
              "      <th>1</th>\n",
              "      <td>0</td>\n",
              "      <td>0</td>\n",
              "    </tr>\n",
              "    <tr>\n",
              "      <th>2</th>\n",
              "      <td>0</td>\n",
              "      <td>0</td>\n",
              "    </tr>\n",
              "    <tr>\n",
              "      <th>3</th>\n",
              "      <td>0</td>\n",
              "      <td>0</td>\n",
              "    </tr>\n",
              "    <tr>\n",
              "      <th>4</th>\n",
              "      <td>0</td>\n",
              "      <td>0</td>\n",
              "    </tr>\n",
              "    <tr>\n",
              "      <th>...</th>\n",
              "      <td>...</td>\n",
              "      <td>...</td>\n",
              "    </tr>\n",
              "    <tr>\n",
              "      <th>4718</th>\n",
              "      <td>8</td>\n",
              "      <td>9</td>\n",
              "    </tr>\n",
              "    <tr>\n",
              "      <th>4719</th>\n",
              "      <td>15</td>\n",
              "      <td>6</td>\n",
              "    </tr>\n",
              "    <tr>\n",
              "      <th>4720</th>\n",
              "      <td>4</td>\n",
              "      <td>5</td>\n",
              "    </tr>\n",
              "    <tr>\n",
              "      <th>4721</th>\n",
              "      <td>4</td>\n",
              "      <td>5</td>\n",
              "    </tr>\n",
              "    <tr>\n",
              "      <th>4722</th>\n",
              "      <td>6</td>\n",
              "      <td>7</td>\n",
              "    </tr>\n",
              "  </tbody>\n",
              "</table>\n",
              "<p>4723 rows × 2 columns</p>\n",
              "</div>"
            ],
            "text/plain": [
              "      HomeTeamLastNPoints  AwayTeamLastNPoints\n",
              "0                       0                    0\n",
              "1                       0                    0\n",
              "2                       0                    0\n",
              "3                       0                    0\n",
              "4                       0                    0\n",
              "...                   ...                  ...\n",
              "4718                    8                    9\n",
              "4719                   15                    6\n",
              "4720                    4                    5\n",
              "4721                    4                    5\n",
              "4722                    6                    7\n",
              "\n",
              "[4723 rows x 2 columns]"
            ]
          },
          "execution_count": 287,
          "metadata": {},
          "output_type": "execute_result"
        }
      ],
      "source": [
        "# Last N Points\n",
        "clubnames = []\n",
        "for name in df_epl[\"HomeTeam\"]:\n",
        "    if name not in clubnames:\n",
        "        clubnames.append(name)\n",
        "\n",
        "def create_team_history(df, clubnames):\n",
        "    #initialize the dictionary\n",
        "    team_history_dict = {}\n",
        "    for club in clubnames:\n",
        "        #n = clubnames.index(club)\n",
        "        team_history_dict[club] = [\"0\"]\n",
        "\n",
        "    for index in range(df.shape[0]):\n",
        "        if df.iloc[index,2] == \"H\": #home win\n",
        "            team_history_dict[df.iloc[index,0]].append(\"3\") #3 points to home team\n",
        "            team_history_dict[df.iloc[index,1]].append(\"0\") #0 points to away team\n",
        "\n",
        "        elif df.iloc[index,2] == \"A\": #home win\n",
        "            team_history_dict[df.iloc[index,0]].append(\"0\") #0 points to home team\n",
        "            team_history_dict[df.iloc[index,1]].append(\"3\") #3 points to away team\n",
        "\n",
        "        if df.iloc[index,2] == \"D\": #home win\n",
        "            team_history_dict[df.iloc[index,0]].append(\"1\") #3 points to home team\n",
        "            team_history_dict[df.iloc[index,1]].append(\"1\") #0 points to away team\n",
        "\n",
        "    return team_history_dict # Dictionary of all team's win/loss\n",
        "\n",
        "def last_n_points(n, match_num, team_history, clubname):\n",
        "    last_n_points = 0\n",
        "\n",
        "    if match_num >= n:\n",
        "        for k in range(match_num-n,match_num):\n",
        "            last_n_points = last_n_points +  int(team_history[clubname][k])\n",
        "\n",
        "    elif match_num == 0:\n",
        "        last_n_points = 0\n",
        "\n",
        "    else:\n",
        "        for k in range(0,match_num):\n",
        "            last_n_points = last_n_points +  int(team_history[clubname][match_num])\n",
        "\n",
        "    return last_n_points\n",
        "\n",
        "def populate_last_n_points(n, df,df2, team_history):\n",
        "    club_cumulative_matches = {}\n",
        "\n",
        "    for club in clubnames:\n",
        "        club_cumulative_matches[club] = -1 #trust me bcos i want it to start from zero (see below)\n",
        "\n",
        "    for index in range(df.shape[0]):\n",
        "        home_team = df.iloc[index,0]\n",
        "        away_team = df.iloc[index,1]\n",
        "\n",
        "        club_cumulative_matches[home_team] = club_cumulative_matches[home_team] + 1\n",
        "        club_cumulative_matches[away_team] = club_cumulative_matches[away_team] + 1\n",
        "\n",
        "        home_team_match_num = club_cumulative_matches[home_team]\n",
        "        away_team_match_num = club_cumulative_matches[away_team]\n",
        "\n",
        "\n",
        "        home_last_n_points = last_n_points(n,home_team_match_num, team_history,home_team)\n",
        "        away_last_n_points = last_n_points(n,away_team_match_num, team_history,away_team)\n",
        "        #df2 = pd.DataFrame([[5, 6], [7, 8]], columns=list('AB'), index=['x', 'y'])\n",
        "        #df = df.append({'A': i}, ignore_index=True)\n",
        "        df3 = pd.DataFrame([[home_last_n_points,away_last_n_points]])\n",
        "        df2 = df2.append(df3,ignore_index=True)\n",
        "\n",
        "\n",
        "    return df2\n",
        "# Hshots = Hshots.rename(columns={'HSZA':'SZA','HSZB':'SZB','HSZC':'SZC','HST':'SOT',\n",
        "                              #  'FTHG_P':'FTG_P'})\n",
        "\n",
        "df_lastNPoints = pd.DataFrame()\n",
        "#s2 = pd.Series([0,0], index=['HomeTeamLastNPoints','AwayTeamLastNPoints'])\n",
        "#df_lastNPoints = df_lastNPoints.append(s2,ignore_index=True)\n",
        "df_working = df_pred3.drop(['Date'],axis = 1)\n",
        "team_history = create_team_history(df_working, clubnames)\n",
        "df_lastNPoints = populate_last_n_points(5, df_working, df_lastNPoints, team_history)\n",
        "df_lastNPoints.columns.map(type)\n",
        "df_lastNPoints.columns = df_lastNPoints.columns.astype(str)\n",
        "df_lastNPoints = df_lastNPoints.rename(columns={'0':'HomeTeamLastNPoints','1':'AwayTeamLastNPoints'})\n",
        "#df = lastNPoints_df.drop(['AwayTeam','HomeTeam','FTR'],axis = 1)\n",
        "lastNPoints_df_train = df_lastNPoints.iloc[:4723].copy()\n",
        "lastNPoints_df_test = df_lastNPoints.iloc[4723:].copy()\n",
        "lastNPoints_df_train\n",
        "#df_lastNPoints"
      ]
    },
    {
      "cell_type": "markdown",
      "metadata": {
        "id": "D_wmwLYPuGlI"
      },
      "source": [
        "## Spending"
      ]
    },
    {
      "cell_type": "code",
      "execution_count": null,
      "metadata": {
        "colab": {
          "base_uri": "https://localhost:8080/",
          "height": 424
        },
        "id": "sghgjI3NJd0N",
        "outputId": "f0056a3d-f8f9-4c17-b857-666ebe4da1a1"
      },
      "outputs": [
        {
          "data": {
            "text/html": [
              "<div>\n",
              "<style scoped>\n",
              "    .dataframe tbody tr th:only-of-type {\n",
              "        vertical-align: middle;\n",
              "    }\n",
              "\n",
              "    .dataframe tbody tr th {\n",
              "        vertical-align: top;\n",
              "    }\n",
              "\n",
              "    .dataframe thead th {\n",
              "        text-align: right;\n",
              "    }\n",
              "</style>\n",
              "<table border=\"1\" class=\"dataframe\">\n",
              "  <thead>\n",
              "    <tr style=\"text-align: right;\">\n",
              "      <th></th>\n",
              "      <th>HomeEx</th>\n",
              "      <th>HomeNetSpend</th>\n",
              "      <th>AwayEx</th>\n",
              "      <th>AwayNetSpend</th>\n",
              "    </tr>\n",
              "  </thead>\n",
              "  <tbody>\n",
              "    <tr>\n",
              "      <th>0</th>\n",
              "      <td>0.318398</td>\n",
              "      <td>-0.211064</td>\n",
              "      <td>0.120540</td>\n",
              "      <td>0.068558</td>\n",
              "    </tr>\n",
              "    <tr>\n",
              "      <th>1</th>\n",
              "      <td>0.090141</td>\n",
              "      <td>0.198865</td>\n",
              "      <td>1.000000</td>\n",
              "      <td>-1.000000</td>\n",
              "    </tr>\n",
              "    <tr>\n",
              "      <th>2</th>\n",
              "      <td>0.081466</td>\n",
              "      <td>-0.085106</td>\n",
              "      <td>0.302783</td>\n",
              "      <td>-0.198487</td>\n",
              "    </tr>\n",
              "    <tr>\n",
              "      <th>3</th>\n",
              "      <td>0.203666</td>\n",
              "      <td>-0.229787</td>\n",
              "      <td>0.096100</td>\n",
              "      <td>0.015792</td>\n",
              "    </tr>\n",
              "    <tr>\n",
              "      <th>4</th>\n",
              "      <td>0.158181</td>\n",
              "      <td>0.042931</td>\n",
              "      <td>0.081466</td>\n",
              "      <td>0.303830</td>\n",
              "    </tr>\n",
              "    <tr>\n",
              "      <th>...</th>\n",
              "      <td>...</td>\n",
              "      <td>...</td>\n",
              "      <td>...</td>\n",
              "      <td>...</td>\n",
              "    </tr>\n",
              "    <tr>\n",
              "      <th>4718</th>\n",
              "      <td>0.363258</td>\n",
              "      <td>-0.159732</td>\n",
              "      <td>0.602791</td>\n",
              "      <td>0.199543</td>\n",
              "    </tr>\n",
              "    <tr>\n",
              "      <th>4719</th>\n",
              "      <td>0.769928</td>\n",
              "      <td>-0.651248</td>\n",
              "      <td>0.000000</td>\n",
              "      <td>0.000000</td>\n",
              "    </tr>\n",
              "    <tr>\n",
              "      <th>4720</th>\n",
              "      <td>0.336353</td>\n",
              "      <td>0.049927</td>\n",
              "      <td>0.158816</td>\n",
              "      <td>0.038179</td>\n",
              "    </tr>\n",
              "    <tr>\n",
              "      <th>4721</th>\n",
              "      <td>0.443438</td>\n",
              "      <td>-0.539158</td>\n",
              "      <td>0.260266</td>\n",
              "      <td>0.126774</td>\n",
              "    </tr>\n",
              "    <tr>\n",
              "      <th>4722</th>\n",
              "      <td>1.000000</td>\n",
              "      <td>-1.000000</td>\n",
              "      <td>0.406401</td>\n",
              "      <td>-0.472100</td>\n",
              "    </tr>\n",
              "  </tbody>\n",
              "</table>\n",
              "<p>4723 rows × 4 columns</p>\n",
              "</div>"
            ],
            "text/plain": [
              "        HomeEx  HomeNetSpend    AwayEx  AwayNetSpend\n",
              "0     0.318398     -0.211064  0.120540      0.068558\n",
              "1     0.090141      0.198865  1.000000     -1.000000\n",
              "2     0.081466     -0.085106  0.302783     -0.198487\n",
              "3     0.203666     -0.229787  0.096100      0.015792\n",
              "4     0.158181      0.042931  0.081466      0.303830\n",
              "...        ...           ...       ...           ...\n",
              "4718  0.363258     -0.159732  0.602791      0.199543\n",
              "4719  0.769928     -0.651248  0.000000      0.000000\n",
              "4720  0.336353      0.049927  0.158816      0.038179\n",
              "4721  0.443438     -0.539158  0.260266      0.126774\n",
              "4722  1.000000     -1.000000  0.406401     -0.472100\n",
              "\n",
              "[4723 rows x 4 columns]"
            ]
          },
          "execution_count": 214,
          "metadata": {},
          "output_type": "execute_result"
        }
      ],
      "source": [
        "#Spending\n",
        "#Scrapping for spend data\n",
        "#Transfermarkt webscraping function from https://fcpython.com/blog/introduction-scraping-data-transfermarkt\n",
        "\n",
        "#Webscraping will not work if website knows we are not a browser, so a fake browser is used\n",
        "headers = {'User-Agent':\n",
        "           'Mozilla/5.0 (X11; Linux x86_64) AppleWebKit/537.36 (KHTML, like Gecko) Chrome/47.0.2526.106 Safari/537.36'}\n",
        "#Define function to take the year, and output table of expenses and balance for each season\n",
        "def get_spend(year):\n",
        "    pageTree = requests.get('https://www.transfermarkt.co.uk/premier-league/einnahmenausgaben/wettbewerb/GB1/plus/0?ids=a&sa=&saison_id='+year+'&saison_id_bis='+year+'&nat=&pos=&altersklasse=&w_s=&leihe=false&intern=1', headers=headers)\n",
        "    pageSoup = BeautifulSoup(pageTree.content, 'html.parser')\n",
        "    club = pageSoup.find_all(\"td\", {\"class\": \"hauptlink no-border-links\"})\n",
        "    ex = pageSoup.find_all(\"td\", {\"class\": \"rechts hauptlink redtext\"})\n",
        "    bal = pageSoup.find_all(\"td\", {\"class\": \"rechts hauptlink\"})\n",
        "    rows=[]\n",
        "    #The team names are different on the website, use dictionary to replace each name\n",
        "    team_name_match_dict={'Arsenal FC':'Arsenal',\n",
        "                      'Chelsea FC':'Chelsea',\n",
        "                      'Blackburn Rovers':'Blackburn',\n",
        "                      'Bolton Wanderers':'Bolton',\n",
        "                      'Liverpool FC':'Liverpool',\n",
        "                      'Sunderland AFC':'Sunderland',\n",
        "                      'Fulham FC':'Fulham',\n",
        "                      'Portsmouth FC':'Portsmouth',\n",
        "                      'Everton FC':'Everton',\n",
        "                      'Middlesbrough FC':'Middlesbrough',\n",
        "                      'Burnley FC':'Burnley',\n",
        "                      'Brighton & Hove Albion':'Brighton',\n",
        "                      'Cardiff City':'Cardiff',\n",
        "                      'Huddersfield Town':'Huddersfield',\n",
        "                      'Hull City':'Hull',\n",
        "                      'Leicester City':'Leicester',\n",
        "                      'Watford FC':'Watford',\n",
        "                      'Manchester City':'Man City',\n",
        "                      'Manchester United':'Man United',\n",
        "                      'AFC Bournemouth':'Bournemouth',\n",
        "                      'Southampton FC':'Southampton',\n",
        "                      'Newcastle United':'Newcastle',\n",
        "                      'Norwich City':'Norwich',\n",
        "                      'Queens Park Rangers':'QPR',\n",
        "                      'Stoke City':'Stoke',\n",
        "                      'Swansea City':'Swansea',\n",
        "                      'Tottenham Hotspur':'Tottenham',\n",
        "                      'West Bromwich Albion':'West Brom',\n",
        "                      'West Ham United':'West Ham',\n",
        "                      'Wigan Athletic':'Wigan',\n",
        "                      'Wolverhampton Wanderers':'Wolves'}\n",
        "    #Remove symbols and units, and replace them\n",
        "    for i in range(len(club)):\n",
        "        ex[i]=ex[i].text.replace('£','').replace('m','000000').replace('Th.','000').replace('.','')\n",
        "        bal[i]=bal[i].text.replace('£','').replace('m','000000').replace('Th.','000').replace('.','')\n",
        "        #One particular club did not spend any money during a season. This changes that from 'null' to zero\n",
        "        if ex[i]=='-':\n",
        "          ex[i]=0\n",
        "        rows.append([club[i].text,ex[i],bal[i]])\n",
        "    spend_df = pd.DataFrame(rows,columns=['Club','Expenses','Balance'])\n",
        "    spend_df['Club']=spend_df['Club'].replace(team_name_match_dict)\n",
        "    spend_df[['Expenses','Balance']]=MaxAbsScaler().fit(spend_df[['Expenses','Balance']]).transform(spend_df[['Expenses','Balance']])\n",
        "    return spend_df\n",
        "\n",
        "#Create dictionary for spending\n",
        "spend_d={}\n",
        "for i in range(2008,2022):\n",
        "    spend_d[\"{0}\".format(i)]=get_spend(str(i))\n",
        "\n",
        "def get_spending():\n",
        "  data = df_pred3\n",
        "  rows=[]\n",
        "  for i in range(len(data)):\n",
        "      row=[0,0,0,0]\n",
        "      #Change date in each row from string to datetime object\n",
        "      try:\n",
        "          t=datetime.strptime(data['Date'][i],'%d-%m-%y')\n",
        "      except ValueError:\n",
        "          t=datetime.strptime(data['Date'][i],'%d-%m-%y')\n",
        "      #To determine which season the current match belongs to, it is observed that the EPL season starts around August and ends around June\n",
        "      #Therefore, if the month is greater than or equal to 8, it is assigned the current year\n",
        "      #If the month is less than or equal to 6, it is assigned the previous year\n",
        "      if t.month>=8:\n",
        "          for j in range(len(spend_d[str(t.year)])):\n",
        "              if spend_d[str(t.year)]['Club'][j]==data['HomeTeam'][i]:\n",
        "                  row[0]=spend_d[str(t.year)]['Expenses'][j]\n",
        "                  row[1]=spend_d[str(t.year)]['Balance'][j]\n",
        "              elif spend_d[str(t.year)]['Club'][j]==data['AwayTeam'][i]:\n",
        "                  row[2]=spend_d[str(t.year)]['Expenses'][j]\n",
        "                  row[3]=spend_d[str(t.year)]['Balance'][j]\n",
        "      elif t.month<=6:\n",
        "          for k in range(len(spend_d[str(t.year-1)])):\n",
        "              if spend_d[str(t.year-1)]['Club'][k]==data['HomeTeam'][i]:\n",
        "                  row[0]=spend_d[str(t.year-1)]['Expenses'][k]\n",
        "                  row[1]=spend_d[str(t.year-1)]['Balance'][k]\n",
        "              elif spend_d[str(t.year-1)]['Club'][k]==data['AwayTeam'][i]:\n",
        "                  row[2]=spend_d[str(t.year-1)]['Expenses'][k]\n",
        "                  row[3]=spend_d[str(t.year-1)]['Balance'][k]\n",
        "      rows.append(row)\n",
        "  spending_df=pd.DataFrame(rows,columns=['HomeEx','HomeNetSpend','AwayEx','AwayNetSpend'])\n",
        "  return spending_df\n",
        "spending_df=get_spending()\n",
        "spending_df_train = spending_df.iloc[:4723]\n",
        "spending_df_test = spending_df.iloc[4723:]\n",
        "spending_df_train"
      ]
    },
    {
      "cell_type": "markdown",
      "metadata": {
        "id": "JU2EdCqouJLC"
      },
      "source": [
        "## Fatigue"
      ]
    },
    {
      "cell_type": "code",
      "execution_count": null,
      "metadata": {
        "colab": {
          "base_uri": "https://localhost:8080/",
          "height": 460
        },
        "id": "Bzel-qwbJd2s",
        "outputId": "c27cd9c9-4226-426a-a52e-ba86857da9a0"
      },
      "outputs": [
        {
          "name": "stderr",
          "output_type": "stream",
          "text": [
            "C:\\Users\\Jia Yi\\anaconda3\\lib\\site-packages\\pandas\\core\\series.py:726: RuntimeWarning: overflow encountered in exp\n",
            "  result = getattr(ufunc, method)(*inputs, **kwargs)\n"
          ]
        },
        {
          "data": {
            "text/html": [
              "<div>\n",
              "<style scoped>\n",
              "    .dataframe tbody tr th:only-of-type {\n",
              "        vertical-align: middle;\n",
              "    }\n",
              "\n",
              "    .dataframe tbody tr th {\n",
              "        vertical-align: top;\n",
              "    }\n",
              "\n",
              "    .dataframe thead th {\n",
              "        text-align: right;\n",
              "    }\n",
              "</style>\n",
              "<table border=\"1\" class=\"dataframe\">\n",
              "  <thead>\n",
              "    <tr style=\"text-align: right;\">\n",
              "      <th></th>\n",
              "      <th>HFati</th>\n",
              "      <th>AFati</th>\n",
              "    </tr>\n",
              "  </thead>\n",
              "  <tbody>\n",
              "    <tr>\n",
              "      <th>0</th>\n",
              "      <td>0.000001</td>\n",
              "      <td>0.000001</td>\n",
              "    </tr>\n",
              "    <tr>\n",
              "      <th>1</th>\n",
              "      <td>0.000001</td>\n",
              "      <td>0.000001</td>\n",
              "    </tr>\n",
              "    <tr>\n",
              "      <th>2</th>\n",
              "      <td>0.000001</td>\n",
              "      <td>0.000001</td>\n",
              "    </tr>\n",
              "    <tr>\n",
              "      <th>3</th>\n",
              "      <td>0.000001</td>\n",
              "      <td>0.000001</td>\n",
              "    </tr>\n",
              "    <tr>\n",
              "      <th>4</th>\n",
              "      <td>0.000001</td>\n",
              "      <td>0.000001</td>\n",
              "    </tr>\n",
              "    <tr>\n",
              "      <th>...</th>\n",
              "      <td>...</td>\n",
              "      <td>...</td>\n",
              "    </tr>\n",
              "    <tr>\n",
              "      <th>4718</th>\n",
              "      <td>0.500000</td>\n",
              "      <td>0.500000</td>\n",
              "    </tr>\n",
              "    <tr>\n",
              "      <th>4719</th>\n",
              "      <td>0.500000</td>\n",
              "      <td>0.500000</td>\n",
              "    </tr>\n",
              "    <tr>\n",
              "      <th>4720</th>\n",
              "      <td>0.017986</td>\n",
              "      <td>0.377541</td>\n",
              "    </tr>\n",
              "    <tr>\n",
              "      <th>4721</th>\n",
              "      <td>0.500000</td>\n",
              "      <td>0.377541</td>\n",
              "    </tr>\n",
              "    <tr>\n",
              "      <th>4722</th>\n",
              "      <td>0.377541</td>\n",
              "      <td>0.500000</td>\n",
              "    </tr>\n",
              "  </tbody>\n",
              "</table>\n",
              "<p>4723 rows × 2 columns</p>\n",
              "</div>"
            ],
            "text/plain": [
              "         HFati     AFati\n",
              "0     0.000001  0.000001\n",
              "1     0.000001  0.000001\n",
              "2     0.000001  0.000001\n",
              "3     0.000001  0.000001\n",
              "4     0.000001  0.000001\n",
              "...        ...       ...\n",
              "4718  0.500000  0.500000\n",
              "4719  0.500000  0.500000\n",
              "4720  0.017986  0.377541\n",
              "4721  0.500000  0.377541\n",
              "4722  0.377541  0.500000\n",
              "\n",
              "[4723 rows x 2 columns]"
            ]
          },
          "execution_count": 82,
          "metadata": {},
          "output_type": "execute_result"
        }
      ],
      "source": [
        "#Fatigue\n",
        "def get_fatigue():\n",
        "  data = pd.read_csv('epl-training2.csv')\n",
        "  fatigue_df = pd.DataFrame(30,index=range(len(data)),columns=['HFati','AFati']) #Create initial dataframe with 30 days as values\n",
        "  clubnames = data['HomeTeam'].unique().tolist() #Get club names\n",
        "  for name in clubnames:\n",
        "      a=np.sort(np.append(data[data['HomeTeam']==name].index.values,data[data['AwayTeam']==name].index.values))\n",
        "      rows = []\n",
        "      s = []\n",
        "      #Find all rows with specific club, and convert string to datetime object\n",
        "      for i in a:\n",
        "          t = []\n",
        "          t.append(i)\n",
        "          try:\n",
        "              t.append(datetime.strptime(data['Date'][i],'%d-%m-%y'))\n",
        "          except ValueError:\n",
        "              t.append(datetime.strptime(data['Date'][i],'%d-%m-%y'))\n",
        "          s.append(t)\n",
        "      #Find difference in days between matches\n",
        "      for i in range(len(s)-1):\n",
        "          row = [s[i+1][0],(s[i+1][1].date()-s[i][1].date()).days]\n",
        "          rows.append(row)\n",
        "      f_df = pd.DataFrame(rows,columns=['n','F'])\n",
        "      #Change values in fatigue_df from 30 days to actual number of days between matches\n",
        "      for i in range(len(f_df['n'])):\n",
        "          if data['HomeTeam'][f_df['n'][i]]==name:\n",
        "              fatigue_df['HFati'][f_df['n'][i]]=f_df['F'][i]\n",
        "          elif data['AwayTeam'][f_df['n'][i]]==name:\n",
        "              fatigue_df['AFati'][f_df['n'][i]]=f_df['F'][i]\n",
        "  #Transform number of days to a fatigue index between 0 and 1\n",
        "  fatigue_df['HFati']=1/(1+np.exp(0.5*(fatigue_df['HFati']-3)))\n",
        "  fatigue_df['AFati']=1/(1+np.exp(0.5*(fatigue_df['AFati']-3)))\n",
        "  return fatigue_df\n",
        "fatigue_df=get_fatigue()\n",
        "fatigue_df"
      ]
    },
    {
      "cell_type": "markdown",
      "metadata": {
        "id": "a-wb9LCZuLoi"
      },
      "source": [
        "## Distance Travelled by Away Team"
      ]
    },
    {
      "cell_type": "code",
      "execution_count": null,
      "metadata": {
        "colab": {
          "base_uri": "https://localhost:8080/",
          "height": 449
        },
        "id": "g71DcHIhJwyT",
        "outputId": "26d9ec4b-e554-45ab-c4ab-8a8b2bd743d1"
      },
      "outputs": [
        {
          "data": {
            "text/html": [
              "<div>\n",
              "<style scoped>\n",
              "    .dataframe tbody tr th:only-of-type {\n",
              "        vertical-align: middle;\n",
              "    }\n",
              "\n",
              "    .dataframe tbody tr th {\n",
              "        vertical-align: top;\n",
              "    }\n",
              "\n",
              "    .dataframe thead th {\n",
              "        text-align: right;\n",
              "    }\n",
              "</style>\n",
              "<table border=\"1\" class=\"dataframe\">\n",
              "  <thead>\n",
              "    <tr style=\"text-align: right;\">\n",
              "      <th></th>\n",
              "      <th>Away travel distance</th>\n",
              "    </tr>\n",
              "  </thead>\n",
              "  <tbody>\n",
              "    <tr>\n",
              "      <th>4723</th>\n",
              "      <td>85.4</td>\n",
              "    </tr>\n",
              "    <tr>\n",
              "      <th>4724</th>\n",
              "      <td>200.0</td>\n",
              "    </tr>\n",
              "    <tr>\n",
              "      <th>4725</th>\n",
              "      <td>244.0</td>\n",
              "    </tr>\n",
              "    <tr>\n",
              "      <th>4726</th>\n",
              "      <td>46.1</td>\n",
              "    </tr>\n",
              "    <tr>\n",
              "      <th>4727</th>\n",
              "      <td>156.0</td>\n",
              "    </tr>\n",
              "    <tr>\n",
              "      <th>4728</th>\n",
              "      <td>215.0</td>\n",
              "    </tr>\n",
              "    <tr>\n",
              "      <th>4729</th>\n",
              "      <td>4.5</td>\n",
              "    </tr>\n",
              "    <tr>\n",
              "      <th>4730</th>\n",
              "      <td>205.0</td>\n",
              "    </tr>\n",
              "    <tr>\n",
              "      <th>4731</th>\n",
              "      <td>267.0</td>\n",
              "    </tr>\n",
              "    <tr>\n",
              "      <th>4732</th>\n",
              "      <td>145.0</td>\n",
              "    </tr>\n",
              "  </tbody>\n",
              "</table>\n",
              "</div>"
            ],
            "text/plain": [
              "      Away travel distance\n",
              "4723                  85.4\n",
              "4724                 200.0\n",
              "4725                 244.0\n",
              "4726                  46.1\n",
              "4727                 156.0\n",
              "4728                 215.0\n",
              "4729                   4.5\n",
              "4730                 205.0\n",
              "4731                 267.0\n",
              "4732                 145.0"
            ]
          },
          "execution_count": 281,
          "metadata": {},
          "output_type": "execute_result"
        }
      ],
      "source": [
        "#Distance Travelled\n",
        "#Distance data taken from Google Maps, shortest distance by car from away team stadium to home team stadium\n",
        "def get_dist():\n",
        "  data = df_pred3\n",
        "  dist = pd.read_csv('dist.csv') #Import distance from each club\n",
        "  rows = []\n",
        "  for i in range(len(data)):\n",
        "      h = data['HomeTeam'][i]\n",
        "      a = data['AwayTeam'][i]\n",
        "      for j in dist[dist['Home']==h].index.values:\n",
        "          if dist['Away'][j] == a:\n",
        "              rows.append(dist['Miles'][j])\n",
        "      for j in dist[dist['Away']==h].index.values:\n",
        "          if dist['Home'][j] == a:\n",
        "              rows.append(dist['Miles'][j])\n",
        "  dist_df = pd.DataFrame(rows,columns=['Away travel distance'])\n",
        "  return dist_df\n",
        "dist_df=get_dist()\n",
        "dist_df_train = dist_df.iloc[:4723]\n",
        "dist_df_test = dist_df.iloc[4723:]\n",
        "dist_df_test"
      ]
    },
    {
      "cell_type": "markdown",
      "metadata": {
        "id": "WEtCNF9s7YYZ"
      },
      "source": [
        "Now, we combine all of our features into a new dataset to be used for our classification model."
      ]
    },
    {
      "cell_type": "code",
      "execution_count": null,
      "metadata": {
        "id": "fdSbVYv47YYZ",
        "outputId": "15127b2c-57b8-4903-bf62-3ddfb3aa59b2"
      },
      "outputs": [
        {
          "data": {
            "text/html": [
              "<div>\n",
              "<style scoped>\n",
              "    .dataframe tbody tr th:only-of-type {\n",
              "        vertical-align: middle;\n",
              "    }\n",
              "\n",
              "    .dataframe tbody tr th {\n",
              "        vertical-align: top;\n",
              "    }\n",
              "\n",
              "    .dataframe thead th {\n",
              "        text-align: right;\n",
              "    }\n",
              "</style>\n",
              "<table border=\"1\" class=\"dataframe\">\n",
              "  <thead>\n",
              "    <tr style=\"text-align: right;\">\n",
              "      <th></th>\n",
              "      <th>FTR</th>\n",
              "      <th>ExDiff</th>\n",
              "      <th>NetSpendDiff</th>\n",
              "      <th>Away travel distance</th>\n",
              "      <th>FatiDiff</th>\n",
              "      <th>LastNPointsDiff</th>\n",
              "      <th>ELODiff</th>\n",
              "      <th>FoulsDiff</th>\n",
              "      <th>YcardDiff</th>\n",
              "      <th>RcardDiff</th>\n",
              "    </tr>\n",
              "  </thead>\n",
              "  <tbody>\n",
              "    <tr>\n",
              "      <th>0</th>\n",
              "      <td>A</td>\n",
              "      <td>0.197858</td>\n",
              "      <td>-0.279622</td>\n",
              "      <td>89.4</td>\n",
              "      <td>0.000000</td>\n",
              "      <td>0</td>\n",
              "      <td>0</td>\n",
              "      <td>1</td>\n",
              "      <td>0</td>\n",
              "      <td>0</td>\n",
              "    </tr>\n",
              "    <tr>\n",
              "      <th>1</th>\n",
              "      <td>A</td>\n",
              "      <td>-0.909859</td>\n",
              "      <td>1.198865</td>\n",
              "      <td>27.2</td>\n",
              "      <td>0.000000</td>\n",
              "      <td>0</td>\n",
              "      <td>0</td>\n",
              "      <td>3</td>\n",
              "      <td>1</td>\n",
              "      <td>0</td>\n",
              "    </tr>\n",
              "    <tr>\n",
              "      <th>2</th>\n",
              "      <td>A</td>\n",
              "      <td>-0.221317</td>\n",
              "      <td>0.113381</td>\n",
              "      <td>147.0</td>\n",
              "      <td>0.000000</td>\n",
              "      <td>0</td>\n",
              "      <td>0</td>\n",
              "      <td>6</td>\n",
              "      <td>1</td>\n",
              "      <td>0</td>\n",
              "    </tr>\n",
              "    <tr>\n",
              "      <th>3</th>\n",
              "      <td>H</td>\n",
              "      <td>0.107566</td>\n",
              "      <td>-0.245579</td>\n",
              "      <td>198.0</td>\n",
              "      <td>0.000000</td>\n",
              "      <td>0</td>\n",
              "      <td>0</td>\n",
              "      <td>-2</td>\n",
              "      <td>-1</td>\n",
              "      <td>0</td>\n",
              "    </tr>\n",
              "    <tr>\n",
              "      <th>4</th>\n",
              "      <td>A</td>\n",
              "      <td>0.076714</td>\n",
              "      <td>-0.260898</td>\n",
              "      <td>208.0</td>\n",
              "      <td>0.000000</td>\n",
              "      <td>0</td>\n",
              "      <td>0</td>\n",
              "      <td>-2</td>\n",
              "      <td>0</td>\n",
              "      <td>0</td>\n",
              "    </tr>\n",
              "    <tr>\n",
              "      <th>...</th>\n",
              "      <td>...</td>\n",
              "      <td>...</td>\n",
              "      <td>...</td>\n",
              "      <td>...</td>\n",
              "      <td>...</td>\n",
              "      <td>...</td>\n",
              "      <td>...</td>\n",
              "      <td>...</td>\n",
              "      <td>...</td>\n",
              "      <td>...</td>\n",
              "    </tr>\n",
              "    <tr>\n",
              "      <th>4718</th>\n",
              "      <td>A</td>\n",
              "      <td>-0.239533</td>\n",
              "      <td>-0.359276</td>\n",
              "      <td>161.0</td>\n",
              "      <td>0.000000</td>\n",
              "      <td>-1</td>\n",
              "      <td>2.4082</td>\n",
              "      <td>3</td>\n",
              "      <td>2</td>\n",
              "      <td>0</td>\n",
              "    </tr>\n",
              "    <tr>\n",
              "      <th>4719</th>\n",
              "      <td>H</td>\n",
              "      <td>0.769928</td>\n",
              "      <td>-0.651248</td>\n",
              "      <td>40.3</td>\n",
              "      <td>0.000000</td>\n",
              "      <td>9</td>\n",
              "      <td>874.921</td>\n",
              "      <td>-4</td>\n",
              "      <td>0</td>\n",
              "      <td>0</td>\n",
              "    </tr>\n",
              "    <tr>\n",
              "      <th>4720</th>\n",
              "      <td>A</td>\n",
              "      <td>0.177536</td>\n",
              "      <td>0.011747</td>\n",
              "      <td>190.0</td>\n",
              "      <td>-0.359554</td>\n",
              "      <td>-1</td>\n",
              "      <td>190.748</td>\n",
              "      <td>-3</td>\n",
              "      <td>2</td>\n",
              "      <td>0</td>\n",
              "    </tr>\n",
              "    <tr>\n",
              "      <th>4721</th>\n",
              "      <td>D</td>\n",
              "      <td>0.183172</td>\n",
              "      <td>-0.665932</td>\n",
              "      <td>83.5</td>\n",
              "      <td>0.122459</td>\n",
              "      <td>-1</td>\n",
              "      <td>131.178</td>\n",
              "      <td>-4</td>\n",
              "      <td>-2</td>\n",
              "      <td>0</td>\n",
              "    </tr>\n",
              "    <tr>\n",
              "      <th>4722</th>\n",
              "      <td>H</td>\n",
              "      <td>0.593599</td>\n",
              "      <td>-0.527900</td>\n",
              "      <td>5.4</td>\n",
              "      <td>-0.122459</td>\n",
              "      <td>-1</td>\n",
              "      <td>257.056</td>\n",
              "      <td>-1</td>\n",
              "      <td>2</td>\n",
              "      <td>-1</td>\n",
              "    </tr>\n",
              "  </tbody>\n",
              "</table>\n",
              "<p>4723 rows × 10 columns</p>\n",
              "</div>"
            ],
            "text/plain": [
              "     FTR    ExDiff  NetSpendDiff  Away travel distance  FatiDiff  \\\n",
              "0      A  0.197858     -0.279622                  89.4  0.000000   \n",
              "1      A -0.909859      1.198865                  27.2  0.000000   \n",
              "2      A -0.221317      0.113381                 147.0  0.000000   \n",
              "3      H  0.107566     -0.245579                 198.0  0.000000   \n",
              "4      A  0.076714     -0.260898                 208.0  0.000000   \n",
              "...   ..       ...           ...                   ...       ...   \n",
              "4718   A -0.239533     -0.359276                 161.0  0.000000   \n",
              "4719   H  0.769928     -0.651248                  40.3  0.000000   \n",
              "4720   A  0.177536      0.011747                 190.0 -0.359554   \n",
              "4721   D  0.183172     -0.665932                  83.5  0.122459   \n",
              "4722   H  0.593599     -0.527900                   5.4 -0.122459   \n",
              "\n",
              "      LastNPointsDiff  ELODiff  FoulsDiff  YcardDiff  RcardDiff  \n",
              "0                   0        0          1          0          0  \n",
              "1                   0        0          3          1          0  \n",
              "2                   0        0          6          1          0  \n",
              "3                   0        0         -2         -1          0  \n",
              "4                   0        0         -2          0          0  \n",
              "...               ...      ...        ...        ...        ...  \n",
              "4718               -1   2.4082          3          2          0  \n",
              "4719                9  874.921         -4          0          0  \n",
              "4720               -1  190.748         -3          2          0  \n",
              "4721               -1  131.178         -4         -2          0  \n",
              "4722               -1  257.056         -1          2         -1  \n",
              "\n",
              "[4723 rows x 10 columns]"
            ]
          },
          "execution_count": 270,
          "metadata": {},
          "output_type": "execute_result"
        }
      ],
      "source": [
        "# copying features from their respective datasets to a new dataframe\n",
        "# to reduce the number of features we take the difference between home and away values for all features except away distance travelled as that only applies to the away team\n",
        "df_ftr = df_epl.join(pd.get_dummies(df_epl['FTR'],prefix='FTR'))\n",
        "df_final = df_ftr[[\"FTR\"]].copy()\n",
        "df_final['ExDiff'] = spending_df_train['HomeEx']-spending_df_train['AwayEx']\n",
        "df_final['NetSpendDiff'] = spending_df_train['HomeNetSpend']-spending_df_train['AwayNetSpend']\n",
        "df_final['Away travel distance'] = dist_df_train[['Away travel distance']].copy()\n",
        "df_final['FatiDiff'] = fatigue_df['HFati']-fatigue_df['AFati']\n",
        "df_final['LastNPointsDiff'] = lastNPoints_df_train[\"HomeTeamLastNPoints\"] - lastNPoints_df_train[\"AwayTeamLastNPoints\"]\n",
        "df_final['ELODiff'] = df_epl[\"Home Team Initial Elo\"] - df_epl[\"Away Team Initial Elo\"]\n",
        "df_final['FoulsDiff'] = df_epl['HF']-df_epl['AF']\n",
        "df_final['YcardDiff']= df_epl['HY']-df_epl['AY']\n",
        "df_final['RcardDiff']=df_epl['HR']-df_epl['AR']\n",
        "df_final"
      ]
    },
    {
      "cell_type": "markdown",
      "metadata": {
        "id": "u3fCgrPV7YYZ"
      },
      "source": [
        "# Feature Selection\n",
        "Now that we have all our features, we can evaluate the strength of correlation between all features and our target value. We will be using a statistical method to choose our features for our final predictive classification model."
      ]
    },
    {
      "cell_type": "code",
      "execution_count": null,
      "metadata": {
        "id": "Y5CwiOS6UnvZ"
      },
      "outputs": [],
      "source": [
        "# Separating dataset into x and y\n",
        "X,Y = df_final.drop(['FTR'],axis=1), df_final[\"FTR\"].copy()\n",
        "\n",
        "# standardising data\n",
        "scaler = StandardScaler()\n",
        "X_scale = scaler.fit_transform(X)"
      ]
    },
    {
      "cell_type": "code",
      "execution_count": null,
      "metadata": {
        "id": "Bd_TRB2V7YYZ",
        "outputId": "c5ed6278-af33-4d6d-b704-04bc86b8a56b"
      },
      "outputs": [
        {
          "data": {
            "image/png": "[encoded data removed]",
            "text/plain": [
              "<Figure size 432x288 with 2 Axes>"
            ]
          },
          "metadata": {
            "needs_background": "light"
          },
          "output_type": "display_data"
        }
      ],
      "source": [
        "corr3 = df_final.corr()\n",
        "sb.heatmap(corr3)\n",
        "plt.show()"
      ]
    },
    {
      "cell_type": "markdown",
      "metadata": {
        "id": "zg_bIgrC7YYZ"
      },
      "source": [
        "Heatmap was generated to evaluate the correlation between the features. No strong correlations was observed. Hence, no changes were made to the features."
      ]
    },
    {
      "cell_type": "code",
      "execution_count": null,
      "metadata": {
        "id": "hIELwIPV7YYa",
        "outputId": "7e53d270-c6e6-489a-b1b1-24346d897587"
      },
      "outputs": [
        {
          "name": "stdout",
          "output_type": "stream",
          "text": [
            "MI scores for all variables of X:\n",
            "ExDiff 1.0253407230892182\n",
            "NetSpendDiff 1.0206176221571792\n",
            "ELODiff 0.0879443046056596\n",
            "LastNPointsDiff 0.017948494412272087\n",
            "Away travel distance 0.011818429063986002\n",
            "RcardDiff 0.007425110834361925\n",
            "YcardDiff 0.005092392142549196\n",
            "FoulsDiff 0.0\n",
            "FatiDiff 0.0\n",
            "thresholdMIscore: 0.011818429063986002\n",
            "Number of remaining features: 5\n"
          ]
        }
      ],
      "source": [
        "# labellling discrete features\n",
        "discrete = [0,0,1,0,0,0,0,0,0,0]\n",
        "\n",
        "# calculating scores which represent the correlation between each feature and target value\n",
        "MIscores = mutual_info_classif(X,Y,random_state=1,discrete_features=discrete)\n",
        "thresholdMIscore = np.percentile(MIscores,50) # choose the 5 highest correlated features\n",
        "\n",
        "# display scores more clearly\n",
        "sortedMIscores = sorted(zip(MIscores,list(X)),reverse=True)\n",
        "\n",
        "# show list of scores, removing those that do not meet the threshold\n",
        "print('MI scores for all variables of X:')\n",
        "for score, fname in sortedMIscores:\n",
        "    print(fname,score)\n",
        "    if score < thresholdMIscore:\n",
        "        X = X.drop(fname,axis=1)\n",
        "\n",
        "print('thresholdMIscore:',thresholdMIscore)\n",
        "_,n_features = X.shape\n",
        "print('Number of remaining features:',n_features)"
      ]
    },
    {
      "cell_type": "markdown",
      "metadata": {
        "id": "9hNNFP-97YYa"
      },
      "source": [
        "After the feature selection process, the remaining features are: difference in expenses, difference in net spending, difference in ELO rating, difference in last N points and away distance travelled."
      ]
    },
    {
      "cell_type": "markdown",
      "metadata": {
        "id": "pqUz0Pv5JEg4"
      },
      "source": [
        "# Classification Models\n",
        "Now, we use all our selected features to build our classification model. The process is the same as how we built our regression model which is:\n",
        "1. Train several models using different algorithms\n",
        "2. Validate models using K-fold cross validation\n",
        "3. Tune hyperparameters of relevant algorithms\n",
        "4. Evaluate and select the best performing model\n",
        "\n",
        "However, different evaluation metrics are used for classification. They are:\n",
        "- Accuracy\n",
        "- F1 score\n",
        "- Precision\n",
        "- Recall"
      ]
    },
    {
      "cell_type": "code",
      "execution_count": null,
      "metadata": {
        "id": "2BZLtnf97YYa"
      },
      "outputs": [],
      "source": [
        "# splitting data to training and testing\n",
        "X_train, X_test, Y_train, Y_test = train_test_split(X, Y, test_size = 0.2, random_state=42)\n",
        "\n",
        "# standardise\n",
        "X_train_scale = scaler.fit_transform(X_train)\n",
        "X_test_scale = scaler.transform(X_test)"
      ]
    },
    {
      "cell_type": "markdown",
      "metadata": {
        "id": "lTKx4QK27YYa"
      },
      "source": [
        "## Naive Bayes"
      ]
    },
    {
      "cell_type": "code",
      "execution_count": null,
      "metadata": {
        "id": "_oU9vrh4KFEF",
        "outputId": "7f2dfdd6-a546-4227-b6c8-b831243928f9"
      },
      "outputs": [
        {
          "name": "stdout",
          "output_type": "stream",
          "text": [
            "accuracy of naive bayes for testing set is: 0.4486772486772487\n",
            "accuracy of naive bayes for training set is: 0.45897300158814186\n",
            "difference in accuracy for naive bayes is: 0.010295752910893186\n",
            "              precision    recall  f1-score   support\n",
            "\n",
            "           A       0.02      0.55      0.04        11\n",
            "           D       0.00      0.00      0.00         0\n",
            "           H       1.00      0.45      0.62       934\n",
            "\n",
            "    accuracy                           0.45       945\n",
            "   macro avg       0.34      0.33      0.22       945\n",
            "weighted avg       0.99      0.45      0.61       945\n",
            "\n"
          ]
        },
        {
          "name": "stderr",
          "output_type": "stream",
          "text": [
            "C:\\Users\\Jia Yi\\anaconda3\\lib\\site-packages\\sklearn\\metrics\\_classification.py:1221: UndefinedMetricWarning: Recall and F-score are ill-defined and being set to 0.0 in labels with no true samples. Use `zero_division` parameter to control this behavior.\n",
            "  _warn_prf(average, modifier, msg_start, len(result))\n"
          ]
        }
      ],
      "source": [
        "# create a base model\n",
        "nb = GaussianNB()\n",
        "\n",
        "# fit\n",
        "nb.fit(X_train_scale, Y_train)\n",
        "\n",
        "# predict\n",
        "y_nb_train = nb.predict(X_train) #prediction\n",
        "y_nb_test = nb.predict(X_test)\n",
        "\n",
        "# evaluate\n",
        "acc_nb_test = accuracy_score(Y_test,y_nb_test)\n",
        "acc_nb_train = accuracy_score(Y_train,y_nb_train)\n",
        "acc_nb_diff = acc_nb_train - acc_nb_test\n",
        "\n",
        "print('accuracy of naive bayes for testing set is:',acc_nb_test)\n",
        "print('accuracy of naive bayes for training set is:',acc_nb_train)\n",
        "print('difference in accuracy for naive bayes is:',acc_nb_diff)\n",
        "print(metrics.classification_report(y_nb_test,Y_test))"
      ]
    },
    {
      "cell_type": "code",
      "execution_count": null,
      "metadata": {
        "id": "gxVN_MPR7YYa",
        "outputId": "46ecf1dc-a267-483f-871e-975f49a53026"
      },
      "outputs": [
        {
          "name": "stdout",
          "output_type": "stream",
          "text": [
            "Nested Cross Validation mean test score: 0.5119086162794773\n"
          ]
        }
      ],
      "source": [
        "# cross validation\n",
        "nb_cv = cross_val_score(nb, X=X_train_scale, y=Y_train, cv=5, scoring='accuracy')\n",
        "nb_err = nb_cv.mean()\n",
        "print('Nested Cross Validation mean test score:',nb_err)"
      ]
    },
    {
      "cell_type": "markdown",
      "metadata": {
        "id": "dWOEHx6K7YYa"
      },
      "source": [
        "Since the cross validation mean test score is much larger than our validation test score, we choose to use the cross validation mean test score."
      ]
    },
    {
      "cell_type": "markdown",
      "metadata": {
        "id": "LfgBAeU57YYa"
      },
      "source": [
        "## Logistic Regression"
      ]
    },
    {
      "cell_type": "code",
      "execution_count": null,
      "metadata": {
        "id": "mbFsXYtLKFbK",
        "outputId": "4e50ede4-d4ea-4671-915c-cd56e6c7ea7b"
      },
      "outputs": [
        {
          "name": "stdout",
          "output_type": "stream",
          "text": [
            "Fitting 5 folds for each of 4 candidates, totalling 20 fits\n",
            "[CV] class_weight=balanced, penalty=l2, solver=lbfgs .................\n",
            "[CV]  class_weight=balanced, penalty=l2, solver=lbfgs, score=0.635, total=   0.0s\n",
            "[CV] class_weight=balanced, penalty=l2, solver=lbfgs .................\n",
            "[CV]  class_weight=balanced, penalty=l2, solver=lbfgs, score=0.677, total=   0.0s\n",
            "[CV] class_weight=balanced, penalty=l2, solver=lbfgs .................\n",
            "[CV]  class_weight=balanced, penalty=l2, solver=lbfgs, score=0.598, total=   0.0s\n",
            "[CV] class_weight=balanced, penalty=l2, solver=lbfgs .................\n",
            "[CV]  class_weight=balanced, penalty=l2, solver=lbfgs, score=0.612, total=   0.0s\n",
            "[CV] class_weight=balanced, penalty=l2, solver=lbfgs .................\n",
            "[CV]  class_weight=balanced, penalty=l2, solver=lbfgs, score=0.621, total=   0.0s\n",
            "[CV] class_weight=None, penalty=l2, solver=lbfgs .....................\n",
            "[CV]  class_weight=None, penalty=l2, solver=lbfgs, score=0.657, total=   0.0s\n",
            "[CV] class_weight=None, penalty=l2, solver=lbfgs .....................\n",
            "[CV]  class_weight=None, penalty=l2, solver=lbfgs, score=0.661, total=   0.0s\n",
            "[CV] class_weight=None, penalty=l2, solver=lbfgs .....................\n"
          ]
        },
        {
          "name": "stderr",
          "output_type": "stream",
          "text": [
            "[Parallel(n_jobs=1)]: Using backend SequentialBackend with 1 concurrent workers.\n",
            "[Parallel(n_jobs=1)]: Done   1 out of   1 | elapsed:    0.0s remaining:    0.0s\n",
            "[Parallel(n_jobs=1)]: Done   2 out of   2 | elapsed:    0.0s remaining:    0.0s\n"
          ]
        },
        {
          "name": "stdout",
          "output_type": "stream",
          "text": [
            "[CV]  class_weight=None, penalty=l2, solver=lbfgs, score=0.648, total=   0.0s\n",
            "[CV] class_weight=None, penalty=l2, solver=lbfgs .....................\n",
            "[CV]  class_weight=None, penalty=l2, solver=lbfgs, score=0.653, total=   0.0s\n",
            "[CV] class_weight=None, penalty=l2, solver=lbfgs .....................\n",
            "[CV]  class_weight=None, penalty=l2, solver=lbfgs, score=0.628, total=   0.0s\n",
            "[CV] C=<scipy.stats._distn_infrastructure.rv_frozen object at 0x0000021766D0E370>, class_weight=balanced, penalty=l1, solver=saga \n",
            "[CV]  C=<scipy.stats._distn_infrastructure.rv_frozen object at 0x0000021766D0E370>, class_weight=balanced, penalty=l1, solver=saga, score=nan, total=   0.0s\n",
            "[CV] C=<scipy.stats._distn_infrastructure.rv_frozen object at 0x0000021766D0E370>, class_weight=balanced, penalty=l1, solver=saga \n",
            "[CV]  C=<scipy.stats._distn_infrastructure.rv_frozen object at 0x0000021766D0E370>, class_weight=balanced, penalty=l1, solver=saga, score=nan, total=   0.0s\n",
            "[CV] C=<scipy.stats._distn_infrastructure.rv_frozen object at 0x0000021766D0E370>, class_weight=balanced, penalty=l1, solver=saga \n",
            "[CV]  C=<scipy.stats._distn_infrastructure.rv_frozen object at 0x0000021766D0E370>, class_weight=balanced, penalty=l1, solver=saga, score=nan, total=   0.0s\n",
            "[CV] C=<scipy.stats._distn_infrastructure.rv_frozen object at 0x0000021766D0E370>, class_weight=balanced, penalty=l1, solver=saga \n",
            "[CV]  C=<scipy.stats._distn_infrastructure.rv_frozen object at 0x0000021766D0E370>, class_weight=balanced, penalty=l1, solver=saga, score=nan, total=   0.0s\n",
            "[CV] C=<scipy.stats._distn_infrastructure.rv_frozen object at 0x0000021766D0E370>, class_weight=balanced, penalty=l1, solver=saga \n",
            "[CV]  C=<scipy.stats._distn_infrastructure.rv_frozen object at 0x0000021766D0E370>, class_weight=balanced, penalty=l1, solver=saga, score=nan, total=   0.0s\n",
            "[CV] C=<scipy.stats._distn_infrastructure.rv_frozen object at 0x0000021766D0E370>, class_weight=None, penalty=l1, solver=saga \n",
            "[CV]  C=<scipy.stats._distn_infrastructure.rv_frozen object at 0x0000021766D0E370>, class_weight=None, penalty=l1, solver=saga, score=nan, total=   0.0s\n",
            "[CV] C=<scipy.stats._distn_infrastructure.rv_frozen object at 0x0000021766D0E370>, class_weight=None, penalty=l1, solver=saga \n",
            "[CV]  C=<scipy.stats._distn_infrastructure.rv_frozen object at 0x0000021766D0E370>, class_weight=None, penalty=l1, solver=saga, score=nan, total=   0.0s\n",
            "[CV] C=<scipy.stats._distn_infrastructure.rv_frozen object at 0x0000021766D0E370>, class_weight=None, penalty=l1, solver=saga \n",
            "[CV]  C=<scipy.stats._distn_infrastructure.rv_frozen object at 0x0000021766D0E370>, class_weight=None, penalty=l1, solver=saga, score=nan, total=   0.0s\n",
            "[CV] C=<scipy.stats._distn_infrastructure.rv_frozen object at 0x0000021766D0E370>, class_weight=None, penalty=l1, solver=saga \n",
            "[CV]  C=<scipy.stats._distn_infrastructure.rv_frozen object at 0x0000021766D0E370>, class_weight=None, penalty=l1, solver=saga, score=nan, total=   0.0s\n",
            "[CV] C=<scipy.stats._distn_infrastructure.rv_frozen object at 0x0000021766D0E370>, class_weight=None, penalty=l1, solver=saga \n",
            "[CV]  C=<scipy.stats._distn_infrastructure.rv_frozen object at 0x0000021766D0E370>, class_weight=None, penalty=l1, solver=saga, score=nan, total=   0.0s\n",
            "The best score for LOR is: 0.6495451837835944\n",
            "The best parametesr for LOR are: LogisticRegression()\n",
            "accuracy of lor for training set: 0.6498147167813658\n",
            "accuracy of lor for testing set: 0.6571428571428571\n",
            "diff in accuracy for lor: -0.00732814036149132\n",
            "              precision    recall  f1-score   support\n",
            "\n",
            "           A       0.75      0.72      0.74       301\n",
            "           D       0.14      0.49      0.22        68\n",
            "           H       0.88      0.64      0.74       576\n",
            "\n",
            "    accuracy                           0.66       945\n",
            "   macro avg       0.59      0.62      0.57       945\n",
            "weighted avg       0.79      0.66      0.70       945\n",
            "\n"
          ]
        },
        {
          "name": "stderr",
          "output_type": "stream",
          "text": [
            "C:\\Users\\Jia Yi\\anaconda3\\lib\\site-packages\\sklearn\\model_selection\\_validation.py:548: FitFailedWarning: Estimator fit failed. The score on this train-test partition for these parameters will be set to nan. Details: \n",
            "Traceback (most recent call last):\n",
            "  File \"C:\\Users\\Jia Yi\\anaconda3\\lib\\site-packages\\sklearn\\model_selection\\_validation.py\", line 531, in _fit_and_score\n",
            "    estimator.fit(X_train, y_train, **fit_params)\n",
            "  File \"C:\\Users\\Jia Yi\\anaconda3\\lib\\site-packages\\sklearn\\linear_model\\_logistic.py\", line 1307, in fit\n",
            "    raise ValueError(\"Penalty term must be positive; got (C=%r)\"\n",
            "ValueError: Penalty term must be positive; got (C=<scipy.stats._distn_infrastructure.rv_frozen object at 0x0000021775E73070>)\n",
            "\n",
            "  warnings.warn(\"Estimator fit failed. The score on this train-test\"\n",
            "C:\\Users\\Jia Yi\\anaconda3\\lib\\site-packages\\sklearn\\model_selection\\_validation.py:548: FitFailedWarning: Estimator fit failed. The score on this train-test partition for these parameters will be set to nan. Details: \n",
            "Traceback (most recent call last):\n",
            "  File \"C:\\Users\\Jia Yi\\anaconda3\\lib\\site-packages\\sklearn\\model_selection\\_validation.py\", line 531, in _fit_and_score\n",
            "    estimator.fit(X_train, y_train, **fit_params)\n",
            "  File \"C:\\Users\\Jia Yi\\anaconda3\\lib\\site-packages\\sklearn\\linear_model\\_logistic.py\", line 1307, in fit\n",
            "    raise ValueError(\"Penalty term must be positive; got (C=%r)\"\n",
            "ValueError: Penalty term must be positive; got (C=<scipy.stats._distn_infrastructure.rv_frozen object at 0x0000021775F213D0>)\n",
            "\n",
            "  warnings.warn(\"Estimator fit failed. The score on this train-test\"\n",
            "C:\\Users\\Jia Yi\\anaconda3\\lib\\site-packages\\sklearn\\model_selection\\_validation.py:548: FitFailedWarning: Estimator fit failed. The score on this train-test partition for these parameters will be set to nan. Details: \n",
            "Traceback (most recent call last):\n",
            "  File \"C:\\Users\\Jia Yi\\anaconda3\\lib\\site-packages\\sklearn\\model_selection\\_validation.py\", line 531, in _fit_and_score\n",
            "    estimator.fit(X_train, y_train, **fit_params)\n",
            "  File \"C:\\Users\\Jia Yi\\anaconda3\\lib\\site-packages\\sklearn\\linear_model\\_logistic.py\", line 1307, in fit\n",
            "    raise ValueError(\"Penalty term must be positive; got (C=%r)\"\n",
            "ValueError: Penalty term must be positive; got (C=<scipy.stats._distn_infrastructure.rv_frozen object at 0x0000021766C03250>)\n",
            "\n",
            "  warnings.warn(\"Estimator fit failed. The score on this train-test\"\n",
            "C:\\Users\\Jia Yi\\anaconda3\\lib\\site-packages\\sklearn\\model_selection\\_validation.py:548: FitFailedWarning: Estimator fit failed. The score on this train-test partition for these parameters will be set to nan. Details: \n",
            "Traceback (most recent call last):\n",
            "  File \"C:\\Users\\Jia Yi\\anaconda3\\lib\\site-packages\\sklearn\\model_selection\\_validation.py\", line 531, in _fit_and_score\n",
            "    estimator.fit(X_train, y_train, **fit_params)\n",
            "  File \"C:\\Users\\Jia Yi\\anaconda3\\lib\\site-packages\\sklearn\\linear_model\\_logistic.py\", line 1307, in fit\n",
            "    raise ValueError(\"Penalty term must be positive; got (C=%r)\"\n",
            "ValueError: Penalty term must be positive; got (C=<scipy.stats._distn_infrastructure.rv_frozen object at 0x0000021775F01A60>)\n",
            "\n",
            "  warnings.warn(\"Estimator fit failed. The score on this train-test\"\n",
            "C:\\Users\\Jia Yi\\anaconda3\\lib\\site-packages\\sklearn\\model_selection\\_validation.py:548: FitFailedWarning: Estimator fit failed. The score on this train-test partition for these parameters will be set to nan. Details: \n",
            "Traceback (most recent call last):\n",
            "  File \"C:\\Users\\Jia Yi\\anaconda3\\lib\\site-packages\\sklearn\\model_selection\\_validation.py\", line 531, in _fit_and_score\n",
            "    estimator.fit(X_train, y_train, **fit_params)\n",
            "  File \"C:\\Users\\Jia Yi\\anaconda3\\lib\\site-packages\\sklearn\\linear_model\\_logistic.py\", line 1307, in fit\n",
            "    raise ValueError(\"Penalty term must be positive; got (C=%r)\"\n",
            "ValueError: Penalty term must be positive; got (C=<scipy.stats._distn_infrastructure.rv_frozen object at 0x0000021775F01280>)\n",
            "\n",
            "  warnings.warn(\"Estimator fit failed. The score on this train-test\"\n",
            "C:\\Users\\Jia Yi\\anaconda3\\lib\\site-packages\\sklearn\\model_selection\\_validation.py:548: FitFailedWarning: Estimator fit failed. The score on this train-test partition for these parameters will be set to nan. Details: \n",
            "Traceback (most recent call last):\n",
            "  File \"C:\\Users\\Jia Yi\\anaconda3\\lib\\site-packages\\sklearn\\model_selection\\_validation.py\", line 531, in _fit_and_score\n",
            "    estimator.fit(X_train, y_train, **fit_params)\n",
            "  File \"C:\\Users\\Jia Yi\\anaconda3\\lib\\site-packages\\sklearn\\linear_model\\_logistic.py\", line 1307, in fit\n",
            "    raise ValueError(\"Penalty term must be positive; got (C=%r)\"\n",
            "ValueError: Penalty term must be positive; got (C=<scipy.stats._distn_infrastructure.rv_frozen object at 0x0000021775EEDEE0>)\n",
            "\n",
            "  warnings.warn(\"Estimator fit failed. The score on this train-test\"\n",
            "C:\\Users\\Jia Yi\\anaconda3\\lib\\site-packages\\sklearn\\model_selection\\_validation.py:548: FitFailedWarning: Estimator fit failed. The score on this train-test partition for these parameters will be set to nan. Details: \n",
            "Traceback (most recent call last):\n",
            "  File \"C:\\Users\\Jia Yi\\anaconda3\\lib\\site-packages\\sklearn\\model_selection\\_validation.py\", line 531, in _fit_and_score\n",
            "    estimator.fit(X_train, y_train, **fit_params)\n",
            "  File \"C:\\Users\\Jia Yi\\anaconda3\\lib\\site-packages\\sklearn\\linear_model\\_logistic.py\", line 1307, in fit\n",
            "    raise ValueError(\"Penalty term must be positive; got (C=%r)\"\n",
            "ValueError: Penalty term must be positive; got (C=<scipy.stats._distn_infrastructure.rv_frozen object at 0x0000021775EED5E0>)\n",
            "\n",
            "  warnings.warn(\"Estimator fit failed. The score on this train-test\"\n",
            "C:\\Users\\Jia Yi\\anaconda3\\lib\\site-packages\\sklearn\\model_selection\\_validation.py:548: FitFailedWarning: Estimator fit failed. The score on this train-test partition for these parameters will be set to nan. Details: \n",
            "Traceback (most recent call last):\n",
            "  File \"C:\\Users\\Jia Yi\\anaconda3\\lib\\site-packages\\sklearn\\model_selection\\_validation.py\", line 531, in _fit_and_score\n",
            "    estimator.fit(X_train, y_train, **fit_params)\n",
            "  File \"C:\\Users\\Jia Yi\\anaconda3\\lib\\site-packages\\sklearn\\linear_model\\_logistic.py\", line 1307, in fit\n",
            "    raise ValueError(\"Penalty term must be positive; got (C=%r)\"\n",
            "ValueError: Penalty term must be positive; got (C=<scipy.stats._distn_infrastructure.rv_frozen object at 0x0000021775F011C0>)\n",
            "\n",
            "  warnings.warn(\"Estimator fit failed. The score on this train-test\"\n",
            "C:\\Users\\Jia Yi\\anaconda3\\lib\\site-packages\\sklearn\\model_selection\\_validation.py:548: FitFailedWarning: Estimator fit failed. The score on this train-test partition for these parameters will be set to nan. Details: \n",
            "Traceback (most recent call last):\n",
            "  File \"C:\\Users\\Jia Yi\\anaconda3\\lib\\site-packages\\sklearn\\model_selection\\_validation.py\", line 531, in _fit_and_score\n",
            "    estimator.fit(X_train, y_train, **fit_params)\n",
            "  File \"C:\\Users\\Jia Yi\\anaconda3\\lib\\site-packages\\sklearn\\linear_model\\_logistic.py\", line 1307, in fit\n",
            "    raise ValueError(\"Penalty term must be positive; got (C=%r)\"\n",
            "ValueError: Penalty term must be positive; got (C=<scipy.stats._distn_infrastructure.rv_frozen object at 0x0000021776B23100>)\n",
            "\n",
            "  warnings.warn(\"Estimator fit failed. The score on this train-test\"\n",
            "C:\\Users\\Jia Yi\\anaconda3\\lib\\site-packages\\sklearn\\model_selection\\_validation.py:548: FitFailedWarning: Estimator fit failed. The score on this train-test partition for these parameters will be set to nan. Details: \n",
            "Traceback (most recent call last):\n",
            "  File \"C:\\Users\\Jia Yi\\anaconda3\\lib\\site-packages\\sklearn\\model_selection\\_validation.py\", line 531, in _fit_and_score\n",
            "    estimator.fit(X_train, y_train, **fit_params)\n",
            "  File \"C:\\Users\\Jia Yi\\anaconda3\\lib\\site-packages\\sklearn\\linear_model\\_logistic.py\", line 1307, in fit\n",
            "    raise ValueError(\"Penalty term must be positive; got (C=%r)\"\n",
            "ValueError: Penalty term must be positive; got (C=<scipy.stats._distn_infrastructure.rv_frozen object at 0x0000021776B23850>)\n",
            "\n",
            "  warnings.warn(\"Estimator fit failed. The score on this train-test\"\n",
            "[Parallel(n_jobs=1)]: Done  20 out of  20 | elapsed:    0.2s finished\n"
          ]
        }
      ],
      "source": [
        "# set parameter grid\n",
        "paramgrid_lor = [\n",
        "    {'penalty' : ['l2'],\n",
        "    'solver' : ['lbfgs'],\n",
        "    'class_weight' : ['balanced',None]},\n",
        "    {'penalty' : ['l1'],\n",
        "    'C' : [expon(scale=100)],\n",
        "    'solver' : ['saga'],\n",
        "    'class_weight' : ['balanced',None]}\n",
        "]\n",
        "\n",
        "# instantiate grid search\n",
        "grid_lor = GridSearchCV(LogisticRegression(),paramgrid_lor,cv=5,verbose=3,scoring='accuracy')\n",
        "\n",
        "# fit grid search model\n",
        "grid_lor.fit(X_train_scale, Y_train)\n",
        "\n",
        "# check the best hyperparameters and best test score\n",
        "print('The best score for LOR is:',grid_lor.best_score_)\n",
        "print('The best parametesr for LOR are:',grid_lor.best_estimator_)\n",
        "\n",
        "\n",
        "# build final model with the best hyperparameters\n",
        "lor_model = grid_lor.best_estimator_\n",
        "\n",
        "# fit final model\n",
        "lor_fit = lor_model.fit(X_train_scale,Y_train)\n",
        "\n",
        "# predict\n",
        "y_lor_train = lor_fit.predict(X_train_scale)\n",
        "y_lor_test = lor_fit.predict(X_test_scale)\n",
        "\n",
        "# evaluate\n",
        "acc_lor_train =accuracy_score(Y_train,y_lor_train)\n",
        "acc_lor_test = accuracy_score(Y_test,y_lor_test)\n",
        "acc_lor_diff = acc_lor_train - acc_lor_test\n",
        "\n",
        "print('accuracy of lor for training set:',acc_lor_train)\n",
        "print('accuracy of lor for testing set:',acc_lor_test)\n",
        "print('diff in accuracy for lor:',acc_lor_diff)\n",
        "print(metrics.classification_report(y_lor_test,Y_test))"
      ]
    },
    {
      "cell_type": "markdown",
      "metadata": {
        "id": "C0DNx0F67YYa"
      },
      "source": [
        "## Quadratic Discriminant Analysis"
      ]
    },
    {
      "cell_type": "code",
      "execution_count": null,
      "metadata": {
        "id": "-6tk0UDhKFsc",
        "outputId": "09e0914d-6e9e-4549-9e9a-2813c3cdd3c0"
      },
      "outputs": [
        {
          "name": "stdout",
          "output_type": "stream",
          "text": [
            "Fitting 5 folds for each of 5 candidates, totalling 25 fits\n",
            "[CV] reg_param=0.1 ...................................................\n",
            "[CV] ....................... reg_param=0.1, score=0.656, total=   0.0s\n",
            "[CV] reg_param=0.1 ...................................................\n",
            "[CV] ....................... reg_param=0.1, score=0.665, total=   0.0s\n",
            "[CV] reg_param=0.1 ...................................................\n",
            "[CV] ....................... reg_param=0.1, score=0.638, total=   0.0s\n",
            "[CV] reg_param=0.1 ...................................................\n",
            "[CV] ....................... reg_param=0.1, score=0.620, total=   0.0s\n",
            "[CV] reg_param=0.1 ...................................................\n",
            "[CV] ....................... reg_param=0.1, score=0.630, total=   0.0s\n",
            "[CV] reg_param=0.2 ...................................................\n",
            "[CV] ....................... reg_param=0.2, score=0.659, total=   0.0s\n",
            "[CV] reg_param=0.2 ...................................................\n",
            "[CV] ....................... reg_param=0.2, score=0.680, total=   0.0s\n",
            "[CV] reg_param=0.2 ...................................................\n",
            "[CV] ....................... reg_param=0.2, score=0.643, total=   0.0s\n",
            "[CV] reg_param=0.2 ...................................................\n",
            "[CV] ....................... reg_param=0.2, score=0.628, total=   0.0s\n",
            "[CV] reg_param=0.2 ...................................................\n",
            "[CV] ....................... reg_param=0.2, score=0.624, total=   0.0s\n",
            "[CV] reg_param=0.3 ...................................................\n",
            "[CV] ....................... reg_param=0.3, score=0.665, total=   0.0s\n",
            "[CV] reg_param=0.3 ...................................................\n",
            "[CV] ....................... reg_param=0.3, score=0.672, total=   0.0s\n",
            "[CV] reg_param=0.3 ...................................................\n",
            "[CV] ....................... reg_param=0.3, score=0.649, total=   0.0s\n",
            "[CV] reg_param=0.3 ...................................................\n",
            "[CV] ....................... reg_param=0.3, score=0.632, total=   0.0s\n",
            "[CV] reg_param=0.3 ...................................................\n",
            "[CV] ....................... reg_param=0.3, score=0.623, total=   0.0s\n",
            "[CV] reg_param=0.4 ...................................................\n",
            "[CV] ....................... reg_param=0.4, score=0.649, total=   0.0s\n",
            "[CV] reg_param=0.4 ...................................................\n",
            "[CV] ....................... reg_param=0.4, score=0.677, total=   0.0s\n",
            "[CV] reg_param=0.4 ...................................................\n",
            "[CV] ....................... reg_param=0.4, score=0.649, total=   0.0s\n",
            "[CV] reg_param=0.4 ...................................................\n",
            "[CV] ....................... reg_param=0.4, score=0.633, total=   0.0s\n",
            "[CV] reg_param=0.4 ...................................................\n",
            "[CV] ....................... reg_param=0.4, score=0.624, total=   0.0s\n",
            "[CV] reg_param=0.5 ...................................................\n",
            "[CV] ....................... reg_param=0.5, score=0.649, total=   0.0s\n",
            "[CV] reg_param=0.5 ...................................................\n",
            "[CV] ....................... reg_param=0.5, score=0.677, total=   0.0s\n",
            "[CV] reg_param=0.5 ...................................................\n"
          ]
        },
        {
          "name": "stderr",
          "output_type": "stream",
          "text": [
            "[Parallel(n_jobs=1)]: Using backend SequentialBackend with 1 concurrent workers.\n",
            "[Parallel(n_jobs=1)]: Done   1 out of   1 | elapsed:    0.0s remaining:    0.0s\n",
            "[Parallel(n_jobs=1)]: Done   2 out of   2 | elapsed:    0.0s remaining:    0.0s\n"
          ]
        },
        {
          "name": "stdout",
          "output_type": "stream",
          "text": [
            "[CV] ....................... reg_param=0.5, score=0.644, total=   0.0s\n",
            "[CV] reg_param=0.5 ...................................................\n",
            "[CV] ....................... reg_param=0.5, score=0.633, total=   0.0s\n",
            "[CV] reg_param=0.5 ...................................................\n",
            "[CV] ....................... reg_param=0.5, score=0.621, total=   0.0s\n",
            "The best score for QDA is: 0.6482154245068152\n",
            "The best parametesr for QDA are: QuadraticDiscriminantAnalysis(reg_param=0.3)\n",
            "accuracy of QDA for training set: 0.6543144520910534\n",
            "accuracy of QDA for testing set: 0.6582010582010582\n",
            "diff in accuracy for QDA: -0.0038866061100047977\n",
            "              precision    recall  f1-score   support\n",
            "\n",
            "           A       0.74      0.74      0.74       292\n",
            "           D       0.24      0.42      0.31       139\n",
            "           H       0.83      0.68      0.75       514\n",
            "\n",
            "    accuracy                           0.66       945\n",
            "   macro avg       0.61      0.61      0.60       945\n",
            "weighted avg       0.72      0.66      0.68       945\n",
            "\n"
          ]
        },
        {
          "name": "stderr",
          "output_type": "stream",
          "text": [
            "[Parallel(n_jobs=1)]: Done  25 out of  25 | elapsed:    0.1s finished\n"
          ]
        }
      ],
      "source": [
        "# set parameter grid\n",
        "paramgrid_qda =[{'reg_param':[0.1,0.2,0.3,0.4,0.5]}]\n",
        "\n",
        "# instantiate grid search\n",
        "grid_qda = GridSearchCV(QDA(),paramgrid_qda,cv=5,verbose=3,scoring='accuracy')\n",
        "\n",
        "# fit grid search model\n",
        "grid_qda.fit(X_train_scale,Y_train)\n",
        "\n",
        "# check the best hyperparameters and best test score\n",
        "print('The best score for QDA is:',grid_qda.best_score_)\n",
        "print('The best parametesr for QDA are:',grid_qda.best_estimator_)\n",
        "\n",
        "# build final model\n",
        "qda_model = grid_qda.best_estimator_\n",
        "\n",
        "# fit final model\n",
        "qda_fit = qda_model.fit(X_train_scale,Y_train)\n",
        "\n",
        "# predict\n",
        "y_qda_train = qda_fit.predict(X_train_scale)\n",
        "y_qda_test = qda_fit.predict(X_test_scale)\n",
        "\n",
        "# evaluate\n",
        "acc_qda_train =accuracy_score(Y_train,y_qda_train)\n",
        "acc_qda_test = accuracy_score(Y_test,y_qda_test)\n",
        "acc_qda_diff = acc_qda_train - acc_qda_test\n",
        "\n",
        "print('accuracy of QDA for training set:',acc_qda_train)\n",
        "print('accuracy of QDA for testing set:',acc_qda_test)\n",
        "print('diff in accuracy for QDA:',acc_qda_diff)\n",
        "print(metrics.classification_report(y_qda_test,Y_test))"
      ]
    },
    {
      "cell_type": "markdown",
      "metadata": {
        "id": "M1ZsNcQB7YYa"
      },
      "source": [
        "## Linear Discriminant Analysis"
      ]
    },
    {
      "cell_type": "code",
      "execution_count": null,
      "metadata": {
        "id": "EtSIwA0EKFzD",
        "outputId": "2e8fbead-4242-40f6-95f7-1f6ba59cdee3"
      },
      "outputs": [
        {
          "name": "stdout",
          "output_type": "stream",
          "text": [
            "Fitting 5 folds for each of 3 candidates, totalling 15 fits\n",
            "[CV] solver=svd ......................................................\n",
            "[CV] .......................... solver=svd, score=0.656, total=   0.0s\n",
            "[CV] solver=svd ......................................................\n",
            "[CV] .......................... solver=svd, score=0.663, total=   0.0s\n",
            "[CV] solver=svd ......................................................\n",
            "[CV] .......................... solver=svd, score=0.649, total=   0.0s\n",
            "[CV] solver=svd ......................................................\n",
            "[CV] .......................... solver=svd, score=0.653, total=   0.0s\n",
            "[CV] solver=svd ......................................................\n",
            "[CV] .......................... solver=svd, score=0.629, total=   0.0s\n",
            "[CV] solver=lsqr .....................................................\n",
            "[CV] ......................... solver=lsqr, score=0.656, total=   0.0s\n",
            "[CV] solver=lsqr .....................................................\n",
            "[CV] ......................... solver=lsqr, score=0.663, total=   0.0s\n",
            "[CV] solver=lsqr .....................................................\n",
            "[CV] ......................... solver=lsqr, score=0.649, total=   0.0s\n",
            "[CV] solver=lsqr .....................................................\n",
            "[CV] ......................... solver=lsqr, score=0.653, total=   0.0s\n",
            "[CV] solver=lsqr .....................................................\n",
            "[CV] ......................... solver=lsqr, score=0.629, total=   0.0s\n",
            "[CV] solver=eigen ....................................................\n",
            "[CV] ........................ solver=eigen, score=0.656, total=   0.0s\n",
            "[CV] solver=eigen ....................................................\n",
            "[CV] ........................ solver=eigen, score=0.663, total=   0.0s\n",
            "[CV] solver=eigen ....................................................\n",
            "[CV] ........................ solver=eigen, score=0.649, total=   0.0s\n",
            "[CV] solver=eigen ....................................................\n",
            "[CV] ........................ solver=eigen, score=0.653, total=   0.0s\n",
            "[CV] solver=eigen ....................................................\n",
            "[CV] ........................ solver=eigen, score=0.629, total=   0.0s\n"
          ]
        },
        {
          "name": "stderr",
          "output_type": "stream",
          "text": [
            "[Parallel(n_jobs=1)]: Using backend SequentialBackend with 1 concurrent workers.\n",
            "[Parallel(n_jobs=1)]: Done   1 out of   1 | elapsed:    0.0s remaining:    0.0s\n",
            "[Parallel(n_jobs=1)]: Done   2 out of   2 | elapsed:    0.0s remaining:    0.0s\n",
            "[Parallel(n_jobs=1)]: Done  15 out of  15 | elapsed:    0.1s finished\n"
          ]
        },
        {
          "name": "stdout",
          "output_type": "stream",
          "text": [
            "The best score for LDA is: 0.6500746347103963\n",
            "The best parametesr for LDA are: LinearDiscriminantAnalysis()\n",
            "accuracy of LDA for training set: 0.6503440974060349\n",
            "accuracy of LDA for testing set: 0.6645502645502646\n",
            "diff in accuracy for LDA: -0.01420616714422962\n",
            "              precision    recall  f1-score   support\n",
            "\n",
            "           A       0.75      0.75      0.75       290\n",
            "           D       0.18      0.51      0.26        83\n",
            "           H       0.88      0.65      0.74       572\n",
            "\n",
            "    accuracy                           0.66       945\n",
            "   macro avg       0.60      0.63      0.59       945\n",
            "weighted avg       0.78      0.66      0.70       945\n",
            "\n"
          ]
        }
      ],
      "source": [
        "# set parameter grid\n",
        "paramgrid_lda =[{'solver':['svd','lsqr','eigen']}]\n",
        "\n",
        "# instantiate grid search\n",
        "grid_lda = GridSearchCV(LDA(),paramgrid_lda,cv=5,verbose=3,scoring='accuracy')\n",
        "\n",
        "# fit grid search model\n",
        "grid_lda.fit(X_train_scale,Y_train)\n",
        "\n",
        "# check the best hyperparameters and best test score\n",
        "print('The best score for LDA is:',grid_lda.best_score_)\n",
        "print('The best parametesr for LDA are:',grid_lda.best_estimator_)\n",
        "\n",
        "# build final model\n",
        "lda_model = grid_lda.best_estimator_\n",
        "\n",
        "# fit final model\n",
        "lda_fit = lda_model.fit(X_train_scale,Y_train)\n",
        "\n",
        "# predict\n",
        "y_lda_train = lda_fit.predict(X_train_scale)\n",
        "y_lda_test = lda_fit.predict(X_test_scale)\n",
        "\n",
        "# evaluate\n",
        "acc_lda_train =accuracy_score(Y_train,y_lda_train)\n",
        "acc_lda_test = accuracy_score(Y_test,y_lda_test)\n",
        "acc_lda_diff = acc_lda_train - acc_lda_test\n",
        "\n",
        "print('accuracy of LDA for training set:',acc_lda_train)\n",
        "print('accuracy of LDA for testing set:',acc_lda_test)\n",
        "print('diff in accuracy for LDA:',acc_lda_diff)\n",
        "print(metrics.classification_report(y_lda_test,Y_test))"
      ]
    },
    {
      "cell_type": "markdown",
      "metadata": {
        "id": "H88mZFEl7YYa"
      },
      "source": [
        "## Random Forest"
      ]
    },
    {
      "cell_type": "code",
      "execution_count": null,
      "metadata": {
        "id": "QSbNiHpQc_HZ",
        "outputId": "810f387c-735e-40ab-f795-e5be7984f6ea"
      },
      "outputs": [
        {
          "name": "stdout",
          "output_type": "stream",
          "text": [
            "Fitting 5 folds for each of 288 candidates, totalling 1440 fits\n"
          ]
        },
        {
          "name": "stderr",
          "output_type": "stream",
          "text": [
            "[Parallel(n_jobs=-1)]: Using backend LokyBackend with 12 concurrent workers.\n",
            "[Parallel(n_jobs=-1)]: Done  17 tasks      | elapsed:    9.8s\n",
            "[Parallel(n_jobs=-1)]: Done 138 tasks      | elapsed:   52.5s\n",
            "[Parallel(n_jobs=-1)]: Done 341 tasks      | elapsed:  2.2min\n",
            "[Parallel(n_jobs=-1)]: Done 624 tasks      | elapsed:  4.0min\n",
            "[Parallel(n_jobs=-1)]: Done 989 tasks      | elapsed:  6.5min\n",
            "[Parallel(n_jobs=-1)]: Done 1440 out of 1440 | elapsed:  9.5min finished\n"
          ]
        },
        {
          "name": "stdout",
          "output_type": "stream",
          "text": [
            "The best score for RFC is: 0.6466351308735414\n",
            "The best parameters for RFC are: RandomForestClassifier(max_depth=110, max_features=2, min_samples_leaf=5,\n",
            "                       min_samples_split=12, n_estimators=300)\n",
            "accuracy of rf for training set is:  0.8464796188459502\n",
            "accuracy of rf for testing set is:  0.6433862433862434\n",
            "accuracy difference for rf is:  0.20309337545970685\n",
            "              precision    recall  f1-score   support\n",
            "\n",
            "           A       0.71      0.76      0.73       271\n",
            "           D       0.26      0.40      0.31       151\n",
            "           H       0.82      0.65      0.73       523\n",
            "\n",
            "    accuracy                           0.64       945\n",
            "   macro avg       0.59      0.60      0.59       945\n",
            "weighted avg       0.70      0.64      0.66       945\n",
            "\n"
          ]
        }
      ],
      "source": [
        "# set parameter grid\n",
        "paramgrid_RF = {\n",
        "    'bootstrap': [True],\n",
        "    'max_depth': [90, 100, 110],\n",
        "    'max_features': [2, 3],\n",
        "    'min_samples_leaf': [4, 5],\n",
        "    'min_samples_split': [8, 10, 12],\n",
        "    'n_estimators': [200, 300, 1000]\n",
        "}\n",
        "\n",
        "# Create a base model\n",
        "rfc = RandomForestClassifier()\n",
        "\n",
        "# Instantiate the grid search model\n",
        "grid_rfc = GridSearchCV(estimator = rfc, param_grid = RF_paramgrid,\n",
        "                          cv = 5, n_jobs = -1, verbose = 2, scoring='accuracy')\n",
        "# Fit grid search model\n",
        "grid_rfc.fit(X_train_scale, Y_train)\n",
        "\n",
        "# check the best hyperparameters and best test scores\n",
        "print('The best score for RFC is:',grid_rfc.best_score_)\n",
        "print('The best parameters for RFC are:',grid_rfc.best_estimator_)\n",
        "\n",
        "# build final model\n",
        "rfc_model = grid_rfc.best_estimator_\n",
        "\n",
        "# fit final model\n",
        "rfc_fit = rfc_model.fit(X_train_scale,Y_train)\n",
        "\n",
        "# predict\n",
        "y_rfc_test = rfc_fit.predict(X_test_scale)\n",
        "y_rfc_train = rfc_fit.predict(X_train_scale)\n",
        "\n",
        "# evaluate\n",
        "acc_rfc_test = accuracy_score(Y_test,y_rfc_test)\n",
        "acc_rfc_train = accuracy_score(Y_train,y_rfc_train)\n",
        "acc_rfc_diff = acc_rfc_train - acc_rfc_test\n",
        "\n",
        "print('accuracy of rf for training set is: ',acc_rfc_train)\n",
        "print('accuracy of rf for testing set is: ',acc_rfc_test)\n",
        "print('accuracy difference for rf is: ',acc_rfc_diff)\n",
        "print(metrics.classification_report(y_rfc_test,Y_test))"
      ]
    },
    {
      "cell_type": "markdown",
      "metadata": {
        "id": "TbpqBNz47YYa"
      },
      "source": [
        "## Model Evaluation and Selection\n",
        "Now, we compare the performance of all our models based on accuracy and select the best performing one."
      ]
    },
    {
      "cell_type": "code",
      "execution_count": null,
      "metadata": {
        "id": "YNsqTqxqtd-c",
        "outputId": "dd04d0e7-6296-4ca0-e205-82c9e07c314e"
      },
      "outputs": [
        {
          "data": {
            "image/png": "[encoded data removed]",
            "text/plain": [
              "<Figure size 864x576 with 1 Axes>"
            ]
          },
          "metadata": {
            "needs_background": "light"
          },
          "output_type": "display_data"
        },
        {
          "data": {
            "text/plain": [
              "(<Figure size 864x576 with 1 Axes>,\n",
              " <AxesSubplot:xlabel='Classification Models', ylabel='Accuracy'>)"
            ]
          },
          "execution_count": 320,
          "metadata": {},
          "output_type": "execute_result"
        }
      ],
      "source": [
        "# function to produce a barplot visualising the training, testing and generalisation loss to aid our decision making\n",
        "def barplot(training, testing, diff,classes):\n",
        "    #width of bar\n",
        "    barwidth =  0.25\n",
        "    fig = plt.subplots(figsize = (12,8))\n",
        "\n",
        "    # position of bar on x axis\n",
        "    br1 = np.arange(len(training))\n",
        "    br2 = [x + barwidth for x in br1]\n",
        "    br3 = [x + barwidth for x in br2]\n",
        "\n",
        "    # make the plot\n",
        "    plt.bar(br1, training, color ='r', width = barwidth, edgecolor='grey',label='training')\n",
        "    plt.bar(br2, testing, color ='g', width = barwidth, edgecolor='grey', label ='testing')\n",
        "    plt.bar(br3, diff, color ='b', width = barwidth, edgecolor ='grey',label ='loss')\n",
        "\n",
        "    # labelling\n",
        "    plt.xticks([r + barwidth for r in range(len(training))],['NB','LOR','QDA','LDA','RF'])\n",
        "    plt.legend()\n",
        "    plt.xlabel(classes)\n",
        "    plt.ylabel('Accuracy')\n",
        "    plt.show()\n",
        "\n",
        "    return fig\n",
        "\n",
        "# inserting all accuracy values into list to be displayed on barplot\n",
        "training_eva = [acc_nb_train, acc_lor_train, acc_qda_train,acc_lda_train,acc_rfc_train]\n",
        "testing_eva = [acc_nb_test, acc_lor_test, acc_qda_test,acc_lda_test,acc_rfc_test]\n",
        "diff_eva = [acc_nb_diff, acc_lor_diff, acc_qda_diff,acc_lda_diff,acc_rfc_diff]\n",
        "\n",
        "# plotting\n",
        "plot = barplot(training_eva,testing_eva,diff_eva, 'Classification Models')\n",
        "plot\n"
      ]
    },
    {
      "cell_type": "markdown",
      "metadata": {
        "id": "gVBj_-197YYc"
      },
      "source": [
        "RF is eliminated due to its high generalisation loss. Among the others, LDA has the best accuracies. Hence, it is chosen."
      ]
    },
    {
      "cell_type": "code",
      "execution_count": null,
      "metadata": {
        "id": "cZBzeDMKteZ9",
        "outputId": "6191d257-f79b-4e86-adb7-5e0b480057d9"
      },
      "outputs": [
        {
          "name": "stdout",
          "output_type": "stream",
          "text": [
            "[0.45897300158814186, 0.6498147167813658, 0.6543144520910534, 0.6503440974060349, 0.8464796188459502]\n",
            "[0.4486772486772487, 0.6571428571428571, 0.6582010582010582, 0.6645502645502646, 0.6433862433862434]\n"
          ]
        }
      ],
      "source": [
        "# double checking the accuracy values\n",
        "print(training_eva)\n",
        "print(testing_eva)"
      ]
    },
    {
      "cell_type": "markdown",
      "metadata": {
        "id": "BRDeh8kC7YYc"
      },
      "source": [
        "# Final Prediction\n",
        "Finally, we have chosen our best performing classification model and we can now use it to make predictions for our final test set."
      ]
    },
    {
      "cell_type": "code",
      "execution_count": null,
      "metadata": {
        "id": "61wc9DLk7YYc"
      },
      "outputs": [],
      "source": [
        "# prepare dataset by inserting columns for features\n",
        "df_predict = pd.read_csv('epl-test.csv')\n",
        "df_teamnames = df_predict.copy()\n",
        "df_teamnames = conv_clubname_to_int(df_teamnames,clubnames)\n",
        "df_predict['EloDiff'] = \"\"\n",
        "df_predict['LastNPoints'] = \"\"\n",
        "df_predict['Ex'] = \"\"\n",
        "df_predict['NetSpend'] = \"\"\n",
        "df_predict['Distance Travelled by Away Team'] = \"\"\n",
        "\n",
        "# inserting all features into their respective columns\n",
        "for n in range(len(df_predict)):\n",
        "    w6 = 0.8 # weightage for home/away elo\n",
        "    w7 = 1-w6 # weightage for avg elo\n",
        "    initial_elohome = (w6 * EloHome_list[df_teamnames.iloc[n,1]]) + (w7 * EloAvg_list[df_teamnames.iloc[n,1]])\n",
        "    initial_eloaway = (w6 * EloAway_list[df_teamnames.iloc[n,2]]) + (w7 * EloAvg_list[df_teamnames.iloc[n,2]])\n",
        "    elodiff = initial_elohome - initial_eloaway\n",
        "    df_predict.iloc[n,3] = elodiff\n",
        "    lastNPoints = lastNPoints_df_test.iloc[n,0] - lastNPoints_df_test.iloc[n,1]\n",
        "    Ex = spending_df_test.iloc[n,0]-spending_df_test.iloc[n,2]\n",
        "    Spending = spending_df_test.iloc[n,1]-spending_df_test.iloc[n,3]\n",
        "    Dist = dist_df_test.iloc[n,0]\n",
        "    df_predict.iloc[n,4] = lastNPoints\n",
        "    df_predict.iloc[n,5] = Ex\n",
        "    df_predict.iloc[n,6] = Spending\n",
        "    df_predict.iloc[n,7] = Dist\n",
        "\n",
        "df_predict\n",
        "\n",
        "# drop date, home and away teams from our feature dataset as they should not affect the output\n",
        "x_predict = df_predict.drop(['Date','HomeTeam','AwayTeam'],axis = 1)\n",
        "\n",
        "# standardise\n",
        "x_predict_scale = scaler.fit_transform(x_predict)"
      ]
    },
    {
      "cell_type": "code",
      "execution_count": null,
      "metadata": {
        "id": "AN-Q8J877YYc",
        "outputId": "e394fc42-34dc-4846-a71d-a764298b9b8a"
      },
      "outputs": [
        {
          "name": "stdout",
          "output_type": "stream",
          "text": [
            "predicted outcomes:  ['A' 'H' 'H' 'A' 'H' 'H' 'A' 'H' 'H' 'A']\n",
            "confidence level of predicted outcomes:  [[0.726 0.18  0.095]\n",
            " [0.002 0.194 0.803]\n",
            " [0.003 0.191 0.806]\n",
            " [0.449 0.336 0.216]\n",
            " [0.291 0.35  0.359]\n",
            " [0.005 0.194 0.801]\n",
            " [0.986 0.012 0.002]\n",
            " [0.033 0.286 0.681]\n",
            " [0.052 0.278 0.67 ]\n",
            " [0.601 0.236 0.162]]\n"
          ]
        }
      ],
      "source": [
        "# perform final prediction with the chosen LDA model\n",
        "y_predict = lda_fit.predict(x_predict_scale)\n",
        "y_prob = lda_fit.predict_proba(x_predict_scale)\n",
        "print('predicted outcomes: ',y_predict)\n",
        "print('confidence level of predicted outcomes: ',y_prob)"
      ]
    },
    {
      "cell_type": "code",
      "execution_count": null,
      "metadata": {
        "id": "23Aa5fQW7YYc",
        "outputId": "f477acbd-eeec-48e1-fc80-c3bf4c05c3b4"
      },
      "outputs": [
        {
          "data": {
            "text/html": [
              "<div>\n",
              "<style scoped>\n",
              "    .dataframe tbody tr th:only-of-type {\n",
              "        vertical-align: middle;\n",
              "    }\n",
              "\n",
              "    .dataframe tbody tr th {\n",
              "        vertical-align: top;\n",
              "    }\n",
              "\n",
              "    .dataframe thead th {\n",
              "        text-align: right;\n",
              "    }\n",
              "</style>\n",
              "<table border=\"1\" class=\"dataframe\">\n",
              "  <thead>\n",
              "    <tr style=\"text-align: right;\">\n",
              "      <th></th>\n",
              "      <th>HomeTeam</th>\n",
              "      <th>AwayTeam</th>\n",
              "      <th>FTR</th>\n",
              "      <th>Probability of H</th>\n",
              "      <th>Probability of D</th>\n",
              "      <th>Probability of A</th>\n",
              "    </tr>\n",
              "    <tr>\n",
              "      <th>Date</th>\n",
              "      <th></th>\n",
              "      <th></th>\n",
              "      <th></th>\n",
              "      <th></th>\n",
              "      <th></th>\n",
              "      <th></th>\n",
              "    </tr>\n",
              "  </thead>\n",
              "  <tbody>\n",
              "    <tr>\n",
              "      <th>15-01-22</th>\n",
              "      <td>Aston Villa</td>\n",
              "      <td>Man United</td>\n",
              "      <td>A</td>\n",
              "      <td>0.094587</td>\n",
              "      <td>0.179893</td>\n",
              "      <td>0.725520</td>\n",
              "    </tr>\n",
              "    <tr>\n",
              "      <th>15-01-22</th>\n",
              "      <td>West Ham</td>\n",
              "      <td>Leeds</td>\n",
              "      <td>H</td>\n",
              "      <td>0.803488</td>\n",
              "      <td>0.194201</td>\n",
              "      <td>0.002312</td>\n",
              "    </tr>\n",
              "    <tr>\n",
              "      <th>15-01-22</th>\n",
              "      <td>Norwich</td>\n",
              "      <td>Everton</td>\n",
              "      <td>H</td>\n",
              "      <td>0.805931</td>\n",
              "      <td>0.190682</td>\n",
              "      <td>0.003387</td>\n",
              "    </tr>\n",
              "    <tr>\n",
              "      <th>15-01-22</th>\n",
              "      <td>Brighton</td>\n",
              "      <td>Crystal Palace</td>\n",
              "      <td>A</td>\n",
              "      <td>0.215703</td>\n",
              "      <td>0.335643</td>\n",
              "      <td>0.448654</td>\n",
              "    </tr>\n",
              "    <tr>\n",
              "      <th>15-01-22</th>\n",
              "      <td>Wolves</td>\n",
              "      <td>Southampton</td>\n",
              "      <td>H</td>\n",
              "      <td>0.358869</td>\n",
              "      <td>0.350272</td>\n",
              "      <td>0.290859</td>\n",
              "    </tr>\n",
              "    <tr>\n",
              "      <th>15-01-22</th>\n",
              "      <td>Liverpool</td>\n",
              "      <td>Brentford</td>\n",
              "      <td>H</td>\n",
              "      <td>0.800754</td>\n",
              "      <td>0.193959</td>\n",
              "      <td>0.005287</td>\n",
              "    </tr>\n",
              "    <tr>\n",
              "      <th>15-01-22</th>\n",
              "      <td>Tottenham</td>\n",
              "      <td>Arsenal</td>\n",
              "      <td>A</td>\n",
              "      <td>0.001936</td>\n",
              "      <td>0.012074</td>\n",
              "      <td>0.985990</td>\n",
              "    </tr>\n",
              "    <tr>\n",
              "      <th>15-01-22</th>\n",
              "      <td>Man City</td>\n",
              "      <td>Chelsea</td>\n",
              "      <td>H</td>\n",
              "      <td>0.681126</td>\n",
              "      <td>0.286167</td>\n",
              "      <td>0.032706</td>\n",
              "    </tr>\n",
              "    <tr>\n",
              "      <th>15-01-22</th>\n",
              "      <td>Newcastle</td>\n",
              "      <td>Watford</td>\n",
              "      <td>H</td>\n",
              "      <td>0.670242</td>\n",
              "      <td>0.278092</td>\n",
              "      <td>0.051666</td>\n",
              "    </tr>\n",
              "    <tr>\n",
              "      <th>15-01-22</th>\n",
              "      <td>Burnley</td>\n",
              "      <td>Leicester</td>\n",
              "      <td>A</td>\n",
              "      <td>0.162456</td>\n",
              "      <td>0.236062</td>\n",
              "      <td>0.601482</td>\n",
              "    </tr>\n",
              "  </tbody>\n",
              "</table>\n",
              "</div>"
            ],
            "text/plain": [
              "             HomeTeam        AwayTeam FTR  Probability of H  Probability of D  \\\n",
              "Date                                                                            \n",
              "15-01-22  Aston Villa      Man United   A          0.094587          0.179893   \n",
              "15-01-22     West Ham           Leeds   H          0.803488          0.194201   \n",
              "15-01-22      Norwich         Everton   H          0.805931          0.190682   \n",
              "15-01-22     Brighton  Crystal Palace   A          0.215703          0.335643   \n",
              "15-01-22       Wolves     Southampton   H          0.358869          0.350272   \n",
              "15-01-22    Liverpool       Brentford   H          0.800754          0.193959   \n",
              "15-01-22    Tottenham         Arsenal   A          0.001936          0.012074   \n",
              "15-01-22     Man City         Chelsea   H          0.681126          0.286167   \n",
              "15-01-22    Newcastle         Watford   H          0.670242          0.278092   \n",
              "15-01-22      Burnley       Leicester   A          0.162456          0.236062   \n",
              "\n",
              "          Probability of A  \n",
              "Date                        \n",
              "15-01-22          0.725520  \n",
              "15-01-22          0.002312  \n",
              "15-01-22          0.003387  \n",
              "15-01-22          0.448654  \n",
              "15-01-22          0.290859  \n",
              "15-01-22          0.005287  \n",
              "15-01-22          0.985990  \n",
              "15-01-22          0.032706  \n",
              "15-01-22          0.051666  \n",
              "15-01-22          0.601482  "
            ]
          },
          "execution_count": 324,
          "metadata": {},
          "output_type": "execute_result"
        }
      ],
      "source": [
        "# present predictions in a table with date, home and away teams\n",
        "Submission_results=pd.read_csv('epl-test.csv',index_col=0, encoding='ISO-8859-1')\n",
        "Submission_results['FTR'] = y_predict\n",
        "Submission_results['Probability of H'] = y_prob[:,2]\n",
        "Submission_results['Probability of D'] = y_prob[:,1]\n",
        "Submission_results['Probability of A'] = y_prob[:,0]\n",
        "Submission_results"
      ]
    },
    {
      "cell_type": "code",
      "execution_count": null,
      "metadata": {
        "id": "krLueNT57YYc"
      },
      "outputs": [],
      "source": [
        "# export results to csv file\n",
        "Submission_results.to_csv (r'Submission_results.csv', index = True, header=True)"
      ]
    }
  ],
  "metadata": {
    "colab": {
      "provenance": [],
      "include_colab_link": true
    },
    "kernelspec": {
      "display_name": "Python 3",
      "language": "python",
      "name": "python3"
    },
    "language_info": {
      "codemirror_mode": {
        "name": "ipython",
        "version": 3
      },
      "file_extension": ".py",
      "mimetype": "text/x-python",
      "name": "python",
      "nbconvert_exporter": "python",
      "pygments_lexer": "ipython3",
      "version": "3.8.5"
    }
  },
  "nbformat": 4,
  "nbformat_minor": 0
}